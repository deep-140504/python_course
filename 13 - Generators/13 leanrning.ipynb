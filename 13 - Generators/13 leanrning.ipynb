{
 "cells": [
  {
   "cell_type": "raw",
   "id": "d3914522-f610-4dec-ba2f-e9599691d572",
   "metadata": {},
   "source": [
    "Generator function allow us to write a function that can send back a value and then later resume to pick up where it left off\n",
    "generator allow us to generate the sequence of values over time instead of having to create an entire sequence and hold it in memory\n",
    "the main difference in syntax when youre programming is the use of a yield keyword statement\n",
    "\n",
    "when generator functoin is compiled they become an object that supports an interation protocol\n",
    "that means when they are called in your code they do not actually return a value and the exit\n",
    "\n",
    "instead the generator function will automatically suspend and resume their execution and state around the last point of value generation\n",
    "\n",
    "the advantage is that instead of having to compute an entire series of value up frony, the generator computes one value waits untill the next value is called for \n",
    "\n",
    "so it basically instead of prosucing the giant list of numbers, it tracks the last number and the step size, to provide a flow of numbers\n",
    "\n",
    "the range() is itself a generator\n",
    "\n"
   ]
  },
  {
   "cell_type": "code",
   "execution_count": 1,
   "id": "cad9e62e-979a-4d7c-8295-6ae2fb2edff7",
   "metadata": {},
   "outputs": [
    {
     "name": "stdout",
     "output_type": "stream",
     "text": [
      "0\n",
      "1\n",
      "8\n",
      "27\n",
      "64\n",
      "125\n",
      "216\n",
      "343\n",
      "512\n",
      "729\n"
     ]
    }
   ],
   "source": [
    "def create_cube(n):\n",
    "    result = []\n",
    "    for x in range(n):\n",
    "        result.append(x ** 3)\n",
    "    return result\n",
    "for x in create_cube(10):\n",
    "    print(x)"
   ]
  },
  {
   "cell_type": "raw",
   "id": "f5a472bd-9340-4bcc-9437-3804de2d693d",
   "metadata": {},
   "source": [
    "we actually needed only one value to print them , we did not need the whole list of values, so instead of creating all this giant number of memory, we just need the previous values and yield the next one"
   ]
  },
  {
   "cell_type": "code",
   "execution_count": 7,
   "id": "50cc4067-e507-4345-bd12-a3c103c40d9f",
   "metadata": {},
   "outputs": [
    {
     "name": "stdout",
     "output_type": "stream",
     "text": [
      "0\n",
      "1\n",
      "8\n",
      "27\n",
      "64\n",
      "125\n",
      "216\n",
      "343\n",
      "512\n",
      "729\n"
     ]
    }
   ],
   "source": [
    "#so this is the modified code where there is not need of the list, instead just\n",
    "#yielding the values and it gives the same o/p as a previous one\n",
    "#generating value as u need them\n",
    "def create_cube(n):\n",
    "    for x in range(n):\n",
    "        yield(x ** 3)\n",
    "for x in create_cube(10):\n",
    "    print(x)\n",
    "\n",
    "#u can do, list(create_cube(10))\n",
    "#this will give the list but whole point of the yield is that not storing the value"
   ]
  },
  {
   "cell_type": "code",
   "execution_count": 9,
   "id": "aa85c91a-1f01-4644-b2a5-53726341231f",
   "metadata": {},
   "outputs": [],
   "source": [
    "def gen_fib(n):\n",
    "    a = 1\n",
    "    b = 1\n",
    "    for i in range(n):\n",
    "        yield a\n",
    "        a, b = b, a + b"
   ]
  },
  {
   "cell_type": "code",
   "execution_count": 11,
   "id": "c9d07aa9-e28c-4790-ae97-4580bf8bb585",
   "metadata": {},
   "outputs": [
    {
     "name": "stdout",
     "output_type": "stream",
     "text": [
      "1\n",
      "1\n",
      "2\n",
      "3\n",
      "5\n",
      "8\n",
      "13\n",
      "21\n",
      "34\n",
      "55\n"
     ]
    }
   ],
   "source": [
    "for num in gen_fib(10):\n",
    "    print(num)"
   ]
  },
  {
   "cell_type": "code",
   "execution_count": 15,
   "id": "16c9495d-0ba2-413f-a676-a879ab5b93b4",
   "metadata": {},
   "outputs": [
    {
     "name": "stdout",
     "output_type": "stream",
     "text": [
      "0\n",
      "1\n",
      "2\n"
     ]
    }
   ],
   "source": [
    "def simple_gen():\n",
    "    for x in range(3):\n",
    "        yield x\n",
    "for n in simple_gen():\n",
    "    print(n)"
   ]
  },
  {
   "cell_type": "code",
   "execution_count": 23,
   "id": "6535bc4d-5191-4825-bfa3-e1b0bee3e518",
   "metadata": {},
   "outputs": [
    {
     "name": "stdout",
     "output_type": "stream",
     "text": [
      "0\n"
     ]
    }
   ],
   "source": [
    "g = simple_gen()\n",
    "print(next(g))"
   ]
  },
  {
   "cell_type": "code",
   "execution_count": 25,
   "id": "45f181eb-b2b0-4d36-808a-ea0baed4ed3d",
   "metadata": {},
   "outputs": [
    {
     "name": "stdout",
     "output_type": "stream",
     "text": [
      "1\n"
     ]
    }
   ],
   "source": [
    "print(next(g))"
   ]
  },
  {
   "cell_type": "code",
   "execution_count": 27,
   "id": "a0413970-5eca-44d1-937f-48870d77c452",
   "metadata": {},
   "outputs": [
    {
     "name": "stdout",
     "output_type": "stream",
     "text": [
      "2\n"
     ]
    }
   ],
   "source": [
    "print(next(g))"
   ]
  },
  {
   "cell_type": "code",
   "execution_count": 31,
   "id": "78d9cce3-ef60-4e6c-8f06-2974439e6c4b",
   "metadata": {},
   "outputs": [
    {
     "ename": "StopIteration",
     "evalue": "",
     "output_type": "error",
     "traceback": [
      "\u001b[1;31m---------------------------------------------------------------------------\u001b[0m",
      "\u001b[1;31mStopIteration\u001b[0m                             Traceback (most recent call last)",
      "Cell \u001b[1;32mIn[31], line 1\u001b[0m\n\u001b[1;32m----> 1\u001b[0m \u001b[38;5;28mprint\u001b[39m(\u001b[38;5;28mnext\u001b[39m(g))\n",
      "\u001b[1;31mStopIteration\u001b[0m: "
     ]
    }
   ],
   "source": [
    "print(next(g))\n",
    "# this gives error because we are calling upon the function for the value where it is not defined"
   ]
  },
  {
   "cell_type": "code",
   "execution_count": 33,
   "id": "e14bfdfb-7d6a-4eea-a5d2-47718e52313f",
   "metadata": {},
   "outputs": [
    {
     "ename": "StopIteration",
     "evalue": "",
     "output_type": "error",
     "traceback": [
      "\u001b[1;31m---------------------------------------------------------------------------\u001b[0m",
      "\u001b[1;31mStopIteration\u001b[0m                             Traceback (most recent call last)",
      "Cell \u001b[1;32mIn[33], line 1\u001b[0m\n\u001b[1;32m----> 1\u001b[0m \u001b[38;5;28mprint\u001b[39m(\u001b[38;5;28mnext\u001b[39m(g))\n",
      "\u001b[1;31mStopIteration\u001b[0m: "
     ]
    }
   ],
   "source": [
    "print(next(g))\n"
   ]
  },
  {
   "cell_type": "code",
   "execution_count": null,
   "id": "40190cd9-646a-47c1-98d0-aa94859fd62f",
   "metadata": {},
   "outputs": [],
   "source": []
  },
  {
   "cell_type": "code",
   "execution_count": 36,
   "id": "32edce78-36d2-4e5b-8ac5-1c445131a04e",
   "metadata": {},
   "outputs": [],
   "source": [
    "s = \"hello\""
   ]
  },
  {
   "cell_type": "code",
   "execution_count": 38,
   "id": "68b4b022-06dd-4d98-babe-32c905d2a353",
   "metadata": {},
   "outputs": [
    {
     "name": "stdout",
     "output_type": "stream",
     "text": [
      "h\n",
      "e\n",
      "l\n",
      "l\n",
      "o\n"
     ]
    }
   ],
   "source": [
    "for l in s:\n",
    "    print(l)"
   ]
  },
  {
   "cell_type": "code",
   "execution_count": 44,
   "id": "bf650d1f-52c7-4157-8a48-d45de97e99e8",
   "metadata": {},
   "outputs": [
    {
     "data": {
      "text/plain": [
       "'h'"
      ]
     },
     "execution_count": 44,
     "metadata": {},
     "output_type": "execute_result"
    }
   ],
   "source": [
    "# next(s)\n",
    "# this will say, 'str' object is not an iterator \n",
    "# even though the string supports the iteration but we can not directly iterate on the same\n",
    "# we have to make it iterable to do so\n",
    "s_iter = iter(s)\n",
    "next(s_iter)"
   ]
  },
  {
   "cell_type": "code",
   "execution_count": 46,
   "id": "b68aa7e3-88e6-4598-8941-eaf487f969be",
   "metadata": {},
   "outputs": [
    {
     "data": {
      "text/plain": [
       "'e'"
      ]
     },
     "execution_count": 46,
     "metadata": {},
     "output_type": "execute_result"
    }
   ],
   "source": [
    "\n",
    "next(s_iter)"
   ]
  },
  {
   "cell_type": "code",
   "execution_count": 48,
   "id": "a3553601-895a-430d-a9e6-37df8b374d19",
   "metadata": {},
   "outputs": [
    {
     "data": {
      "text/plain": [
       "'l'"
      ]
     },
     "execution_count": 48,
     "metadata": {},
     "output_type": "execute_result"
    }
   ],
   "source": [
    "\n",
    "next(s_iter)"
   ]
  },
  {
   "cell_type": "code",
   "execution_count": 50,
   "id": "81050168-64f3-4342-b7c8-d4cc266bcbb3",
   "metadata": {},
   "outputs": [
    {
     "data": {
      "text/plain": [
       "'l'"
      ]
     },
     "execution_count": 50,
     "metadata": {},
     "output_type": "execute_result"
    }
   ],
   "source": [
    "\n",
    "next(s_iter)"
   ]
  },
  {
   "cell_type": "code",
   "execution_count": 52,
   "id": "773884dc-1f9e-4d24-b42e-6560ebc76007",
   "metadata": {},
   "outputs": [
    {
     "data": {
      "text/plain": [
       "'o'"
      ]
     },
     "execution_count": 52,
     "metadata": {},
     "output_type": "execute_result"
    }
   ],
   "source": [
    "\n",
    "next(s_iter)"
   ]
  },
  {
   "cell_type": "code",
   "execution_count": 54,
   "id": "42bff594-f29a-433e-847f-c12bbdcd39c5",
   "metadata": {},
   "outputs": [
    {
     "ename": "StopIteration",
     "evalue": "",
     "output_type": "error",
     "traceback": [
      "\u001b[1;31m---------------------------------------------------------------------------\u001b[0m",
      "\u001b[1;31mStopIteration\u001b[0m                             Traceback (most recent call last)",
      "Cell \u001b[1;32mIn[54], line 1\u001b[0m\n\u001b[1;32m----> 1\u001b[0m \u001b[38;5;28mnext\u001b[39m(s_iter)\n",
      "\u001b[1;31mStopIteration\u001b[0m: "
     ]
    }
   ],
   "source": [
    "\n",
    "next(s_iter)"
   ]
  },
  {
   "cell_type": "code",
   "execution_count": null,
   "id": "0bb76949-f3dd-4d3e-97ff-174c10f257fa",
   "metadata": {},
   "outputs": [],
   "source": []
  }
 ],
 "metadata": {
  "kernelspec": {
   "display_name": "Python [conda env:base] *",
   "language": "python",
   "name": "conda-base-py"
  },
  "language_info": {
   "codemirror_mode": {
    "name": "ipython",
    "version": 3
   },
   "file_extension": ".py",
   "mimetype": "text/x-python",
   "name": "python",
   "nbconvert_exporter": "python",
   "pygments_lexer": "ipython3",
   "version": "3.12.7"
  }
 },
 "nbformat": 4,
 "nbformat_minor": 5
}
