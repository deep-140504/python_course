{
 "cells": [
  {
   "cell_type": "raw",
   "id": "965da647-f1fa-47cc-9ec0-a6da2a1a7c80",
   "metadata": {},
   "source": [
    "python hasdecorators that allow you to tack on extra functionality to and alreadt existing functon\n",
    "They use the @ operator and are then placed on top of the original function\n",
    "this idead is preet avstract in practise with python syntax"
   ]
  },
  {
   "cell_type": "code",
   "execution_count": null,
   "id": "909a04c8-f830-4149-b0b0-c90960a0ddc5",
   "metadata": {},
   "outputs": [],
   "source": []
  },
  {
   "cell_type": "code",
   "execution_count": 1,
   "id": "ce0d1f47-e168-414b-86cf-343c81941011",
   "metadata": {},
   "outputs": [],
   "source": [
    "def func():\n",
    "    return 1\n",
    "    "
   ]
  },
  {
   "cell_type": "code",
   "execution_count": 3,
   "id": "c5b19df6-2c04-4f4b-9e54-b8f6a6375c98",
   "metadata": {},
   "outputs": [
    {
     "data": {
      "text/plain": [
       "1"
      ]
     },
     "execution_count": 3,
     "metadata": {},
     "output_type": "execute_result"
    }
   ],
   "source": [
    "func()"
   ]
  },
  {
   "cell_type": "code",
   "execution_count": 5,
   "id": "a8ee7ba6-db88-4835-b0aa-0c8eeb4cad0d",
   "metadata": {},
   "outputs": [],
   "source": [
    "def hello():\n",
    "    return \"hello\""
   ]
  },
  {
   "cell_type": "code",
   "execution_count": 7,
   "id": "c4d7f84c-74c1-40de-8572-6079b7a2f286",
   "metadata": {},
   "outputs": [
    {
     "data": {
      "text/plain": [
       "'hello'"
      ]
     },
     "execution_count": 7,
     "metadata": {},
     "output_type": "execute_result"
    }
   ],
   "source": [
    "hello()"
   ]
  },
  {
   "cell_type": "code",
   "execution_count": 13,
   "id": "d9f3d8ca-18b5-40b3-b830-4038b9241098",
   "metadata": {},
   "outputs": [],
   "source": [
    "greet = hello"
   ]
  },
  {
   "cell_type": "code",
   "execution_count": 15,
   "id": "c3b3f70f-999b-4d64-a0d9-6483efe50567",
   "metadata": {},
   "outputs": [
    {
     "data": {
      "text/plain": [
       "'hello'"
      ]
     },
     "execution_count": 15,
     "metadata": {},
     "output_type": "execute_result"
    }
   ],
   "source": [
    "greet()"
   ]
  },
  {
   "cell_type": "raw",
   "id": "d1213142-ecec-4546-bfc8-82f267944d33",
   "metadata": {},
   "source": [
    "the thing here we need to understand regarding is the \"greet\" has created its own copy of the greet function or it calling the hello through hello\n",
    "for that we need to delete the hello"
   ]
  },
  {
   "cell_type": "code",
   "execution_count": 17,
   "id": "49a78c0f-9b07-4dad-b5c4-711c220de9db",
   "metadata": {},
   "outputs": [
    {
     "data": {
      "text/plain": [
       "'hello'"
      ]
     },
     "execution_count": 17,
     "metadata": {},
     "output_type": "execute_result"
    }
   ],
   "source": [
    "hello()"
   ]
  },
  {
   "cell_type": "code",
   "execution_count": 19,
   "id": "fea6e3bd-5485-4e40-9a8a-789372137632",
   "metadata": {},
   "outputs": [],
   "source": [
    "del hello"
   ]
  },
  {
   "cell_type": "code",
   "execution_count": 21,
   "id": "592986ef-44c3-47d0-aef2-28deacfc6d8c",
   "metadata": {},
   "outputs": [
    {
     "ename": "NameError",
     "evalue": "name 'hello' is not defined",
     "output_type": "error",
     "traceback": [
      "\u001b[1;31m---------------------------------------------------------------------------\u001b[0m",
      "\u001b[1;31mNameError\u001b[0m                                 Traceback (most recent call last)",
      "Cell \u001b[1;32mIn[21], line 1\u001b[0m\n\u001b[1;32m----> 1\u001b[0m hello()\n",
      "\u001b[1;31mNameError\u001b[0m: name 'hello' is not defined"
     ]
    }
   ],
   "source": [
    "hello()\n",
    "#now the hello is deleted so on calling u get the error"
   ]
  },
  {
   "cell_type": "code",
   "execution_count": 23,
   "id": "5c82ed27-2cc0-447e-94bc-a0f44ae92797",
   "metadata": {},
   "outputs": [
    {
     "data": {
      "text/plain": [
       "'hello'"
      ]
     },
     "execution_count": 23,
     "metadata": {},
     "output_type": "execute_result"
    }
   ],
   "source": [
    "greet()\n",
    "# so the thing here to notice is, even after calling the greet()\n",
    "# after deleting the hello function it is able to return a \"hello\"\n",
    "# so the greet() is making copy of hello() function"
   ]
  },
  {
   "cell_type": "code",
   "execution_count": null,
   "id": "c66b7520-f257-4d67-b434-b3b4b15945d8",
   "metadata": {},
   "outputs": [],
   "source": []
  },
  {
   "cell_type": "code",
   "execution_count": null,
   "id": "b4c355b6-26ab-42ec-afda-138ac18af1a8",
   "metadata": {},
   "outputs": [],
   "source": []
  },
  {
   "cell_type": "code",
   "execution_count": null,
   "id": "e870109e-642d-4ac3-b455-96b61c76e13b",
   "metadata": {},
   "outputs": [],
   "source": []
  },
  {
   "cell_type": "code",
   "execution_count": null,
   "id": "52eb5511-11eb-4736-99fb-e89f3a1e577e",
   "metadata": {},
   "outputs": [],
   "source": []
  },
  {
   "cell_type": "code",
   "execution_count": null,
   "id": "0da870f7-1f5f-41c5-a884-00d9aeb9c565",
   "metadata": {},
   "outputs": [],
   "source": []
  },
  {
   "cell_type": "code",
   "execution_count": null,
   "id": "c7946201-46c4-44c3-98f9-3266e18664ac",
   "metadata": {},
   "outputs": [],
   "source": []
  },
  {
   "cell_type": "code",
   "execution_count": null,
   "id": "ba166f90-8dd3-45af-abf6-6f1b74b25b7d",
   "metadata": {},
   "outputs": [],
   "source": []
  },
  {
   "cell_type": "code",
   "execution_count": null,
   "id": "23d7abcf-39ef-45f0-a88e-58f722aad942",
   "metadata": {},
   "outputs": [],
   "source": []
  },
  {
   "cell_type": "code",
   "execution_count": null,
   "id": "a852cc37-b139-4e59-9568-485c5b98cd86",
   "metadata": {},
   "outputs": [],
   "source": []
  },
  {
   "cell_type": "code",
   "execution_count": null,
   "id": "fd4e61c1-d853-4845-922a-bcc01a9a8d0a",
   "metadata": {},
   "outputs": [],
   "source": []
  },
  {
   "cell_type": "code",
   "execution_count": 41,
   "id": "f737d1e4-f85f-4cab-8861-9f8e745adc9c",
   "metadata": {},
   "outputs": [
    {
     "name": "stdout",
     "output_type": "stream",
     "text": [
      "The hello() function has been executed\n",
      "\t this is a greet() function inside the hello\n",
      "\t this is a welcome() function inside the hello\n",
      "this is the end of the hello function\n"
     ]
    }
   ],
   "source": [
    "def hello(name = \"Jose\"):\n",
    "    print(\"The hello() function has been executed\")\n",
    "\n",
    "    def greet():\n",
    "        return '\\t this is a greet() function inside the hello' \n",
    "    def welcome():\n",
    "        return '\\t this is a welcome() function inside the hello'\n",
    "    print(greet())\n",
    "    print(welcome())\n",
    "    print(\"this is the end of the hello function\")\n",
    "\n",
    "hello()\n",
    "\n",
    "## here it is not possible to call the greet and welcome function \n",
    "# outisde of the hello() function as the scope of both the function is limited inside of the \n",
    "# hello() function, execution will only be posible only if the hello returns both the functionalities\n"
   ]
  },
  {
   "cell_type": "code",
   "execution_count": 43,
   "id": "77e6664b-d7f8-4263-a77f-65ec67da20ff",
   "metadata": {},
   "outputs": [
    {
     "name": "stdout",
     "output_type": "stream",
     "text": [
      "The hello() function has been executed\n",
      "I am going to return a function\n"
     ]
    }
   ],
   "source": [
    "def hello(name = \"Jose\"):\n",
    "    print(\"The hello() function has been executed\")\n",
    "\n",
    "    def greet():\n",
    "        return '\\t this is a greet() function inside the hello' \n",
    "    def welcome():\n",
    "        return '\\t this is a welcome() function inside the hello'\n",
    "    print(\"I am going to return a function\")\n",
    "    if(name == \"Jose\") :\n",
    "        return greet\n",
    "    else:\n",
    "        return welcome\n",
    "\n",
    "my_new_func = hello()\n"
   ]
  },
  {
   "cell_type": "code",
   "execution_count": 47,
   "id": "3b78c5ac-5585-4319-a5b9-0e0a6ecde744",
   "metadata": {},
   "outputs": [
    {
     "name": "stdout",
     "output_type": "stream",
     "text": [
      "\t this is a greet() function inside the hello\n"
     ]
    }
   ],
   "source": [
    "print(my_new_func())"
   ]
  },
  {
   "cell_type": "code",
   "execution_count": 49,
   "id": "6f42df36-ba6d-4d70-9e9d-21c5ab80a51b",
   "metadata": {},
   "outputs": [],
   "source": [
    "def cool():\n",
    "    def super_cool():\n",
    "        return \"I am very cool\"\n",
    "    return super_cool"
   ]
  },
  {
   "cell_type": "code",
   "execution_count": 51,
   "id": "a56cf006-618b-4369-9ce0-3a88faefd9a0",
   "metadata": {},
   "outputs": [
    {
     "data": {
      "text/plain": [
       "'I am very cool'"
      ]
     },
     "execution_count": 51,
     "metadata": {},
     "output_type": "execute_result"
    }
   ],
   "source": [
    "some_func = cool()\n",
    "some_func()"
   ]
  },
  {
   "cell_type": "code",
   "execution_count": null,
   "id": "b17608c9-72a6-4384-ac15-dcf058ebccb3",
   "metadata": {},
   "outputs": [],
   "source": []
  },
  {
   "cell_type": "code",
   "execution_count": null,
   "id": "a6feb16b-a83d-4fb1-ad78-17309d45e05f",
   "metadata": {},
   "outputs": [],
   "source": []
  },
  {
   "cell_type": "code",
   "execution_count": null,
   "id": "e625591c-27ca-4e28-acc6-d41094ff98e5",
   "metadata": {},
   "outputs": [],
   "source": []
  },
  {
   "cell_type": "code",
   "execution_count": null,
   "id": "794f59cb-0ffe-4d2c-a00c-53ba14bb3425",
   "metadata": {},
   "outputs": [],
   "source": []
  },
  {
   "cell_type": "code",
   "execution_count": null,
   "id": "15a1df56-3982-4e23-9ea9-e165e6375054",
   "metadata": {},
   "outputs": [],
   "source": []
  },
  {
   "cell_type": "code",
   "execution_count": 58,
   "id": "c3d77d45-a4d9-4a74-8772-8c0f31aa5704",
   "metadata": {},
   "outputs": [
    {
     "name": "stdout",
     "output_type": "stream",
     "text": [
      "other code runs here\n",
      "hi jose\n"
     ]
    }
   ],
   "source": [
    "def hello():\n",
    "    return \"hi jose\"\n",
    "\n",
    "#this is passing function as an argument\n",
    "def other(some_def_func):\n",
    "    print(\"other code runs here\")\n",
    "    print(some_def_func())\n",
    "\n",
    "other(hello)"
   ]
  },
  {
   "cell_type": "code",
   "execution_count": null,
   "id": "0b13923a-191b-4264-bbe2-9a4b098016ac",
   "metadata": {},
   "outputs": [],
   "source": []
  },
  {
   "cell_type": "code",
   "execution_count": null,
   "id": "fa13ff59-3515-4892-a8b7-4e92fcc93c82",
   "metadata": {},
   "outputs": [],
   "source": []
  },
  {
   "cell_type": "code",
   "execution_count": null,
   "id": "d240141b-88af-4187-9b5b-dd67b8fe5aa2",
   "metadata": {},
   "outputs": [],
   "source": []
  },
  {
   "cell_type": "code",
   "execution_count": null,
   "id": "2550a82a-ccae-4c2e-ae7b-3488ece35597",
   "metadata": {},
   "outputs": [],
   "source": []
  },
  {
   "cell_type": "code",
   "execution_count": null,
   "id": "a948a5d5-e54e-40f1-bdf8-298eaf16a612",
   "metadata": {},
   "outputs": [],
   "source": []
  },
  {
   "cell_type": "code",
   "execution_count": null,
   "id": "12bf4b68-435f-4f71-95c0-0234743b2d08",
   "metadata": {},
   "outputs": [],
   "source": []
  },
  {
   "cell_type": "code",
   "execution_count": 77,
   "id": "9765a9e9-c8e2-454b-b1ab-5004711d1c14",
   "metadata": {},
   "outputs": [],
   "source": [
    "#decorators\n",
    "def new_decorator(original_func):\n",
    "    def wrap_func():\n",
    "        print(\"some extra code, before the original function\")\n",
    "        original_func()\n",
    "        print(\"some extra code, after the original function\")\n",
    "    return wrap_func\n",
    "\n",
    "    #so you can kind of think about this as the idea of present wuth some wrapping paper\n",
    "    #the actual original function is the present, and then we're going to essentially put it inside a box\n",
    "    #so you are kind of decorating the function with some wrapping paper\n",
    "    #the way the wrapping paper is the extra code, that can go on top of the functon before or after the function below it\n",
    "    "
   ]
  },
  {
   "cell_type": "code",
   "execution_count": 79,
   "id": "f2547257-1ed7-43c8-846f-a589b897cabe",
   "metadata": {},
   "outputs": [
    {
     "name": "stdout",
     "output_type": "stream",
     "text": [
      "I want to be decorated\n"
     ]
    }
   ],
   "source": [
    "def func_need_decorator():\n",
    "    print(\"I want to be decorated\")\n",
    "\n",
    "func_need_decorator()"
   ]
  },
  {
   "cell_type": "code",
   "execution_count": 81,
   "id": "66a8cb22-48e9-4d6f-9b75-337bc7bb3278",
   "metadata": {},
   "outputs": [
    {
     "name": "stdout",
     "output_type": "stream",
     "text": [
      "some extra code, before the original function\n",
      "I want to be decorated\n",
      "some extra code, after the original function\n"
     ]
    }
   ],
   "source": [
    "decorated_function = new_decorator(func_need_decorator)\n",
    "decorated_function()"
   ]
  },
  {
   "cell_type": "markdown",
   "id": "5c46194e-9aee-4ba1-8684-93362028e214",
   "metadata": {},
   "source": [
    "#### so whatever is done above has a little complicated syntax so to avoid the same there is a way using the \"@\" operator"
   ]
  },
  {
   "cell_type": "code",
   "execution_count": 89,
   "id": "729126a3-0402-4031-a7cb-c08c8e2a8976",
   "metadata": {},
   "outputs": [
    {
     "name": "stdout",
     "output_type": "stream",
     "text": [
      "some extra code, before the original function\n",
      "I want to be decorated\n",
      "some extra code, after the original function\n"
     ]
    }
   ],
   "source": [
    "@new_decorator\n",
    "#comment the above line as per the requirement\n",
    "def func_needs_decorator():\n",
    "    print(\"I want to be decorated\")\n",
    "func_needs_decorator()"
   ]
  },
  {
   "cell_type": "code",
   "execution_count": null,
   "id": "95ef9e46-b258-48b0-b35a-8f2dd47be32f",
   "metadata": {},
   "outputs": [],
   "source": []
  }
 ],
 "metadata": {
  "kernelspec": {
   "display_name": "Python [conda env:base] *",
   "language": "python",
   "name": "conda-base-py"
  },
  "language_info": {
   "codemirror_mode": {
    "name": "ipython",
    "version": 3
   },
   "file_extension": ".py",
   "mimetype": "text/x-python",
   "name": "python",
   "nbconvert_exporter": "python",
   "pygments_lexer": "ipython3",
   "version": "3.12.7"
  }
 },
 "nbformat": 4,
 "nbformat_minor": 5
}
