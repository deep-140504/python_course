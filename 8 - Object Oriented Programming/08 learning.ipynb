{
 "cells": [
  {
   "cell_type": "code",
   "execution_count": 1,
   "id": "7e5d9d6a-d13a-4048-b892-bc72a01c40da",
   "metadata": {},
   "outputs": [],
   "source": [
    "class Dog:\n",
    "    def __init__(self,breed):\n",
    "        self.breed = breed\n",
    "        \n",
    "sam = Dog(breed='Lab')\n",
    "frank = Dog(breed='Huskie')"
   ]
  },
  {
   "cell_type": "code",
   "execution_count": 3,
   "id": "d8c94a28-010c-4b93-8084-3e185f4b2e8d",
   "metadata": {},
   "outputs": [
    {
     "name": "stdout",
     "output_type": "stream",
     "text": [
      "Lab\n",
      "Huskie\n"
     ]
    }
   ],
   "source": [
    "print(sam.breed)\n",
    "print(frank.breed)"
   ]
  },
  {
   "cell_type": "code",
   "execution_count": 7,
   "id": "c1899a5a-f8be-46e2-9d71-af13d95c05dc",
   "metadata": {},
   "outputs": [
    {
     "name": "stdout",
     "output_type": "stream",
     "text": [
      "Lab Sam\n"
     ]
    }
   ],
   "source": [
    "class Dog:\n",
    "    def __init__(self, breed, name):\n",
    "        self.b = breed\n",
    "        self.n = name\n",
    "sam = Dog('Lab','Sam')\n",
    "print(sam.b, sam.n)"
   ]
  },
  {
   "cell_type": "code",
   "execution_count": 27,
   "id": "d610fbdc-a44b-43ab-9bb3-c2b89d6efb96",
   "metadata": {},
   "outputs": [
    {
     "name": "stdout",
     "output_type": "stream",
     "text": [
      "6.28\n",
      "6.28\n"
     ]
    }
   ],
   "source": [
    "class Circle():\n",
    "    pi = 3.14\n",
    "    def __init__(self, radius = 1):\n",
    "        self.radius = radius\n",
    "    def get_circumference(self):\n",
    "        return self.radius * self.pi * 2\n",
    "        #above thing can also be done by following way:\n",
    "        #return self.radius * Circle.pi * 2\n",
    "my_circle = Circle()\n",
    "print(my_circle.get_circumference())\n",
    "\n",
    "print(Circle().get_circumference())"
   ]
  },
  {
   "cell_type": "code",
   "execution_count": null,
   "id": "4bee95a2-b467-4d11-a06a-80b1e8f3f4d9",
   "metadata": {},
   "outputs": [],
   "source": []
  },
  {
   "cell_type": "code",
   "execution_count": null,
   "id": "cdb02093-de0b-40b7-83c3-d83a41d67f83",
   "metadata": {},
   "outputs": [],
   "source": []
  },
  {
   "cell_type": "raw",
   "id": "4d01ec7e-a6f0-4514-95d8-9aa2e14f54a6",
   "metadata": {},
   "source": [
    "Inheritance and polymorphise\n",
    "\n",
    "Inheritance ==> Ability to derive properties from parent\n",
    "                Mainly ude for the purpose of reusability\n",
    "                We can use code, methods or attributes from other classes\n",
    "\n",
    "Polymorphism => Ability of method to take more than one form"
   ]
  },
  {
   "cell_type": "code",
   "execution_count": 32,
   "id": "5aa0f8f2-755b-4a30-8860-d6ac95d9b8e7",
   "metadata": {},
   "outputs": [
    {
     "name": "stdout",
     "output_type": "stream",
     "text": [
      "animal created\n"
     ]
    }
   ],
   "source": [
    "class Animal():\n",
    "    def __init__ (self):\n",
    "        print(\"animal created\")\n",
    "\n",
    "    def who_am_i(self):\n",
    "        print(\"i am an animal\")\n",
    "    def eat(self):\n",
    "        print(\"I am eating\")\n",
    "myAnimal = Animal()"
   ]
  },
  {
   "cell_type": "code",
   "execution_count": 36,
   "id": "699ab1bf-1c97-43b2-bf88-d316e8edee21",
   "metadata": {},
   "outputs": [
    {
     "name": "stdout",
     "output_type": "stream",
     "text": [
      "i am an animal\n",
      "I am eating\n"
     ]
    }
   ],
   "source": [
    "(myAnimal.who_am_i())\n",
    "(myAnimal.eat())"
   ]
  },
  {
   "cell_type": "code",
   "execution_count": null,
   "id": "a1accfc0-03da-41eb-92d3-02ddf6d713ff",
   "metadata": {},
   "outputs": [],
   "source": [
    "class Dog(Animal): #the deriving takes place here by sending Animal class as a parameter from the Dog class\n",
    "    #so now the dog class will be able to use the all defined variables and functions\n",
    "    def __init__ (self):\n",
    "        Animal.__init__(self):\n",
    "            print(\"Dog created\" )\n",
    "\n",
    "dog = Dog()"
   ]
  }
 ],
 "metadata": {
  "kernelspec": {
   "display_name": "Python [conda env:base] *",
   "language": "python",
   "name": "conda-base-py"
  },
  "language_info": {
   "codemirror_mode": {
    "name": "ipython",
    "version": 3
   },
   "file_extension": ".py",
   "mimetype": "text/x-python",
   "name": "python",
   "nbconvert_exporter": "python",
   "pygments_lexer": "ipython3",
   "version": "3.12.7"
  }
 },
 "nbformat": 4,
 "nbformat_minor": 5
}
