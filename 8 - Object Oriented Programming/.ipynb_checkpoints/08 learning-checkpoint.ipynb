{
 "cells": [
  {
   "cell_type": "code",
   "execution_count": 1,
   "id": "7e5d9d6a-d13a-4048-b892-bc72a01c40da",
   "metadata": {},
   "outputs": [],
   "source": [
    "class Dog:\n",
    "    def __init__(self,breed):\n",
    "        self.breed = breed\n",
    "        \n",
    "sam = Dog(breed='Lab')\n",
    "frank = Dog(breed='Huskie')"
   ]
  },
  {
   "cell_type": "code",
   "execution_count": 3,
   "id": "d8c94a28-010c-4b93-8084-3e185f4b2e8d",
   "metadata": {},
   "outputs": [
    {
     "name": "stdout",
     "output_type": "stream",
     "text": [
      "Lab\n",
      "Huskie\n"
     ]
    }
   ],
   "source": [
    "print(sam.breed)\n",
    "print(frank.breed)"
   ]
  },
  {
   "cell_type": "code",
   "execution_count": 7,
   "id": "c1899a5a-f8be-46e2-9d71-af13d95c05dc",
   "metadata": {},
   "outputs": [
    {
     "name": "stdout",
     "output_type": "stream",
     "text": [
      "Lab Sam\n"
     ]
    }
   ],
   "source": [
    "class Dog:\n",
    "    def __init__(self, breed, name):\n",
    "        self.b = breed\n",
    "        self.n = name\n",
    "sam = Dog('Lab','Sam')\n",
    "print(sam.b, sam.n)"
   ]
  },
  {
   "cell_type": "code",
   "execution_count": 27,
   "id": "d610fbdc-a44b-43ab-9bb3-c2b89d6efb96",
   "metadata": {},
   "outputs": [
    {
     "name": "stdout",
     "output_type": "stream",
     "text": [
      "6.28\n",
      "6.28\n"
     ]
    }
   ],
   "source": [
    "class Circle():\n",
    "    pi = 3.14\n",
    "    def __init__(self, radius = 1):\n",
    "        self.radius = radius\n",
    "    def get_circumference(self):\n",
    "        return self.radius * self.pi * 2\n",
    "        #above thing can also be done by following way:\n",
    "        #return self.radius * Circle.pi * 2\n",
    "my_circle = Circle()\n",
    "print(my_circle.get_circumference())\n",
    "\n",
    "print(Circle().get_circumference())"
   ]
  },
  {
   "cell_type": "code",
   "execution_count": null,
   "id": "4bee95a2-b467-4d11-a06a-80b1e8f3f4d9",
   "metadata": {},
   "outputs": [],
   "source": []
  },
  {
   "cell_type": "code",
   "execution_count": null,
   "id": "cdb02093-de0b-40b7-83c3-d83a41d67f83",
   "metadata": {},
   "outputs": [],
   "source": []
  },
  {
   "cell_type": "raw",
   "id": "4d01ec7e-a6f0-4514-95d8-9aa2e14f54a6",
   "metadata": {},
   "source": [
    "Inheritance and polymorphise\n",
    "\n",
    "Inheritance ==> Ability to derive properties from parent\n",
    "                Mainly used for the purpose of reusability\n",
    "                We can use code, methods or attributes from other classes\n",
    "\n",
    "Polymorphism => Ability of method to take more than one form"
   ]
  },
  {
   "cell_type": "code",
   "execution_count": 32,
   "id": "5aa0f8f2-755b-4a30-8860-d6ac95d9b8e7",
   "metadata": {},
   "outputs": [
    {
     "name": "stdout",
     "output_type": "stream",
     "text": [
      "animal created\n"
     ]
    }
   ],
   "source": [
    "class Animal():\n",
    "    def __init__ (self):\n",
    "        print(\"animal created\")\n",
    "\n",
    "    def who_am_i(self):\n",
    "        print(\"i am an animal\")\n",
    "    def eat(self):\n",
    "        print(\"I am eating\")\n",
    "myAnimal = Animal()"
   ]
  },
  {
   "cell_type": "code",
   "execution_count": 36,
   "id": "699ab1bf-1c97-43b2-bf88-d316e8edee21",
   "metadata": {},
   "outputs": [
    {
     "name": "stdout",
     "output_type": "stream",
     "text": [
      "i am an animal\n",
      "I am eating\n"
     ]
    }
   ],
   "source": [
    "(myAnimal.who_am_i())\n",
    "(myAnimal.eat())"
   ]
  },
  {
   "cell_type": "code",
   "execution_count": 19,
   "id": "a1accfc0-03da-41eb-92d3-02ddf6d713ff",
   "metadata": {},
   "outputs": [
    {
     "name": "stdout",
     "output_type": "stream",
     "text": [
      "animal created\n",
      "Dog created\n"
     ]
    }
   ],
   "source": [
    "class Dog(Animal): #the deriving takes place here by sending Animal class as a parameter from the Dog class\n",
    "    #so now the dog class will be able to use the all defined variables and functions\n",
    "    def __init__ (self):\n",
    "        # Animal.__init__(self):\n",
    "        #     print(\"Dog created\" )\n",
    "        #above code is wrong instead u should have done as followed\n",
    "        Animal.__init__(self)\n",
    "        print(\"Dog created\")\n",
    "\n",
    "dog = Dog()"
   ]
  },
  {
   "cell_type": "code",
   "execution_count": null,
   "id": "86e1a575-b565-4366-90a2-cdd49b7cd567",
   "metadata": {},
   "outputs": [],
   "source": []
  },
  {
   "cell_type": "code",
   "execution_count": null,
   "id": "9a1015a0-18bf-4e4b-999c-7226847d3078",
   "metadata": {},
   "outputs": [],
   "source": []
  },
  {
   "cell_type": "code",
   "execution_count": null,
   "id": "4acc6b54-4401-4e2a-9a9a-349ef547d2ad",
   "metadata": {},
   "outputs": [],
   "source": []
  },
  {
   "cell_type": "code",
   "execution_count": null,
   "id": "92b13363-d60d-46bb-add3-52d0c8154f4b",
   "metadata": {},
   "outputs": [],
   "source": []
  },
  {
   "cell_type": "code",
   "execution_count": 7,
   "id": "64401791-beab-4561-8aa7-ebd1d0a2dc57",
   "metadata": {},
   "outputs": [
    {
     "name": "stdout",
     "output_type": "stream",
     "text": [
      "animal created\n"
     ]
    }
   ],
   "source": [
    "class Animal():\n",
    "    def __init__(self):\n",
    "        print(\"animal created\")\n",
    "    def who_am_i(self):\n",
    "        print(\"I am an animal\")\n",
    "    def eat(self):\n",
    "        print(\"I am eating\")\n",
    "myanimal = Animal()"
   ]
  },
  {
   "cell_type": "code",
   "execution_count": 11,
   "id": "6271ee43-ad8d-4a25-96f9-bdf6e89a199c",
   "metadata": {},
   "outputs": [
    {
     "name": "stdout",
     "output_type": "stream",
     "text": [
      "I am an animal\n",
      "I am eating\n"
     ]
    }
   ],
   "source": [
    "myanimal.who_am_i()\n",
    "myanimal.eat()"
   ]
  },
  {
   "cell_type": "code",
   "execution_count": 39,
   "id": "c195cc22-26fa-4073-8675-1c56d5d9b886",
   "metadata": {},
   "outputs": [
    {
     "name": "stdout",
     "output_type": "stream",
     "text": [
      "animal created\n",
      "dog created\n"
     ]
    }
   ],
   "source": [
    "class Dog(Animal): #inherting is done here by passing the class as an argument\n",
    "    def __init__(self):\n",
    "        Animal.__init__(self)\n",
    "        # so here i am already going to create instance of the animal class when i create the object of the animal class\n",
    "        #so here it is necessary to pass self as an argument because of not using the super keyword\n",
    "        # when u do something like super.__init__() it is not necessary to pass self as argument because  it automatically passes the current instance (self) to the __init__ method of the parent class.\n",
    "        print(\"dog created\")\n",
    "    def who_am_i(self): # here the overriding took place by naming the method same as a parent class\n",
    "        print(\"I am a dog\")\n",
    "    def eat(self): #overriding of the parent class method in the dog class\n",
    "        print(\"I am a dog and eating\")\n",
    "    def bark(self):\n",
    "        print(\"Woof!\")\n",
    "mydog = Dog()  "
   ]
  },
  {
   "cell_type": "code",
   "execution_count": 41,
   "id": "c1d04bb5-0d9f-41bc-9591-9bc843a51d87",
   "metadata": {},
   "outputs": [
    {
     "name": "stdout",
     "output_type": "stream",
     "text": [
      "I am a dog\n",
      "I am a dog and eating\n",
      "Woof!\n"
     ]
    }
   ],
   "source": [
    "mydog.who_am_i()\n",
    "mydog.eat()\n",
    "mydog.bark()"
   ]
  },
  {
   "cell_type": "markdown",
   "id": "dbf11e07-8dda-401e-bd45-db98510ff56e",
   "metadata": {},
   "source": [
    "# Polymorphism"
   ]
  },
  {
   "cell_type": "code",
   "execution_count": 50,
   "id": "6360dd02-7da4-4893-88f2-a28f2580e389",
   "metadata": {},
   "outputs": [],
   "source": [
    "class Dog():\n",
    "    #se here that Class is not a keyword but the class is\n",
    "    def __init__(self, name):\n",
    "        self.name = name\n",
    "    def speak(self):\n",
    "        return self.name + \" says woof!\""
   ]
  },
  {
   "cell_type": "code",
   "execution_count": 52,
   "id": "1b43c17d-6b7a-4775-b0a0-9d2cde770ebd",
   "metadata": {},
   "outputs": [],
   "source": [
    "class Cat():\n",
    "    #se here that Class is not a keyword but the class is\n",
    "    def __init__(self, name):\n",
    "        self.name = name\n",
    "    def speak(self):\n",
    "        return self.name + \" says meow!\""
   ]
  },
  {
   "cell_type": "code",
   "execution_count": 54,
   "id": "fe77609b-c2d6-4b11-afea-52dcc040803e",
   "metadata": {},
   "outputs": [
    {
     "name": "stdout",
     "output_type": "stream",
     "text": [
      "niko says woof!\n",
      "Felix says meow!\n"
     ]
    }
   ],
   "source": [
    "niko = Dog(\"niko\")\n",
    "felix = Cat(\"Felix\")\n",
    "print(niko.speak())\n",
    "print(felix.speak())"
   ]
  },
  {
   "cell_type": "code",
   "execution_count": 58,
   "id": "41fc9d0d-73e8-4a0d-852c-65a0cdd7de8d",
   "metadata": {},
   "outputs": [
    {
     "name": "stdout",
     "output_type": "stream",
     "text": [
      "<class '__main__.Dog'>\n",
      "niko says woof!\n",
      "<class '__main__.Cat'>\n",
      "Felix says meow!\n"
     ]
    }
   ],
   "source": [
    "#this is one of way of showing polymorphism\n",
    "\n",
    "for pet in [niko, felix]:\n",
    "    print(type(pet))\n",
    "    print((pet.speak()))"
   ]
  },
  {
   "cell_type": "code",
   "execution_count": 60,
   "id": "7ca6a5f1-b0ff-40d4-b25e-e6b304d9206a",
   "metadata": {},
   "outputs": [
    {
     "name": "stdout",
     "output_type": "stream",
     "text": [
      "niko says woof!\n",
      "Felix says meow!\n"
     ]
    }
   ],
   "source": [
    "def pet_speak(pet):\n",
    "    print(pet.speak())\n",
    "#here in polymorphism we can obtain object specific result using the same mechanism\n",
    "pet_speak(niko)\n",
    "pet_speak(felix)"
   ]
  },
  {
   "cell_type": "markdown",
   "id": "0d6b9cd4-fe85-4b15-a151-275e8c635455",
   "metadata": {},
   "source": [
    "# more common peactise is to use abstract classes and ingeritance\n",
    "#### the abstract classes never expect to be instantiated yet never actually expect to instance of a class, instead its just designed to basically only serve as a base class"
   ]
  },
  {
   "cell_type": "code",
   "execution_count": 68,
   "id": "c6946f4f-d980-407a-bd86-e95ce2637c07",
   "metadata": {},
   "outputs": [
    {
     "ename": "NotImplementedError",
     "evalue": "subclass must implement this abstract method",
     "output_type": "error",
     "traceback": [
      "\u001b[1;31m---------------------------------------------------------------------------\u001b[0m",
      "\u001b[1;31mNotImplementedError\u001b[0m                       Traceback (most recent call last)",
      "Cell \u001b[1;32mIn[68], line 7\u001b[0m\n\u001b[0;32m      5\u001b[0m         \u001b[38;5;28;01mraise\u001b[39;00m \u001b[38;5;167;01mNotImplementedError\u001b[39;00m(\u001b[38;5;124m\"\u001b[39m\u001b[38;5;124msubclass must implement this abstract method\u001b[39m\u001b[38;5;124m\"\u001b[39m)\n\u001b[0;32m      6\u001b[0m myanimal \u001b[38;5;241m=\u001b[39m Animal(\u001b[38;5;124m\"\u001b[39m\u001b[38;5;124mfred\u001b[39m\u001b[38;5;124m\"\u001b[39m)\n\u001b[1;32m----> 7\u001b[0m myanimal\u001b[38;5;241m.\u001b[39mspeak()\n",
      "Cell \u001b[1;32mIn[68], line 5\u001b[0m, in \u001b[0;36mAnimal.speak\u001b[1;34m(self)\u001b[0m\n\u001b[0;32m      4\u001b[0m \u001b[38;5;28;01mdef\u001b[39;00m \u001b[38;5;21mspeak\u001b[39m(\u001b[38;5;28mself\u001b[39m):\n\u001b[1;32m----> 5\u001b[0m     \u001b[38;5;28;01mraise\u001b[39;00m \u001b[38;5;167;01mNotImplementedError\u001b[39;00m(\u001b[38;5;124m\"\u001b[39m\u001b[38;5;124msubclass must implement this abstract method\u001b[39m\u001b[38;5;124m\"\u001b[39m)\n",
      "\u001b[1;31mNotImplementedError\u001b[0m: subclass must implement this abstract method"
     ]
    }
   ],
   "source": [
    "class Animal():\n",
    "    def __init__(self, name):\n",
    "        self.name = name\n",
    "    def speak(self):\n",
    "        raise NotImplementedError(\"subclass must implement this abstract method\")\n",
    "myanimal = Animal(\"fred\")\n",
    "myanimal.speak()"
   ]
  },
  {
   "cell_type": "code",
   "execution_count": 70,
   "id": "5367bdcc-9f69-4ca5-80e7-65a7852ec33c",
   "metadata": {},
   "outputs": [],
   "source": [
    "class Dog(Animal):\n",
    "    def speak(self):\n",
    "        return self.name + \" says woof!\""
   ]
  },
  {
   "cell_type": "code",
   "execution_count": 72,
   "id": "7403ac54-7469-44db-88d3-22a9383fa0aa",
   "metadata": {},
   "outputs": [],
   "source": [
    "class Cat(Animal):\n",
    "    def speak(self):\n",
    "        return self.name + \" says meow!\""
   ]
  },
  {
   "cell_type": "code",
   "execution_count": 74,
   "id": "78c2fdd6-bf88-4811-94d4-8435ed4afb5b",
   "metadata": {},
   "outputs": [
    {
     "name": "stdout",
     "output_type": "stream",
     "text": [
      "Fido says woof!\n",
      "Isis says meow!\n"
     ]
    }
   ],
   "source": [
    "fido = Dog(\"Fido\")\n",
    "isis = Cat(\"Isis\")\n",
    "print(fido.speak())\n",
    "print(isis.speak())"
   ]
  },
  {
   "cell_type": "markdown",
   "id": "802b4838-15ae-4971-825d-ecacc7760cc3",
   "metadata": {},
   "source": [
    "#### the polymorphism can be used to use same name as a task that is being carried upon the different type of things\n",
    "#### e.g. we can do polymorphism on the method open can implement it into the different class interacting with different things like, we can open pdfs, word files, csv etc"
   ]
  },
  {
   "cell_type": "code",
   "execution_count": null,
   "id": "7c67acce-2a86-42f0-9a06-51226397f973",
   "metadata": {},
   "outputs": [],
   "source": []
  },
  {
   "cell_type": "code",
   "execution_count": null,
   "id": "cc908978-1ed2-43ea-9ee5-a79bc53596ab",
   "metadata": {},
   "outputs": [],
   "source": []
  },
  {
   "cell_type": "code",
   "execution_count": null,
   "id": "884ce894-e946-45c2-9e54-2f6e9d0318ba",
   "metadata": {},
   "outputs": [],
   "source": []
  },
  {
   "cell_type": "markdown",
   "id": "101e93a8-9536-4196-a338-aa4a79de7030",
   "metadata": {},
   "source": [
    "# Object Oriented Programming Special MagicDunder Methods"
   ]
  },
  {
   "cell_type": "markdown",
   "id": "b9921995-0833-42d5-835f-dc73e2a35208",
   "metadata": {},
   "source": [
    "#### special methods allows to use some built in operation in python, such as the length functoin or the print function with out own user created options"
   ]
  },
  {
   "cell_type": "code",
   "execution_count": 82,
   "id": "a0f91fa8-ab84-47f8-8f72-c12c2248f6b9",
   "metadata": {},
   "outputs": [
    {
     "data": {
      "text/plain": [
       "3"
      ]
     },
     "execution_count": 82,
     "metadata": {},
     "output_type": "execute_result"
    }
   ],
   "source": [
    "ls = [1, 2, 3]\n",
    "len(ls)"
   ]
  },
  {
   "cell_type": "markdown",
   "id": "b335f081-58ff-433b-bbc9-28f6441f66e5",
   "metadata": {},
   "source": [
    "#### now what if i want to use len method on some of my own object"
   ]
  },
  {
   "cell_type": "code",
   "execution_count": 89,
   "id": "704411f2-5fff-4f5b-b952-12578867e8b2",
   "metadata": {},
   "outputs": [],
   "source": [
    "class Sample():\n",
    "    pass\n",
    "mysample = Sample()\n",
    "# len(mysample) this will give object of type 'Sample' has no len()\n",
    "# so now the question arises how am i able to actually use built in pythin functions such as length or print"
   ]
  },
  {
   "cell_type": "code",
   "execution_count": null,
   "id": "838b8f37-9601-4eea-b327-c2f3604d8ae0",
   "metadata": {},
   "outputs": [],
   "source": []
  },
  {
   "cell_type": "code",
   "execution_count": null,
   "id": "e959e9e1-ba0f-4a10-9de7-c46f2be366f4",
   "metadata": {},
   "outputs": [],
   "source": []
  },
  {
   "cell_type": "code",
   "execution_count": null,
   "id": "baaea35d-8912-4dc2-b561-b60a1256767d",
   "metadata": {},
   "outputs": [],
   "source": []
  },
  {
   "cell_type": "code",
   "execution_count": 136,
   "id": "bdcf88bc-5d8b-40e1-a947-f4fb65bf928b",
   "metadata": {},
   "outputs": [],
   "source": [
    "class Book():\n",
    "    def __init__(self, title, author, pages):\n",
    "        self.title = title\n",
    "        self.author = author\n",
    "        self.pages = pages\n",
    "\n",
    "    def __str__(self):\n",
    "        return f\"{self.title} by {self.author}\"\n",
    "    def __len__(self):\n",
    "        return self.pages\n",
    "        # here it is not posible to return a string saying the book has a certain amount of pages because,\n",
    "        # it will be a string and len() method expects the integer in return \n",
    "    def __del__(self):\n",
    "        print(\"a book object has been deleted\")\n",
    "        #see that u can not return anything , because the destructor function does not expect anything in return when called,\n",
    "        # if returned than it will raise a type error\n",
    "        "
   ]
  },
  {
   "cell_type": "code",
   "execution_count": 138,
   "id": "416d198d-9fb8-4f46-935c-6d38930dbdfe",
   "metadata": {},
   "outputs": [
    {
     "name": "stdout",
     "output_type": "stream",
     "text": [
      "python by Jose\n"
     ]
    },
    {
     "data": {
      "text/plain": [
       "200"
      ]
     },
     "execution_count": 138,
     "metadata": {},
     "output_type": "execute_result"
    }
   ],
   "source": [
    "b = Book(\"python\", \"Jose\", 200)\n",
    "print(b)\n",
    "# look that the print() method is not implemented, \n",
    "# because the print method will ask for the string representation of the object to the class\n",
    "# so the str() method is defined here\n",
    "# so calling print() and str() method on the object of the book class will give the same o/p\n",
    "str(b)\n",
    "len(b)"
   ]
  },
  {
   "cell_type": "code",
   "execution_count": 140,
   "id": "ff362348-86a6-4702-9e73-211c3cfdf2a5",
   "metadata": {},
   "outputs": [
    {
     "name": "stdout",
     "output_type": "stream",
     "text": [
      "a book object has been deleted\n"
     ]
    }
   ],
   "source": [
    "del b #this will delete the object b of class book from the memory of the computer"
   ]
  },
  {
   "cell_type": "code",
   "execution_count": 142,
   "id": "82f1326a-3ff4-47f8-9a72-7e1d039531de",
   "metadata": {},
   "outputs": [
    {
     "ename": "NameError",
     "evalue": "name 'b' is not defined",
     "output_type": "error",
     "traceback": [
      "\u001b[1;31m---------------------------------------------------------------------------\u001b[0m",
      "\u001b[1;31mNameError\u001b[0m                                 Traceback (most recent call last)",
      "Cell \u001b[1;32mIn[142], line 1\u001b[0m\n\u001b[1;32m----> 1\u001b[0m b\n",
      "\u001b[1;31mNameError\u001b[0m: name 'b' is not defined"
     ]
    }
   ],
   "source": [
    "b\n",
    "# above sentence will say \"name 'b' is not defined\" after calling del on b\n",
    "#now if you want some extra things to occur while deleting an object then u can explain such things into the del dunder method"
   ]
  },
  {
   "cell_type": "code",
   "execution_count": null,
   "id": "d2539990-64ec-4439-8e38-c257443eb39c",
   "metadata": {},
   "outputs": [],
   "source": [
    "\n"
   ]
  }
 ],
 "metadata": {
  "kernelspec": {
   "display_name": "Python [conda env:base] *",
   "language": "python",
   "name": "conda-base-py"
  },
  "language_info": {
   "codemirror_mode": {
    "name": "ipython",
    "version": 3
   },
   "file_extension": ".py",
   "mimetype": "text/x-python",
   "name": "python",
   "nbconvert_exporter": "python",
   "pygments_lexer": "ipython3",
   "version": "3.12.7"
  }
 },
 "nbformat": 4,
 "nbformat_minor": 5
}
