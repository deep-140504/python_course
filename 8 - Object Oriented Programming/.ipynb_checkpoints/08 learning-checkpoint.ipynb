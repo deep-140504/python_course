{
 "cells": [
  {
   "cell_type": "code",
   "execution_count": null,
   "id": "7e5d9d6a-d13a-4048-b892-bc72a01c40da",
   "metadata": {},
   "outputs": [],
   "source": [
    "class Dog():\n",
    "    species = \"animal\""
   ]
  }
 ],
 "metadata": {
  "kernelspec": {
   "display_name": "Python [conda env:base] *",
   "language": "python",
   "name": "conda-base-py"
  },
  "language_info": {
   "codemirror_mode": {
    "name": "ipython",
    "version": 3
   },
   "file_extension": ".py",
   "mimetype": "text/x-python",
   "name": "python",
   "nbconvert_exporter": "python",
   "pygments_lexer": "ipython3",
   "version": "3.12.7"
  }
 },
 "nbformat": 4,
 "nbformat_minor": 5
}
