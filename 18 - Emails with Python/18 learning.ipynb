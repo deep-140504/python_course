{
 "cells": [
  {
   "cell_type": "code",
   "execution_count": 40,
   "id": "31ceff2d-7428-47b7-875f-6d9f67a5ec84",
   "metadata": {},
   "outputs": [],
   "source": [
    "import smtplib"
   ]
  },
  {
   "cell_type": "code",
   "execution_count": 42,
   "id": "af6b8fb2-21be-464f-97e0-768ff2530e57",
   "metadata": {},
   "outputs": [],
   "source": [
    "smtp_object = smtplib.SMTP('smtp.gmail.com', 587)"
   ]
  },
  {
   "cell_type": "code",
   "execution_count": 8,
   "id": "9142e327-d5e9-4f60-8069-3608ef077294",
   "metadata": {},
   "outputs": [],
   "source": [
    "# the next we need to do is calling \"ehlo\" method which greets the server and establishes the connection\n",
    "# calling the \"ehlo\" after any other thing and not calling the same right after may leaas into the error"
   ]
  },
  {
   "cell_type": "code",
   "execution_count": 44,
   "id": "bcae0bfa-5f15-4b4d-8509-6c3db4a579ae",
   "metadata": {},
   "outputs": [
    {
     "data": {
      "text/plain": [
       "(250,\n",
       " b'smtp.gmail.com at your service, [123.201.110.130]\\nSIZE 35882577\\n8BITMIME\\nSTARTTLS\\nENHANCEDSTATUSCODES\\nPIPELINING\\nCHUNKING\\nSMTPUTF8')"
      ]
     },
     "execution_count": 44,
     "metadata": {},
     "output_type": "execute_result"
    }
   ],
   "source": [
    "smtp_object.ehlo()"
   ]
  },
  {
   "cell_type": "code",
   "execution_count": 12,
   "id": "3981f9d2-fb08-4ed4-bcac-67799d3dd2bf",
   "metadata": {},
   "outputs": [],
   "source": [
    "#using of the port 587 means that there is tle encryption and the mails being sent will only be read by the actual recipient\n"
   ]
  },
  {
   "cell_type": "code",
   "execution_count": 46,
   "id": "ed631964-0359-4fd0-ad11-6db3a5bdf684",
   "metadata": {},
   "outputs": [
    {
     "data": {
      "text/plain": [
       "(220, b'2.0.0 Ready to start TLS')"
      ]
     },
     "execution_count": 46,
     "metadata": {},
     "output_type": "execute_result"
    }
   ],
   "source": [
    "smtp_object.starttls()"
   ]
  },
  {
   "cell_type": "code",
   "execution_count": 26,
   "id": "b6706474-3ce7-42f9-9be8-6f08a2ebbda7",
   "metadata": {},
   "outputs": [
    {
     "name": "stdin",
     "output_type": "stream",
     "text": [
      "what is your password 2\n"
     ]
    },
    {
     "data": {
      "text/plain": [
       "'2'"
      ]
     },
     "execution_count": 26,
     "metadata": {},
     "output_type": "execute_result"
    }
   ],
   "source": [
    "input(\"what is your password\")"
   ]
  },
  {
   "cell_type": "code",
   "execution_count": 48,
   "id": "291e8fc0-d1b4-480d-a90d-98d935d0707f",
   "metadata": {},
   "outputs": [],
   "source": [
    "import getpass"
   ]
  },
  {
   "cell_type": "code",
   "execution_count": 32,
   "id": "000fd139-9f20-4444-ac00-b4fd8a10f273",
   "metadata": {},
   "outputs": [
    {
     "name": "stdin",
     "output_type": "stream",
     "text": [
      "Password please:  ········\n"
     ]
    }
   ],
   "source": [
    "password = getpass.getpass(\"Password please: \")"
   ]
  },
  {
   "cell_type": "code",
   "execution_count": 50,
   "id": "ea6c126a-1c60-4223-adcf-ffc2afc1395a",
   "metadata": {},
   "outputs": [
    {
     "name": "stdin",
     "output_type": "stream",
     "text": [
      "email:  ········\n",
      "Password:  ········\n"
     ]
    },
    {
     "data": {
      "text/plain": [
       "(235, b'2.7.0 Accepted')"
      ]
     },
     "execution_count": 50,
     "metadata": {},
     "output_type": "execute_result"
    }
   ],
   "source": [
    "email = getpass.getpass(\"email: \")\n",
    "password = getpass.getpass(\"Password: \")\n",
    "smtp_object.login(email, password)"
   ]
  },
  {
   "cell_type": "code",
   "execution_count": 52,
   "id": "50b66d1f-a35f-4774-86a3-4c5c85148459",
   "metadata": {},
   "outputs": [
    {
     "name": "stdin",
     "output_type": "stream",
     "text": [
      "enter the subject line:  new test python mail\n",
      "enter the body:  hello this is a test mail\n"
     ]
    },
    {
     "data": {
      "text/plain": [
       "{}"
      ]
     },
     "execution_count": 52,
     "metadata": {},
     "output_type": "execute_result"
    }
   ],
   "source": [
    "from_address = email\n",
    "to_address = email\n",
    "subject = input(\"enter the subject line: \")\n",
    "message = input(\"enter the body: \")\n",
    "msg = \"subject: \" + subject + \"\\n\" + message\n",
    "smtp_object.sendmail(from_address, to_address, msg)"
   ]
  },
  {
   "cell_type": "code",
   "execution_count": 54,
   "id": "30d2ee3d-7169-4c2a-9817-18668a5bf310",
   "metadata": {},
   "outputs": [
    {
     "data": {
      "text/plain": [
       "(221,\n",
       " b'2.0.0 closing connection d2e1a72fcca58-72d40549413sm10665147b3a.12 - gsmtp')"
      ]
     },
     "execution_count": 54,
     "metadata": {},
     "output_type": "execute_result"
    }
   ],
   "source": [
    "smtp_object.quit()"
   ]
  },
  {
   "cell_type": "code",
   "execution_count": null,
   "id": "73297ad2-c6a1-4592-9253-ec28d15dd834",
   "metadata": {},
   "outputs": [],
   "source": []
  },
  {
   "cell_type": "code",
   "execution_count": null,
   "id": "d3f01f26-d82f-462e-ab2b-6a16779cab77",
   "metadata": {},
   "outputs": [],
   "source": []
  },
  {
   "cell_type": "code",
   "execution_count": null,
   "id": "b125d9a9-3d2e-48da-9eb5-a3c3256d3bbe",
   "metadata": {},
   "outputs": [],
   "source": []
  },
  {
   "cell_type": "code",
   "execution_count": 59,
   "id": "67f8dbd6-6da8-4518-b5dd-644f68761af3",
   "metadata": {},
   "outputs": [],
   "source": [
    "import imaplib"
   ]
  },
  {
   "cell_type": "code",
   "execution_count": 61,
   "id": "f357a32f-4f22-451c-9d33-47d7d843bbef",
   "metadata": {},
   "outputs": [],
   "source": [
    "M = imaplib.IMAP4_SSL('imap.gmail.com')"
   ]
  },
  {
   "cell_type": "code",
   "execution_count": 63,
   "id": "96d210ab-f971-48fd-8580-44c81826f357",
   "metadata": {},
   "outputs": [],
   "source": [
    "import getpass"
   ]
  },
  {
   "cell_type": "code",
   "execution_count": 65,
   "id": "e106a013-793c-46f5-add8-d3aad0be88b4",
   "metadata": {},
   "outputs": [
    {
     "name": "stdin",
     "output_type": "stream",
     "text": [
      "email:  ········\n",
      "email:  ········\n"
     ]
    }
   ],
   "source": [
    "email = getpass.getpass(\"email: \")\n",
    "password = getpass.getpass(\"email: \")\n"
   ]
  },
  {
   "cell_type": "code",
   "execution_count": 67,
   "id": "01c659c8-00c3-4886-a493-9d73c50809f5",
   "metadata": {},
   "outputs": [
    {
     "data": {
      "text/plain": [
       "('OK', [b'deep.d@crestskillserve.com authenticated (Success)'])"
      ]
     },
     "execution_count": 67,
     "metadata": {},
     "output_type": "execute_result"
    }
   ],
   "source": [
    "M.login(email, password)"
   ]
  },
  {
   "cell_type": "code",
   "execution_count": 69,
   "id": "fb3af32a-913c-4a29-a5c0-3f933b57c58f",
   "metadata": {},
   "outputs": [
    {
     "data": {
      "text/plain": [
       "('OK',\n",
       " [b'(\\\\HasNoChildren) \"/\" \"INBOX\"',\n",
       "  b'(\\\\HasChildren \\\\Noselect) \"/\" \"[Gmail]\"',\n",
       "  b'(\\\\All \\\\HasNoChildren) \"/\" \"[Gmail]/All Mail\"',\n",
       "  b'(\\\\Drafts \\\\HasNoChildren) \"/\" \"[Gmail]/Drafts\"',\n",
       "  b'(\\\\HasNoChildren \\\\Important) \"/\" \"[Gmail]/Important\"',\n",
       "  b'(\\\\HasNoChildren \\\\Sent) \"/\" \"[Gmail]/Sent Mail\"',\n",
       "  b'(\\\\HasNoChildren \\\\Junk) \"/\" \"[Gmail]/Spam\"',\n",
       "  b'(\\\\Flagged \\\\HasNoChildren) \"/\" \"[Gmail]/Starred\"',\n",
       "  b'(\\\\HasNoChildren \\\\Trash) \"/\" \"[Gmail]/Trash\"'])"
      ]
     },
     "execution_count": 69,
     "metadata": {},
     "output_type": "execute_result"
    }
   ],
   "source": [
    "M.list()"
   ]
  },
  {
   "cell_type": "code",
   "execution_count": 71,
   "id": "af6e6470-51f1-4751-95f4-8f56940961ec",
   "metadata": {},
   "outputs": [
    {
     "data": {
      "text/plain": [
       "('OK', [b'22'])"
      ]
     },
     "execution_count": 71,
     "metadata": {},
     "output_type": "execute_result"
    }
   ],
   "source": [
    "M.select(\"inbox\")"
   ]
  },
  {
   "cell_type": "code",
   "execution_count": 73,
   "id": "9adeb07f-0218-4c43-98d3-69ef6fccdaa0",
   "metadata": {},
   "outputs": [],
   "source": [
    "typ, data = M.search(None, \"BEFORE 16-Jan-2025\")"
   ]
  },
  {
   "cell_type": "code",
   "execution_count": 99,
   "id": "ba6844ff-c932-401e-8e81-9cf77b7624c7",
   "metadata": {},
   "outputs": [],
   "source": [
    "typ, data = M.search(None, 'SUBJECT \"new test python mail\"')\n",
    "# only above permutation of \"\" and '' works inside of the search() method argument\n",
    "# no other works, so consider using the '' quotation as a main quotation string to be used"
   ]
  },
  {
   "cell_type": "code",
   "execution_count": 95,
   "id": "44255a24-86f1-49be-9c9c-e798e089f78d",
   "metadata": {},
   "outputs": [
    {
     "data": {
      "text/plain": [
       "'OK'"
      ]
     },
     "execution_count": 95,
     "metadata": {},
     "output_type": "execute_result"
    }
   ],
   "source": [
    "typ"
   ]
  },
  {
   "cell_type": "code",
   "execution_count": 97,
   "id": "a2a71c5c-3d0c-4ded-b5bc-b38b8f18cdc3",
   "metadata": {},
   "outputs": [
    {
     "data": {
      "text/plain": [
       "[b'22']"
      ]
     },
     "execution_count": 97,
     "metadata": {},
     "output_type": "execute_result"
    }
   ],
   "source": [
    "data"
   ]
  },
  {
   "cell_type": "code",
   "execution_count": 101,
   "id": "0c45265b-f0d0-40b2-bd51-5fa7a28c389d",
   "metadata": {},
   "outputs": [],
   "source": [
    "email_id = data[0]"
   ]
  },
  {
   "cell_type": "code",
   "execution_count": 103,
   "id": "680738cb-e3d1-4cf4-9088-7c7d4518a962",
   "metadata": {},
   "outputs": [],
   "source": [
    "result, email_data = M.fetch(email_id, '(RFC822)')"
   ]
  },
  {
   "cell_type": "code",
   "execution_count": 105,
   "id": "dcbb10c9-6995-47f7-84ae-96ebefc33078",
   "metadata": {},
   "outputs": [
    {
     "data": {
      "text/plain": [
       "[(b'22 (RFC822 {590}',\n",
       "  b'Bcc: deep.d@crestskillserve.com\\r\\nReturn-Path: <deep.d@crestskillserve.com>\\r\\nReceived: from [192.168.0.204] ([123.201.110.130])\\r\\n        by smtp.gmail.com with ESMTPSA id d2e1a72fcca58-72d40549413sm10665147b3a.12.2025.01.16.00.13.02\\r\\n        for <deep.d@crestskillserve.com>\\r\\n        (version=TLS1_3 cipher=TLS_AES_256_GCM_SHA384 bits=256/256);\\r\\n        Thu, 16 Jan 2025 00:13:02 -0800 (PST)\\r\\nMessage-ID: <6788bf8e.050a0220.15d185.e027@mx.google.com>\\r\\nDate: Thu, 16 Jan 2025 00:13:02 -0800 (PST)\\r\\nFrom: deep.d@crestskillserve.com\\r\\nsubject: new test python mail\\r\\n\\r\\nhello this is a test mail\\r\\n'),\n",
       " b')']"
      ]
     },
     "execution_count": 105,
     "metadata": {},
     "output_type": "execute_result"
    }
   ],
   "source": [
    "email_data"
   ]
  },
  {
   "cell_type": "code",
   "execution_count": 107,
   "id": "8dea004e-84a6-4107-9340-2a74f441c62c",
   "metadata": {},
   "outputs": [],
   "source": [
    "raw_email = email_data[0][1]"
   ]
  },
  {
   "cell_type": "code",
   "execution_count": 109,
   "id": "771d0676-cf96-4c4c-98c0-30225a67ca48",
   "metadata": {},
   "outputs": [],
   "source": [
    "raw_email_string = raw_email.decode('utf-8')"
   ]
  },
  {
   "cell_type": "code",
   "execution_count": 111,
   "id": "a07df1ba-cad4-49fa-9eee-978d139d91d3",
   "metadata": {},
   "outputs": [
    {
     "data": {
      "text/plain": [
       "'Bcc: deep.d@crestskillserve.com\\r\\nReturn-Path: <deep.d@crestskillserve.com>\\r\\nReceived: from [192.168.0.204] ([123.201.110.130])\\r\\n        by smtp.gmail.com with ESMTPSA id d2e1a72fcca58-72d40549413sm10665147b3a.12.2025.01.16.00.13.02\\r\\n        for <deep.d@crestskillserve.com>\\r\\n        (version=TLS1_3 cipher=TLS_AES_256_GCM_SHA384 bits=256/256);\\r\\n        Thu, 16 Jan 2025 00:13:02 -0800 (PST)\\r\\nMessage-ID: <6788bf8e.050a0220.15d185.e027@mx.google.com>\\r\\nDate: Thu, 16 Jan 2025 00:13:02 -0800 (PST)\\r\\nFrom: deep.d@crestskillserve.com\\r\\nsubject: new test python mail\\r\\n\\r\\nhello this is a test mail\\r\\n'"
      ]
     },
     "execution_count": 111,
     "metadata": {},
     "output_type": "execute_result"
    }
   ],
   "source": [
    "raw_email_string"
   ]
  },
  {
   "cell_type": "code",
   "execution_count": 113,
   "id": "80b18a56-61e6-4094-bbeb-8e76fd18d35b",
   "metadata": {},
   "outputs": [],
   "source": [
    "import email"
   ]
  },
  {
   "cell_type": "code",
   "execution_count": 117,
   "id": "73e3d391-9c02-4f38-b053-b91e431af64a",
   "metadata": {},
   "outputs": [],
   "source": [
    "email_message = email.message_from_string(raw_email_string)"
   ]
  },
  {
   "cell_type": "code",
   "execution_count": 119,
   "id": "afca90a7-b275-479b-b705-5c1a38f76e6d",
   "metadata": {},
   "outputs": [
    {
     "data": {
      "text/plain": [
       "<email.message.Message at 0x1f5e1a6c650>"
      ]
     },
     "execution_count": 119,
     "metadata": {},
     "output_type": "execute_result"
    }
   ],
   "source": [
    "email_message"
   ]
  },
  {
   "cell_type": "code",
   "execution_count": 127,
   "id": "6be037a8-d805-463b-8394-98ce76dbb389",
   "metadata": {},
   "outputs": [
    {
     "name": "stdout",
     "output_type": "stream",
     "text": [
      "b'hello this is a test mail\\r\\n'\n"
     ]
    }
   ],
   "source": [
    "for part in email_message.walk():\n",
    "    if(part.get_content_type() == 'text/plain'):\n",
    "        body = part.get_payload(decode = True)\n",
    "        print(body)"
   ]
  },
  {
   "cell_type": "code",
   "execution_count": null,
   "id": "8a4c46d4-b3b8-4c3e-bcae-7a9bf8b9eec1",
   "metadata": {},
   "outputs": [],
   "source": []
  }
 ],
 "metadata": {
  "kernelspec": {
   "display_name": "Python [conda env:base] *",
   "language": "python",
   "name": "conda-base-py"
  },
  "language_info": {
   "codemirror_mode": {
    "name": "ipython",
    "version": 3
   },
   "file_extension": ".py",
   "mimetype": "text/x-python",
   "name": "python",
   "nbconvert_exporter": "python",
   "pygments_lexer": "ipython3",
   "version": "3.12.7"
  }
 },
 "nbformat": 4,
 "nbformat_minor": 5
}
