{
 "cells": [
  {
   "cell_type": "code",
   "execution_count": 1,
   "id": "3c036f2d-5851-4069-b8d9-8e5283aa6aad",
   "metadata": {},
   "outputs": [
    {
     "name": "stdout",
     "output_type": "stream",
     "text": [
      "[' ', ' ', ' ']\n",
      "[' ', ' ', ' ']\n",
      "[' ', ' ', ' ']\n"
     ]
    }
   ],
   "source": [
    "def display(row1, row2, row3):\n",
    "    print(row1)\n",
    "    print(row2)\n",
    "    print(row3)\n",
    "r1 = [' ', ' ', ' ']\n",
    "r2 = [' ', ' ', ' ']\n",
    "r3 = [' ', ' ', ' ']\n",
    "display(r1, r2, r3)"
   ]
  },
  {
   "cell_type": "markdown",
   "id": "f0885836-2f68-49eb-bf27-dc45c3fa040d",
   "metadata": {},
   "source": [
    "#  Simple User Interaction coding"
   ]
  },
  {
   "cell_type": "code",
   "execution_count": 3,
   "id": "1d4f2b09-be4e-4b9c-a4e7-b694a6f1a4e2",
   "metadata": {},
   "outputs": [],
   "source": [
    "game_list = [0, 1, 2]"
   ]
  },
  {
   "cell_type": "code",
   "execution_count": 4,
   "id": "92ed199c-71a5-4938-af70-1384faaf337d",
   "metadata": {},
   "outputs": [],
   "source": [
    "def display_game(game_list):\n",
    "    print(f\"here is the current list: {game_list}\")"
   ]
  },
  {
   "cell_type": "code",
   "execution_count": 5,
   "id": "34a8cc22-647a-4298-bb39-d392a48e08db",
   "metadata": {},
   "outputs": [
    {
     "name": "stdout",
     "output_type": "stream",
     "text": [
      "here is the current list: [0, 1, 2]\n"
     ]
    }
   ],
   "source": [
    "display_game(game_list)"
   ]
  },
  {
   "cell_type": "code",
   "execution_count": 6,
   "id": "e179edb8-1b6f-49a4-b182-035382dc6b4a",
   "metadata": {},
   "outputs": [],
   "source": [
    "def position_choice():\n",
    "    choice = 'wrong'\n",
    "    while choice not in ['0', '1', '2']:\n",
    "        choice = input('pick a choice in (0, 1, 2): ')\n",
    "        if choice not in ['0', '1', '2']:\n",
    "            print(\"sorry invalid choice!\")\n",
    "\n",
    "    return int(choice)"
   ]
  },
  {
   "cell_type": "code",
   "execution_count": 7,
   "id": "ee35f4d1-364b-4195-9dc9-bca4eb80b906",
   "metadata": {},
   "outputs": [
    {
     "name": "stdin",
     "output_type": "stream",
     "text": [
      "pick a choice in (0, 1, 2):  0\n"
     ]
    },
    {
     "data": {
      "text/plain": [
       "0"
      ]
     },
     "execution_count": 7,
     "metadata": {},
     "output_type": "execute_result"
    }
   ],
   "source": [
    " position_choice()"
   ]
  },
  {
   "cell_type": "code",
   "execution_count": 8,
   "id": "18f1575f-d9f4-4040-81c0-1eab8e8e810b",
   "metadata": {},
   "outputs": [
    {
     "name": "stdout",
     "output_type": "stream",
     "text": [
      "1\n"
     ]
    }
   ],
   "source": [
    "print(1)"
   ]
  },
  {
   "cell_type": "code",
   "execution_count": 19,
   "id": "1123b834-2900-4259-8def-77f5b0c5360a",
   "metadata": {},
   "outputs": [],
   "source": [
    "def replacement_choice(game_list, position):\n",
    "    user_placements = input(\"type a string for the position\")\n",
    "    game_list[position] = user_placements\n",
    "    return game_list"
   ]
  },
  {
   "cell_type": "code",
   "execution_count": 21,
   "id": "f22a8d49-aafe-4fbc-b13f-58e289b50532",
   "metadata": {},
   "outputs": [
    {
     "name": "stdin",
     "output_type": "stream",
     "text": [
      "type a string for the position 2\n"
     ]
    },
    {
     "data": {
      "text/plain": [
       "[0, '2', 2]"
      ]
     },
     "execution_count": 21,
     "metadata": {},
     "output_type": "execute_result"
    }
   ],
   "source": [
    "replacement_choice(game_list, 1)"
   ]
  },
  {
   "cell_type": "code",
   "execution_count": 37,
   "id": "34603388-a087-4f0f-9f20-389c781a6cf5",
   "metadata": {},
   "outputs": [],
   "source": [
    "def gameon_choice(game_list):\n",
    "    choice = 'wrong'\n",
    "    while choice not in ['Y', 'N']:\n",
    "        choice = input('pick a choice in (Y, N): ')\n",
    "        if choice not in ['Y', 'N']:\n",
    "            print(\"sorry invalid choice!\")\n",
    "\n",
    "    if(choice == 'Y'):\n",
    "        return True\n",
    "    else:\n",
    "        print(f'so the final updated list till now is {display_game(game_list)}')\n",
    "        return False"
   ]
  },
  {
   "cell_type": "code",
   "execution_count": 41,
   "id": "a30bce93-362c-46b4-9fcd-0a03fdf39753",
   "metadata": {},
   "outputs": [
    {
     "name": "stdin",
     "output_type": "stream",
     "text": [
      "pick a choice in (Y, N):  F\n"
     ]
    },
    {
     "name": "stdout",
     "output_type": "stream",
     "text": [
      "sorry invalid choice!\n"
     ]
    },
    {
     "name": "stdin",
     "output_type": "stream",
     "text": [
      "pick a choice in (Y, N):  N\n"
     ]
    },
    {
     "name": "stdout",
     "output_type": "stream",
     "text": [
      "here is the current list: ['1', 1, 2]\n",
      "so the final updated list till now is None\n"
     ]
    },
    {
     "data": {
      "text/plain": [
       "False"
      ]
     },
     "execution_count": 41,
     "metadata": {},
     "output_type": "execute_result"
    }
   ],
   "source": [
    "gameon_choice(game_list)"
   ]
  },
  {
   "cell_type": "code",
   "execution_count": 35,
   "id": "1c89c678-a214-46f1-9eb5-8f0852cc1962",
   "metadata": {},
   "outputs": [
    {
     "name": "stdout",
     "output_type": "stream",
     "text": [
      "here is the current list: [0, 1, 2]\n"
     ]
    },
    {
     "name": "stdin",
     "output_type": "stream",
     "text": [
      "pick a choice in (0, 1, 2):  0\n",
      "type a string for the position 1\n"
     ]
    },
    {
     "name": "stdout",
     "output_type": "stream",
     "text": [
      "here is the current list: ['1', 1, 2]\n"
     ]
    },
    {
     "ename": "TypeError",
     "evalue": "gameon_choice() takes 0 positional arguments but 1 was given",
     "output_type": "error",
     "traceback": [
      "\u001b[1;31m---------------------------------------------------------------------------\u001b[0m",
      "\u001b[1;31mTypeError\u001b[0m                                 Traceback (most recent call last)",
      "Cell \u001b[1;32mIn[35], line 8\u001b[0m\n\u001b[0;32m      6\u001b[0m game_list \u001b[38;5;241m=\u001b[39m replacement_choice(game_list, position)\n\u001b[0;32m      7\u001b[0m display_game(game_list)\n\u001b[1;32m----> 8\u001b[0m game_on \u001b[38;5;241m=\u001b[39m gameon_choice(game_list)\n",
      "\u001b[1;31mTypeError\u001b[0m: gameon_choice() takes 0 positional arguments but 1 was given"
     ]
    }
   ],
   "source": [
    "game_on = True\n",
    "game_list = [0, 1, 2]\n",
    "while game_on:\n",
    "    display_game(game_list)\n",
    "    position = position_choice()\n",
    "    game_list = replacement_choice(game_list, position)\n",
    "    display_game(game_list)\n",
    "    game_on = gameon_choice(game_list)"
   ]
  },
  {
   "cell_type": "markdown",
   "id": "338e06d2-d52b-4498-97d4-99f29df1b0f6",
   "metadata": {},
   "source": [
    "# all this combined together"
   ]
  },
  {
   "cell_type": "code",
   "execution_count": 46,
   "id": "b8010361-5395-47ea-9fd1-b5919f205e3d",
   "metadata": {},
   "outputs": [
    {
     "name": "stdout",
     "output_type": "stream",
     "text": [
      "here is the current list: [0, 1, 2]\n"
     ]
    },
    {
     "name": "stdin",
     "output_type": "stream",
     "text": [
      "pick a choice in (0, 1, 2):  0\n",
      "type a string for the position 1\n"
     ]
    },
    {
     "name": "stdout",
     "output_type": "stream",
     "text": [
      "here is the current list: ['1', 1, 2]\n"
     ]
    },
    {
     "name": "stdin",
     "output_type": "stream",
     "text": [
      "pick a choice in (Y, N):  N\n"
     ]
    }
   ],
   "source": [
    "game_list = [0, 1, 2]\n",
    "\n",
    "def display_game(game_list):\n",
    "    print(f\"here is the current list: {game_list}\")\n",
    "    \n",
    "\n",
    "\n",
    "def position_choice():\n",
    "    choice = 'wrong'\n",
    "    while choice not in ['0', '1', '2']:\n",
    "        choice = input('pick a choice in (0, 1, 2): ')\n",
    "        if choice not in ['0', '1', '2']:\n",
    "            print(\"sorry invalid choice!\")\n",
    "\n",
    "    return int(choice)\n",
    "    \n",
    "def replacement_choice(game_list, position):\n",
    "    user_placements = input(\"type a string for the position\")\n",
    "    game_list[position] = user_placements\n",
    "    return game_list\n",
    "    \n",
    "def gameon_choice(game_list):\n",
    "    choice = 'wrong'\n",
    "    while choice not in ['Y', 'N']:\n",
    "        choice = input('pick a choice in (Y, N): ')\n",
    "        if choice not in ['Y', 'N']:\n",
    "            print(\"sorry invalid choice!\")\n",
    "\n",
    "    if(choice == 'Y'):\n",
    "        return True\n",
    "    else:\n",
    "        # print(f'so the final updated list till now is {display_game(game_list)}')\n",
    "        # so the mistake i was making here while trying to print the latest updatd list is that the,\n",
    "        # i was calling the function inside the print but the function display_game is not returning anything and just returning\n",
    "        # and eventually getting me the none value in a return\n",
    "        return False\n",
    "        \n",
    "game_on = True\n",
    "game_list = [0, 1, 2]\n",
    "while game_on:\n",
    "    display_game(game_list)\n",
    "    position = position_choice()\n",
    "    game_list = replacement_choice(game_list, position)\n",
    "    display_game(game_list)\n",
    "    game_on = gameon_choice(game_list)\n",
    "\n"
   ]
  },
  {
   "cell_type": "code",
   "execution_count": null,
   "id": "8b913e51-4099-440e-8e24-de00cb10a68c",
   "metadata": {},
   "outputs": [],
   "source": []
  },
  {
   "cell_type": "code",
   "execution_count": null,
   "id": "15865995-68fa-4ad9-9a56-c3cdd4817bfa",
   "metadata": {},
   "outputs": [],
   "source": []
  },
  {
   "cell_type": "code",
   "execution_count": null,
   "id": "c24bfa3c-5da2-4488-a3e0-1abd7e72f7cd",
   "metadata": {},
   "outputs": [],
   "source": []
  },
  {
   "cell_type": "code",
   "execution_count": null,
   "id": "e91c3d8e-6706-458e-9de9-9f32f803accc",
   "metadata": {},
   "outputs": [],
   "source": []
  },
  {
   "cell_type": "markdown",
   "id": "c9c64ef1-38e5-45bb-8e6d-e2d42888a16e",
   "metadata": {},
   "source": [
    "# Tic Tac Toe implementation in a board format taking X and O as an input"
   ]
  },
  {
   "cell_type": "code",
   "execution_count": 55,
   "id": "8b098973-09d0-42ca-a454-1099905dde1c",
   "metadata": {},
   "outputs": [
    {
     "name": "stdout",
     "output_type": "stream",
     "text": [
      "['\\n     {} \\n        \\n    ', '\\n     {} \\n        \\n    ', '\\n     {} \\n        \\n    ']\n"
     ]
    }
   ],
   "source": [
    "row1 = [\n",
    "    '''\n",
    "     {} \n",
    "        \n",
    "    ''',\n",
    "    '''\n",
    "     {} \n",
    "        \n",
    "    ''',\n",
    "    '''\n",
    "     {} \n",
    "        \n",
    "    '''\n",
    "]\n",
    "print(row1)\n"
   ]
  },
  {
   "cell_type": "code",
   "execution_count": null,
   "id": "ce58b387-8318-42c8-8112-789a4628bf89",
   "metadata": {},
   "outputs": [],
   "source": []
  }
 ],
 "metadata": {
  "kernelspec": {
   "display_name": "Python [conda env:base] *",
   "language": "python",
   "name": "conda-base-py"
  },
  "language_info": {
   "codemirror_mode": {
    "name": "ipython",
    "version": 3
   },
   "file_extension": ".py",
   "mimetype": "text/x-python",
   "name": "python",
   "nbconvert_exporter": "python",
   "pygments_lexer": "ipython3",
   "version": "3.12.7"
  }
 },
 "nbformat": 4,
 "nbformat_minor": 5
}
