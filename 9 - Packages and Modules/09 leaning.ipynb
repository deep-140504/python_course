{
 "cells": [
  {
   "cell_type": "markdown",
   "id": "71ca02c2-6833-4cf3-90e1-077a926402c9",
   "metadata": {},
   "source": [
    "# Packages"
   ]
  },
  {
   "cell_type": "raw",
   "id": "03c2d096-4825-42f1-b699-2a6d505211d3",
   "metadata": {},
   "source": [
    "Pypi is a repository for open source third party pythin packages, which can be installed using the pip install command"
   ]
  },
  {
   "cell_type": "raw",
   "id": "89cbec59-76c6-41cd-83bd-eb7c076b3ce7",
   "metadata": {},
   "source": [
    "modules is really a just .py script\n",
    "so using a module is like using a py script in another pyscript\n",
    "so it is basically a module "
   ]
  },
  {
   "cell_type": "code",
   "execution_count": null,
   "id": "8f1b4f8a",
   "metadata": {
    "vscode": {
     "languageId": "plaintext"
    }
   },
   "outputs": [],
   "source": [
    "Module: A single file containing Python code (functions, classes, etc.).\n",
    "Package: A directory that contains multiple related modules and has an __init__.py file."
   ]
  }
 ],
 "metadata": {
  "kernelspec": {
   "display_name": "Python [conda env:base] *",
   "language": "python",
   "name": "conda-base-py"
  },
  "language_info": {
   "codemirror_mode": {
    "name": "ipython",
    "version": 3
   },
   "file_extension": ".py",
   "mimetype": "text/x-python",
   "name": "python",
   "nbconvert_exporter": "python",
   "pygments_lexer": "ipython3",
   "version": "3.12.7"
  }
 },
 "nbformat": 4,
 "nbformat_minor": 5
}
