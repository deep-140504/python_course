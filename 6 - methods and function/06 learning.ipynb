{
 "cells": [
  {
   "cell_type": "code",
   "execution_count": null,
   "id": "c3f6a5cd-2be3-44eb-9ba7-839a49fd3ac7",
   "metadata": {},
   "outputs": [
    {
     "ename": "",
     "evalue": "",
     "output_type": "error",
     "traceback": [
      "\u001b[1;31mRunning cells with 'Python 3.13.1' requires the ipykernel package.\n",
      "\u001b[1;31mRun the following command to install 'ipykernel' into the Python environment. \n",
      "\u001b[1;31mCommand: '\"c:/Program Files/Python313/python.exe\" -m pip install ipykernel -U --user --force-reinstall'"
     ]
    }
   ],
   "source": [
    "def even_check (num):\n",
    "        res = (num % 2 == 0)\n",
    "        return res\n",
    "num = input('enter a number:')\n",
    "while num != -1:\n",
    "    num = input('enter a number:')\n",
    "    print(even_check(num))\n",
    "\n"
   ]
  },
  {
   "cell_type": "code",
   "execution_count": null,
   "id": "3d8abd03-64cc-43b2-a8d6-849877d712f8",
   "metadata": {},
   "outputs": [],
   "source": [
    "from random import shuffle\n",
    "\n",
    "# Function to shuffle the list\n",
    "def shuffle_list(lst):\n",
    "    shuffle(lst)\n",
    "\n",
    "# Initialize the list and shuffle it\n",
    "lst = [1, 2, 3, 4]\n",
    "shuffle_list(lst)\n",
    "print(f\"Shuffled list: {lst}\")\n",
    "\n",
    "# Store the index of the number 2\n",
    "correct_index = lst.index(2)\n",
    "\n",
    "# Use a loop to handle guesses\n",
    "guess = None  # Initialize guess\n",
    "while guess != correct_index:\n",
    "    try:\n",
    "        # Get user input and convert to integer\n",
    "        guess = int(input(\"Guess the index of the number 2: \"))\n",
    "        if guess == correct_index:\n",
    "            print(\"Yay! You made a successful guess!\")\n",
    "        else:\n",
    "            print(\"Wrong guess, try again!\")\n",
    "    except ValueError:\n",
    "        print(\"Please enter a valid number!\")\n"
   ]
  },
  {
   "cell_type": "code",
   "execution_count": 1,
   "id": "3f58b6f3-b205-4e2c-9126-7bafd7a21937",
   "metadata": {},
   "outputs": [
    {
     "name": "stdout",
     "output_type": "stream",
     "text": [
      "{'fruit': 'apple', 'veggie': 'potato'}\n",
      "apple\n"
     ]
    }
   ],
   "source": [
    "def myfunc(**kwargs):\n",
    "    print(kwargs)\n",
    "    if 'fruit' in kwargs:\n",
    "        print(f'{kwargs['fruit']}')\n",
    "myfunc(fruit = 'apple', veggie = 'potato')\n",
    "# keep in mind,\n",
    "# that while enetering values regarding to the kwargs, you will not make the comma along the keys\n",
    "# and additionally the value will be assigned using the = not the : even though it is for the dictionary\n",
    "\n",
    "## ** is used to pass data to the function in python in the dictionary format while the * is used to pass the data in the tuple format"
   ]
  },
  {
   "cell_type": "markdown",
   "id": "ed77f1c5-1d25-4e54-8ca1-d63678b78b72",
   "metadata": {},
   "source": [
    "# Lambda Expressions Map and Filter Functions"
   ]
  },
  {
   "cell_type": "code",
   "execution_count": 12,
   "id": "2b671598-b1f4-4d22-a805-f3fa235ea151",
   "metadata": {},
   "outputs": [
    {
     "data": {
      "text/plain": [
       "['even', 'C', 'S', 'K', 'even']"
      ]
     },
     "execution_count": 12,
     "metadata": {},
     "output_type": "execute_result"
    }
   ],
   "source": [
    "def splicer(mystring):\n",
    "    if len(mystring) % 2 == 0:\n",
    "        return 'even'\n",
    "    else:\n",
    "        return mystring[0]\n",
    "mynames = ['John','Cindy','Sarah','Kelly','Mike']\n",
    "list(map(splicer,mynames))\n",
    "# first parameter in the map function is a function and the other parameter is an iterable\n",
    "# so basically the map function performs operation on the iterable object according to the logic mentioned in the function\n",
    "# the thing to take into consideration here is that the \"splicer\" which is a function is not called\n",
    "# the function is just passed as a parameter as the map reduce will itself call the function and do the action\n",
    "# and additionaly the map returns the address of the list , so u need to typecat the same into a list using list\n",
    "# so either convert the address or iterate like: for n in (map(splicer, mynames))\n",
    "                                                    # print(n)"
   ]
  },
  {
   "cell_type": "code",
   "execution_count": 14,
   "id": "337bb24a-4b42-4427-b158-276d039204a0",
   "metadata": {},
   "outputs": [
    {
     "data": {
      "text/plain": [
       "[2, 4, 6]"
      ]
     },
     "execution_count": 14,
     "metadata": {},
     "output_type": "execute_result"
    }
   ],
   "source": [
    "def func(num):\n",
    "    if(num % 2 == 0):\n",
    "        return num\n",
    "lst = [1, 2, 3, 4, 5, 6]\n",
    "list(filter(func, lst))"
   ]
  },
  {
   "cell_type": "code",
   "execution_count": 30,
   "id": "656ad452-e1f3-4c5f-84b6-145cbf1dd988",
   "metadata": {},
   "outputs": [
    {
     "name": "stdout",
     "output_type": "stream",
     "text": [
      "9\n",
      "[1, 4, 9, 16, 25, 36]\n",
      "['odd', 'even', 'odd', 'even', 'odd', 'even']\n"
     ]
    }
   ],
   "source": [
    "def square(num):\n",
    "    result = num ** 2\n",
    "    return result\n",
    "\n",
    "print(square(3))\n",
    "\n",
    "#the above function can also be written in the following manner\n",
    "def square(num): return num ** 2\n",
    "# to convert the same in the lambda function do not give it the name and apply def keyword and put the keyword \"lambda\" in the place\n",
    "# so all this combined yields\n",
    "#lambda num : return num ** 2\n",
    "# so then we will need to map it with the iterable using the map function and do not forget to the caste the same with the list\n",
    "print(list(map(lambda num :  num ** 2, lst)))\n",
    "\n",
    "print(list(map(lambda num : \"even\" if  num % 2 == 0 else \"odd\", lst))) # this is one way to do\n"
   ]
  },
  {
   "cell_type": "markdown",
   "id": "4ea12e80-3fb5-494f-a718-c31a7574697b",
   "metadata": {},
   "source": [
    "#### scopes"
   ]
  },
  {
   "cell_type": "markdown",
   "id": "d486d45b-0ec4-4544-b206-481d7df7ee02",
   "metadata": {},
   "source": [
    "**LEGB Rule:**\n",
    "\n",
    "L: Local — Names assigned in any way within a function (def or lambda), and not declared global in that function.\n",
    "\n",
    "E: Enclosing function locals — Names in the local scope of any and all enclosing functions (def or lambda), from inner to outer.\n",
    "\n",
    "G: Global (module) — Names assigned at the top-level of a module file, or declared global in a def within the file.\n",
    "\n",
    "B: Built-in (Python) — Names preassigned in the built-in names module : open, range, SyntaxError,..."
   ]
  },
  {
   "cell_type": "code",
   "execution_count": 11,
   "id": "092da98f-1a7a-40b7-bc36-3df161c5589d",
   "metadata": {},
   "outputs": [
    {
     "name": "stdout",
     "output_type": "stream",
     "text": [
      "hello this is a local string\n"
     ]
    }
   ],
   "source": [
    "name = \"this is a global string\"\n",
    "def greet():\n",
    "    name = \"this is an enclosing functoin string\"\n",
    "    def hello():\n",
    "        name = \"this is a local string\"\n",
    "        print(\"hello \" + name)\n",
    "    hello()\n",
    "greet()"
   ]
  },
  {
   "cell_type": "code",
   "execution_count": 17,
   "id": "7893ba1b-f5cf-41b4-8184-d98593dedaea",
   "metadata": {},
   "outputs": [
    {
     "name": "stdout",
     "output_type": "stream",
     "text": [
      "23\n",
      "14\n",
      "23\n"
     ]
    }
   ],
   "source": [
    "x = 23\n",
    "def fun():\n",
    "    x = 14\n",
    "    return x;\n",
    "print(x) # this gives 25 as an output because thr function \"fun\" is not called yet so the value, 23 can not be assigned to the 14\n",
    "print(fun())\n",
    "print(x) # this will also give 23 as an output and not the 14, because this statement is out of the function \"fun()\" so it is local to the x = 23"
   ]
  },
  {
   "cell_type": "code",
   "execution_count": 21,
   "id": "34269ea3-ba3e-4a4c-85cc-35ac0cdc84ac",
   "metadata": {},
   "outputs": [
    {
     "name": "stdout",
     "output_type": "stream",
     "text": [
      "x is 50 right here \n",
      "i just locally changed x to 14\n"
     ]
    }
   ],
   "source": [
    "x = 50\n",
    "def fun(x):\n",
    "    print(f'x is {x} right here ')\n",
    "    x = 14 #this is a local reassignment\n",
    "    print(f\"i just locally changed x to {x}\")\n",
    "fun(x)"
   ]
  },
  {
   "cell_type": "code",
   "execution_count": 25,
   "id": "0b3e4a45-ce30-405d-aa29-01bc071e5155",
   "metadata": {},
   "outputs": [
    {
     "name": "stdout",
     "output_type": "stream",
     "text": [
      "50\n"
     ]
    }
   ],
   "source": [
    "print(x) #so the example that the tutor explained here is discussed above"
   ]
  },
  {
   "cell_type": "markdown",
   "id": "7d608ce3-4b8b-499e-8c45-aea69fe2bfea",
   "metadata": {},
   "source": [
    "# **global keyowrd**"
   ]
  },
  {
   "cell_type": "code",
   "execution_count": 37,
   "id": "817c7251-9cf6-40fa-a35c-dfd823237e30",
   "metadata": {},
   "outputs": [
    {
     "name": "stdout",
     "output_type": "stream",
     "text": [
      "x is 50 right here \n",
      "i just locally changed x to 14\n",
      "x is changed to 14 using the global keyword\n"
     ]
    }
   ],
   "source": [
    "x = 50\n",
    "def fun():\n",
    "    global x\n",
    "    print(f'x is {x} right here ')\n",
    "    x = 14 #local reassignment on a global variable\n",
    "    print(f\"i just locally changed x to {x}\")\n",
    "fun()\n",
    "print(f'x is changed to {x} using the global keyword')"
   ]
  },
  {
   "cell_type": "markdown",
   "id": "b11d6343-4332-484c-bb61-ae84ca3840d2",
   "metadata": {},
   "source": [
    "#### avoid using global keyword as a beginner unless it is necessary rather pass the global variable as an argument to the function and return the modified value, after that just assign the modefied value to the x again, example for the same is given below"
   ]
  },
  {
   "cell_type": "code",
   "execution_count": 43,
   "id": "ab05c423-1624-40c9-b50a-082f02893951",
   "metadata": {},
   "outputs": [
    {
     "name": "stdout",
     "output_type": "stream",
     "text": [
      "x is changed to 14\n"
     ]
    }
   ],
   "source": [
    "x = 50\n",
    "def fun(x):\n",
    "    x = 14\n",
    "    return x\n",
    "x = fun(x)\n",
    "print(f'x is changed to {x}')"
   ]
  },
  {
   "cell_type": "markdown",
   "id": "23145d6c-2cec-4ff1-accd-e4a78a373a79",
   "metadata": {},
   "source": [
    "#### using global keyword can be dangerous condiering the fact that you might accidentally change the variable without ever noing it and makes the debugging very tedious"
   ]
  },
  {
   "cell_type": "code",
   "execution_count": null,
   "id": "3b77bcfb-f00d-40d5-a5cb-d02aebdf8708",
   "metadata": {},
   "outputs": [],
   "source": []
  }
 ],
 "metadata": {
  "kernelspec": {
   "display_name": "Python 3",
   "language": "python",
   "name": "python3"
  },
  "language_info": {
   "codemirror_mode": {
    "name": "ipython",
    "version": 3
   },
   "file_extension": ".py",
   "mimetype": "text/x-python",
   "name": "python",
   "nbconvert_exporter": "python",
   "pygments_lexer": "ipython3",
   "version": "3.13.1"
  }
 },
 "nbformat": 4,
 "nbformat_minor": 5
}
