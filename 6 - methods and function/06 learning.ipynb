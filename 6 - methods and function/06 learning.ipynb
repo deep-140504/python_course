{
 "cells": [
  {
   "cell_type": "code",
   "execution_count": 13,
   "id": "c3f6a5cd-2be3-44eb-9ba7-839a49fd3ac7",
   "metadata": {},
   "outputs": [
    {
     "name": "stdin",
     "output_type": "stream",
     "text": [
      "enter a number: 3\n",
      "enter a number: 3\n"
     ]
    },
    {
     "ename": "TypeError",
     "evalue": "not all arguments converted during string formatting",
     "output_type": "error",
     "traceback": [
      "\u001b[1;31m---------------------------------------------------------------------------\u001b[0m",
      "\u001b[1;31mTypeError\u001b[0m                                 Traceback (most recent call last)",
      "Cell \u001b[1;32mIn[13], line 7\u001b[0m\n\u001b[0;32m      5\u001b[0m \u001b[38;5;28;01mwhile\u001b[39;00m num \u001b[38;5;241m!=\u001b[39m \u001b[38;5;241m-\u001b[39m\u001b[38;5;241m1\u001b[39m:\n\u001b[0;32m      6\u001b[0m     num \u001b[38;5;241m=\u001b[39m \u001b[38;5;28minput\u001b[39m(\u001b[38;5;124m'\u001b[39m\u001b[38;5;124menter a number:\u001b[39m\u001b[38;5;124m'\u001b[39m)\n\u001b[1;32m----> 7\u001b[0m     \u001b[38;5;28mprint\u001b[39m(even_check(num))\n",
      "Cell \u001b[1;32mIn[13], line 2\u001b[0m, in \u001b[0;36meven_check\u001b[1;34m(num)\u001b[0m\n\u001b[0;32m      1\u001b[0m \u001b[38;5;28;01mdef\u001b[39;00m \u001b[38;5;21meven_check\u001b[39m (num):\n\u001b[1;32m----> 2\u001b[0m         res \u001b[38;5;241m=\u001b[39m (num \u001b[38;5;241m%\u001b[39m \u001b[38;5;241m2\u001b[39m \u001b[38;5;241m==\u001b[39m \u001b[38;5;241m0\u001b[39m)\n\u001b[0;32m      3\u001b[0m         \u001b[38;5;28;01mreturn\u001b[39;00m res\n",
      "\u001b[1;31mTypeError\u001b[0m: not all arguments converted during string formatting"
     ]
    }
   ],
   "source": [
    "def even_check (num):\n",
    "        res = (num % 2 == 0)\n",
    "        return res\n",
    "num = input('enter a number:')\n",
    "while num != -1:\n",
    "    num = input('enter a number:')\n",
    "    print(even_check(num))\n",
    "\n"
   ]
  },
  {
   "cell_type": "code",
   "execution_count": null,
   "id": "3d8abd03-64cc-43b2-a8d6-849877d712f8",
   "metadata": {},
   "outputs": [],
   "source": [
    "from random import shuffle\n",
    "\n",
    "# Function to shuffle the list\n",
    "def shuffle_list(lst):\n",
    "    shuffle(lst)\n",
    "\n",
    "# Initialize the list and shuffle it\n",
    "lst = [1, 2, 3, 4]\n",
    "shuffle_list(lst)\n",
    "print(f\"Shuffled list: {lst}\")\n",
    "\n",
    "# Store the index of the number 2\n",
    "correct_index = lst.index(2)\n",
    "\n",
    "# Use a loop to handle guesses\n",
    "guess = None  # Initialize guess\n",
    "while guess != correct_index:\n",
    "    try:\n",
    "        # Get user input and convert to integer\n",
    "        guess = int(input(\"Guess the index of the number 2: \"))\n",
    "        if guess == correct_index:\n",
    "            print(\"Yay! You made a successful guess!\")\n",
    "        else:\n",
    "            print(\"Wrong guess, try again!\")\n",
    "    except ValueError:\n",
    "        print(\"Please enter a valid number!\")\n"
   ]
  },
  {
   "cell_type": "code",
   "execution_count": 1,
   "id": "3f58b6f3-b205-4e2c-9126-7bafd7a21937",
   "metadata": {},
   "outputs": [
    {
     "name": "stdout",
     "output_type": "stream",
     "text": [
      "{'fruit': 'apple', 'veggie': 'potato'}\n",
      "apple\n"
     ]
    }
   ],
   "source": [
    "def myfunc(**kwargs):\n",
    "    print(kwargs)\n",
    "    if 'fruit' in kwargs:\n",
    "        print(f'{kwargs['fruit']}')\n",
    "myfunc(fruit = 'apple', veggie = 'potato')\n",
    "# keep in mind,\n",
    "# that while enetering values regarding to the kwargs, you will not make the comma along the keys\n",
    "# and additionally the value will be assigned using the = not the : even though it is for the dictionary\n",
    "\n",
    "## ** is used to pass data to the function in python in the dictionary format while the * is used to pass the data in the tuple format"
   ]
  },
  {
   "cell_type": "markdown",
   "id": "ed77f1c5-1d25-4e54-8ca1-d63678b78b72",
   "metadata": {},
   "source": [
    "# Lambda Expressions Map and Filter Functions"
   ]
  },
  {
   "cell_type": "code",
   "execution_count": 12,
   "id": "2b671598-b1f4-4d22-a805-f3fa235ea151",
   "metadata": {},
   "outputs": [
    {
     "data": {
      "text/plain": [
       "['even', 'C', 'S', 'K', 'even']"
      ]
     },
     "execution_count": 12,
     "metadata": {},
     "output_type": "execute_result"
    }
   ],
   "source": [
    "def splicer(mystring):\n",
    "    if len(mystring) % 2 == 0:\n",
    "        return 'even'\n",
    "    else:\n",
    "        return mystring[0]\n",
    "mynames = ['John','Cindy','Sarah','Kelly','Mike']\n",
    "list(map(splicer,mynames))\n",
    "# first parameter in the map function is a function and the other parameter is an iterable\n",
    "# so basically the map function performs operation on the iterable object according to the logic mentioned in the function\n",
    "# the thing to take into consideration here is that the \"splicer\" which is a function is not called\n",
    "# the function is just passed as a parameter as the map reduce will itself call the function and do the action\n",
    "# and additionaly the map returns the address of the list , so u need to typecat the same into a list using list\n",
    "# so either convert the address or iterate like: for n in (map(splicer, mynames))\n",
    "                                                    # print(n)"
   ]
  },
  {
   "cell_type": "code",
   "execution_count": 14,
   "id": "337bb24a-4b42-4427-b158-276d039204a0",
   "metadata": {},
   "outputs": [
    {
     "data": {
      "text/plain": [
       "[2, 4, 6]"
      ]
     },
     "execution_count": 14,
     "metadata": {},
     "output_type": "execute_result"
    }
   ],
   "source": [
    "def func(num):\n",
    "    if(num % 2 == 0):\n",
    "        return num\n",
    "lst = [1, 2, 3, 4, 5, 6]\n",
    "list(filter(func, lst))"
   ]
  },
  {
   "cell_type": "code",
   "execution_count": 30,
   "id": "656ad452-e1f3-4c5f-84b6-145cbf1dd988",
   "metadata": {},
   "outputs": [
    {
     "name": "stdout",
     "output_type": "stream",
     "text": [
      "9\n",
      "[1, 4, 9, 16, 25, 36]\n",
      "['odd', 'even', 'odd', 'even', 'odd', 'even']\n"
     ]
    }
   ],
   "source": [
    "def square(num):\n",
    "    result = num ** 2\n",
    "    return result\n",
    "\n",
    "print(square(3))\n",
    "\n",
    "#the above function can also be written in the following manner\n",
    "def square(num): return num ** 2\n",
    "# to convert the same in the lambda function do not give it the name and apply def keyword and put the keyword \"lambda\" in the place\n",
    "# so all this combined yields\n",
    "#lambda num : return num ** 2\n",
    "# so then we will need to map it with the iterable using the map function and do not forget to the caste the same with the list\n",
    "print(list(map(lambda num :  num ** 2, lst)))\n",
    "\n",
    "print(list(map(lambda num : \"even\" if  num % 2 == 0 else \"odd\", lst))) # this is one way to do\n"
   ]
  },
  {
   "cell_type": "code",
   "execution_count": null,
   "id": "e873cc18-602d-43b9-aa4f-20d08523f311",
   "metadata": {},
   "outputs": [],
   "source": []
  }
 ],
 "metadata": {
  "kernelspec": {
   "display_name": "Python [conda env:base] *",
   "language": "python",
   "name": "conda-base-py"
  },
  "language_info": {
   "codemirror_mode": {
    "name": "ipython",
    "version": 3
   },
   "file_extension": ".py",
   "mimetype": "text/x-python",
   "name": "python",
   "nbconvert_exporter": "python",
   "pygments_lexer": "ipython3",
   "version": "3.12.7"
  }
 },
 "nbformat": 4,
 "nbformat_minor": 5
}
