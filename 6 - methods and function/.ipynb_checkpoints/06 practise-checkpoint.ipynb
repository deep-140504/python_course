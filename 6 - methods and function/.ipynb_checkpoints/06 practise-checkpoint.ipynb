{
 "cells": [
  {
   "cell_type": "markdown",
   "id": "ceaee93e-73d8-49a1-b301-8afd837d7476",
   "metadata": {},
   "source": [
    "# Write a function that computes the volume of a sphere given its radius."
   ]
  },
  {
   "cell_type": "code",
   "execution_count": 4,
   "id": "0ad4cb02-bade-4bad-b862-5d856ec27b1f",
   "metadata": {},
   "outputs": [
    {
     "name": "stdout",
     "output_type": "stream",
     "text": [
      "33.510321638291124\n"
     ]
    }
   ],
   "source": [
    "from math import pi\n",
    "def vol(rad):\n",
    "    return (4 / 3 * pi * (rad ** 3))\n",
    "print(vol (2))"
   ]
  },
  {
   "cell_type": "markdown",
   "id": "af5c4e38-0345-4c3f-b132-b500f1db5eaa",
   "metadata": {},
   "source": [
    "# Write a function that checks whether a number is in a given range (inclusive of high and low)\n",
    "\n",
    "\n"
   ]
  },
  {
   "cell_type": "code",
   "execution_count": 14,
   "id": "4a73550f-daf7-4b44-8b9f-b70259fcbf6f",
   "metadata": {},
   "outputs": [
    {
     "name": "stdout",
     "output_type": "stream",
     "text": [
      "2 is not in the range of 2 and 7\n"
     ]
    }
   ],
   "source": [
    "def ran_check(num, low, high):\n",
    "    if num > low and num < high:\n",
    "        print(f'{num} is in the range of {low} and {high}')\n",
    "    else: \n",
    "        print(f'{num} is not in the range of {low} and {high}')\n",
    "ran_check(2,2,7)"
   ]
  },
  {
   "cell_type": "markdown",
   "id": "fa582c37-06eb-446b-b9c2-bed0ce2d6d5b",
   "metadata": {},
   "source": [
    "\n",
    "# Write a Python function that accepts a string and calculates the number of upper case letters and lower case letters."
   ]
  },
  {
   "cell_type": "code",
   "execution_count": 19,
   "id": "549e269a-9605-4353-997f-b42d99704281",
   "metadata": {},
   "outputs": [
    {
     "name": "stdout",
     "output_type": "stream",
     "text": [
      "there are total number of 33 lower case characters and 4 upper case characters\n"
     ]
    }
   ],
   "source": [
    "def up_low(s):\n",
    "    low, upper = 0, 0\n",
    "    for _ in s:\n",
    "        if (_ <= 'z' and _ >= 'a'):\n",
    "            low += 1\n",
    "        elif(_ <= 'Z' and _ >= 'A'):\n",
    "            upper += 1\n",
    "    return (low, upper)\n",
    "s = 'Hello Mr. Rogers, how are you this fine Tuesday?'\n",
    "(low, upper) = up_low(s)\n",
    "print(f\"there are total number of {low} lower case characters and {upper} upper case characters\")"
   ]
  },
  {
   "cell_type": "markdown",
   "id": "f482f116-9a91-4892-b443-9bfa1ef629a6",
   "metadata": {},
   "source": [
    "# Write a Python function that takes a list and returns a new list with unique elements of the first list."
   ]
  },
  {
   "cell_type": "code",
   "execution_count": 28,
   "id": "532e9ff3-1b75-41e4-b66d-2f33b91a65d0",
   "metadata": {},
   "outputs": [
    {
     "name": "stdout",
     "output_type": "stream",
     "text": [
      "[1, 2, 3, 4, 5]\n"
     ]
    }
   ],
   "source": [
    "Sample_List = [1,1,1,1,2,2,3,3,3,3,4,5]\n",
    "Unique_List = [1, 2, 3, 4, 5]\n",
    "s = list(set(Sample_List))\n",
    "print(s)"
   ]
  },
  {
   "cell_type": "markdown",
   "id": "a7e104ed-8b04-4036-96e3-832f14d937d2",
   "metadata": {},
   "source": [
    "# Write a Python function to multiply all the numbers in a list."
   ]
  },
  {
   "cell_type": "code",
   "execution_count": 36,
   "id": "94c49006-896f-4dab-b31f-481d1d2cbf57",
   "metadata": {},
   "outputs": [
    {
     "name": "stdout",
     "output_type": "stream",
     "text": [
      "-24\n"
     ]
    }
   ],
   "source": [
    "Sample_List = [1, 2, 3, -4]\n",
    "ans = 1\n",
    "for x in Sample_List:\n",
    "    ans *= x\n",
    "print(ans)"
   ]
  },
  {
   "cell_type": "markdown",
   "id": "07915b4f-202d-4234-93da-248921835a8c",
   "metadata": {},
   "source": [
    "# Write a Python function that checks whether a word or phrase is palindrome or not."
   ]
  },
  {
   "cell_type": "code",
   "execution_count": 45,
   "id": "4578d5af-b13c-44ae-800d-8721a826f282",
   "metadata": {},
   "outputs": [
    {
     "name": "stdout",
     "output_type": "stream",
     "text": [
      "helleh is a palindrome\n"
     ]
    }
   ],
   "source": [
    "def palindrome(s):\n",
    "    i , j = 0, len(s) - 1\n",
    "    while i < j:\n",
    "        if s[i] != s[j]:\n",
    "            print(f'{s} is not a palindrome')\n",
    "            return\n",
    "        i += 1\n",
    "        j -= 1\n",
    "    print(f'{s} is a palindrome')\n",
    "palindrome('helleh')"
   ]
  },
  {
   "cell_type": "markdown",
   "id": "8f913826-3d5d-4bba-adba-30c7b6a208f5",
   "metadata": {},
   "source": [
    "# Write a Python function to check whether a string is pangram or not. (Assume the string passed in does not have any punctuation)"
   ]
  },
  {
   "cell_type": "code",
   "execution_count": 78,
   "id": "d316538f-03d4-4ca7-9470-68b6b7ff6904",
   "metadata": {},
   "outputs": [
    {
     "name": "stdout",
     "output_type": "stream",
     "text": [
      "{'u', 'k', 'g', 'x', 'h', 'i', 's', 'a', 't', 'l', 'z', 'w', 'o', 'c', 'f', 'e', 'y', 'b', 'p', 'j', 'n', 'd', 'v', 'r', 'q', 'm'}\n",
      "26\n",
      "The quick brown fox jumps over the lazy dog is a paragram\n",
      "\n",
      "\n",
      "\n",
      "The quick brown fox jumps over the lazy dog is a paragram\n"
     ]
    }
   ],
   "source": [
    "example = \"The quick brown fox jumps over the lazy dog\"\n",
    "s = example.lower()\n",
    "t = s.replace(\" \", \"\")\n",
    "st = set(t)\n",
    "print(st)\n",
    "print(len(st))\n",
    "if len(st) == 26:\n",
    "    print(f'{example} is a paragram')\n",
    "else:\n",
    "    print(f'{example} is not a paragram')\n",
    "\n",
    "# the error when i submitted before happened because i was not assigning the variable to the string it was returning after caling the lower() function on the string\n",
    "# because i was expecting the string to change while strings are immutable in the python\n",
    "print()\n",
    "print()\n",
    "print()\n",
    "# the other way to do so is:\n",
    "stemp = set(example.lower().replace(\" \", \"\"))\n",
    "if len(stemp) == 26:\n",
    "    print(f'{example} is a paragram')\n",
    "else:\n",
    "    print(f'{example} is not a paragram')"
   ]
  },
  {
   "cell_type": "markdown",
   "id": "6705a380-7c67-414b-b73b-4f03cabb05cf",
   "metadata": {},
   "source": [
    "# LESSER OF TWO EVENS: Write a function that returns the lesser of two given numbers if both numbers are even, but returns the greater if one or both numbers are odd"
   ]
  },
  {
   "cell_type": "code",
   "execution_count": 93,
   "id": "eb6c3c8d-359c-4830-a9a3-ee01530d7197",
   "metadata": {},
   "outputs": [
    {
     "data": {
      "text/plain": [
       "3"
      ]
     },
     "execution_count": 93,
     "metadata": {},
     "output_type": "execute_result"
    }
   ],
   "source": [
    "def lesser_of_two_evens(a,b):\n",
    "    return a if a < b else b\n",
    "lesser_of_two_evens(2, 4)\n",
    "\n",
    "lesser_of_two_evens(3,5)"
   ]
  },
  {
   "cell_type": "markdown",
   "id": "14d58ca6-729e-44aa-8dfc-ae2264b28201",
   "metadata": {},
   "source": [
    "# ANIMAL CRACKERS: Write a function takes a two-word string and returns True if both words begin with same letter"
   ]
  },
  {
   "cell_type": "code",
   "execution_count": 102,
   "id": "6cae5c78-2d32-4d26-9327-9699eaa44459",
   "metadata": {},
   "outputs": [
    {
     "name": "stdout",
     "output_type": "stream",
     "text": [
      "true\n"
     ]
    }
   ],
   "source": [
    "def animal_crackers(text):\n",
    "    a = (text.split(\" \"))\n",
    "    if(a[0][0] == a[1][0]):\n",
    "         print(\"true\")\n",
    "    else:\n",
    "        print(\"false\")\n",
    "animal_crackers('Levelheaded Llama')"
   ]
  },
  {
   "cell_type": "markdown",
   "id": "72dbb49a-1b32-4ed7-9985-5dd4209bfb05",
   "metadata": {},
   "source": [
    "#### MAKES TWENTY: Given two integers, return True if the sum of the integers is 20 *or* if one of the integers is 20. If not, return False"
   ]
  },
  {
   "cell_type": "markdown",
   "id": "17fbee49-e259-4d30-9dc0-323b91b1082b",
   "metadata": {},
   "source": [
    "# LEVEL 1 PROBLEMS"
   ]
  },
  {
   "cell_type": "markdown",
   "id": "a4ff3acd-831c-4e6f-8e1c-1b0fdb1327fa",
   "metadata": {},
   "source": [
    "#### OLD MACDONALD: Write a function that capitalizes the first and fourth letters of a name\n",
    "     \n",
    "    old_macdonald('macdonald') --> MacDonald\n",
    "    \n",
    "Note: `'macdonald'.capitalize()` returns `'Macdonald'`"
   ]
  },
  {
   "cell_type": "code",
   "execution_count": 107,
   "id": "72bc4e70-cd08-4506-ba63-440ff40c3f8e",
   "metadata": {},
   "outputs": [
    {
     "name": "stdout",
     "output_type": "stream",
     "text": [
      "MacDonald\n"
     ]
    }
   ],
   "source": [
    "def old_macdonald(name):\n",
    "    name = name[0].upper() + name[1:]\n",
    "    if len(name) >= 4:\n",
    "        name = name[:3] + name[3].upper() + name[4:]\n",
    "    return name\n",
    "print(old_macdonald('macdonald'))  # Output: MacDonald\n"
   ]
  },
  {
   "cell_type": "markdown",
   "id": "b498121a-4979-4687-9382-5a3260572665",
   "metadata": {},
   "source": [
    "#### MASTER YODA: Given a sentence, return a sentence with the words reversed"
   ]
  },
  {
   "cell_type": "code",
   "execution_count": 120,
   "id": "b178a61b-3433-4e39-9026-3cf01e897d39",
   "metadata": {},
   "outputs": [
    {
     "name": "stdout",
     "output_type": "stream",
     "text": [
      "home am I\n"
     ]
    }
   ],
   "source": [
    "def master_yoda(text):\n",
    "    ls = text.split(\" \")\n",
    "    ls.reverse()\n",
    "    print(\" \".join(ls))\n",
    "\n",
    "master_yoda('I am home')"
   ]
  },
  {
   "cell_type": "code",
   "execution_count": 122,
   "id": "b8c9c583-c0df-4bc6-8376-96561b3f7ca8",
   "metadata": {},
   "outputs": [
    {
     "name": "stdout",
     "output_type": "stream",
     "text": [
      "ready are We\n"
     ]
    }
   ],
   "source": [
    "\n",
    "master_yoda('We are ready')"
   ]
  },
  {
   "cell_type": "markdown",
   "id": "19b24c92-382e-491a-9eee-bfac8719e302",
   "metadata": {},
   "source": [
    "#### ALMOST THERE: Given an integer n, return True if n is within 10 of either 100 or 200"
   ]
  },
  {
   "cell_type": "code",
   "execution_count": 133,
   "id": "95f1d686-2c15-4237-921a-83e8e041e1d4",
   "metadata": {},
   "outputs": [
    {
     "name": "stdout",
     "output_type": "stream",
     "text": [
      "true\n"
     ]
    }
   ],
   "source": [
    "def almost_there(n):\n",
    "    if(abs(n - 200) <= 10 or abs(n - 100) <= 10):\n",
    "        print(\"true\")\n",
    "\n",
    "almost_there(114)\n",
    "\n",
    "almost_there(209)"
   ]
  },
  {
   "cell_type": "markdown",
   "id": "d853ce05-9065-40a6-bb00-5b110ebe90bc",
   "metadata": {},
   "source": [
    "# LEVEL 2 PROBLEMS"
   ]
  },
  {
   "cell_type": "markdown",
   "id": "e2b411ee-b931-4348-a159-2e0952758dc8",
   "metadata": {},
   "source": [
    "#### FIND 33: \n",
    "\n",
    "Given a list of ints, return True if the array contains a 3 next to a 3 somewhere.\n",
    "\n",
    "    has_33([1, 3, 3]) → True\n",
    "    has_33([1, 3, 1, 3]) → False\n",
    "    has_33([3, 1, 3]) → False"
   ]
  },
  {
   "cell_type": "code",
   "execution_count": 1,
   "id": "82a2efae-39a7-4a5f-b374-9a41e229ff35",
   "metadata": {},
   "outputs": [
    {
     "name": "stdout",
     "output_type": "stream",
     "text": [
      "True\n"
     ]
    }
   ],
   "source": [
    "def has_33(nums):\n",
    "    for i in range(len(nums) - 1): \n",
    "        if nums[i] == 3 and nums[i + 1] == 3:  \n",
    "            return True\n",
    "    return False\n",
    "\n",
    "print(has_33([1, 3, 3]))  \n"
   ]
  },
  {
   "cell_type": "markdown",
   "id": "79024354-1b97-4c9a-9d64-295e181b02fe",
   "metadata": {},
   "source": [
    "#### PAPER DOLL: Given a string, return a string where for every character in the original there are three characters"
   ]
  },
  {
   "cell_type": "code",
   "execution_count": 20,
   "id": "c9535569-2d46-4196-aa87-af23e64a199a",
   "metadata": {},
   "outputs": [
    {
     "name": "stdout",
     "output_type": "stream",
     "text": [
      "HHHeeellllllooo\n"
     ]
    }
   ],
   "source": [
    "\n",
    "# def paper_doll(text):\n",
    "#     lst = text.split()\n",
    "#     print(lst)\n",
    "#     flst = []\n",
    "#     for i in lst:\n",
    "#         flst += i * 3\n",
    "#     s = (\"\".join(flst))\n",
    "#     print(s)\n",
    "\n",
    "# paper_doll('Hello') this will not work, just call list on the string and you will get all the characters out of the string sepatarely\n",
    "\n",
    "\n",
    "def paper_doll(text):\n",
    "    flst = []\n",
    "    for i in text:\n",
    "        flst += i * 3\n",
    "    s = \"\".join(flst)\n",
    "    print(s)\n",
    "\n",
    "paper_doll('Hello')\n"
   ]
  },
  {
   "cell_type": "markdown",
   "id": "c4034536-5898-4650-a61f-af671638c878",
   "metadata": {},
   "source": [
    "#### BLACKJACK: Given three integers between 1 and 11, if their sum is less than or equal to 21, return their sum. If their sum exceeds 21 *and* there's an eleven, reduce the total sum by 10. Finally, if the sum (even after adjustment) exceeds 21, return 'BUST'\n"
   ]
  },
  {
   "cell_type": "code",
   "execution_count": 30,
   "id": "f15f23ac-7f5a-4c7d-a822-9908e69d6622",
   "metadata": {},
   "outputs": [
    {
     "name": "stdout",
     "output_type": "stream",
     "text": [
      "19\n",
      "BUST\n",
      "18\n"
     ]
    }
   ],
   "source": [
    "def blackjack(a, b, c):\n",
    "    total = a + b + c\n",
    "    \n",
    "    if total > 21 and (a == 11 or b == 11 or c == 11):\n",
    "        total -= 10\n",
    "    \n",
    "    if total > 21:\n",
    "        return 'BUST'\n",
    "    \n",
    "    return total\n",
    "\n",
    "print(blackjack(9,9,11))\n",
    "\n",
    "print(blackjack(9,9,9))\n",
    "\n",
    "print(blackjack(5,6,7))"
   ]
  },
  {
   "cell_type": "markdown",
   "id": "bcf722bd-9342-42ca-acbe-21b39636dae8",
   "metadata": {},
   "source": [
    "#### SUMMER OF '69: Return the sum of the numbers in the array, except ignore sections of numbers starting with a 6 and extending to the next 9 (every 6 will be followed by at least one 9). Return 0 for no numbers.\n"
   ]
  },
  {
   "cell_type": "code",
   "execution_count": 41,
   "id": "3e404098-15dd-4ecf-bba1-e115612845b4",
   "metadata": {},
   "outputs": [
    {
     "name": "stdout",
     "output_type": "stream",
     "text": [
      "9\n",
      "9\n",
      "14\n"
     ]
    }
   ],
   "source": [
    "def summer_69(arr):\n",
    "    sumTillSix = 0\n",
    "    flagSix = 0\n",
    "    netSum = 0\n",
    "    for i in arr:\n",
    "        netSum += i\n",
    "        if(flagSix == 1):\n",
    "            sumTillSix += i\n",
    "            if(i == 9):\n",
    "                netSum -= sumTillSix\n",
    "                flagSix = 0\n",
    "        elif (flagSix == 0):\n",
    "            if(i == 6):\n",
    "                flagSix = 1\n",
    "                sumTillSix += i\n",
    "    return netSum\n",
    "\n",
    "print(summer_69([1, 3, 5]))\n",
    "print(summer_69([4, 5, 6, 7, 8, 9]))\n",
    "print(summer_69([2, 1, 6, 9, 11])) "
   ]
  },
  {
   "cell_type": "markdown",
   "id": "9e7dcb9f-abe5-4c4c-a28c-71bcb0c8a1c8",
   "metadata": {},
   "source": [
    "# CHALLENGING PROBLEMS"
   ]
  },
  {
   "cell_type": "markdown",
   "id": "a21c79b2-38f8-41c9-98d9-6ad6d545506e",
   "metadata": {},
   "source": [
    "#### SPY GAME: Write a function that takes in a list of integers and returns True if it contains 007 in order\n"
   ]
  },
  {
   "cell_type": "code",
   "execution_count": 3,
   "id": "ce532059-6b36-4cb7-b88a-e9bd664155c9",
   "metadata": {},
   "outputs": [
    {
     "name": "stdout",
     "output_type": "stream",
     "text": [
      "False\n",
      "False\n",
      "False\n"
     ]
    }
   ],
   "source": [
    "def spy_game(nums):\n",
    "    i = 0\n",
    "    while i < len(nums) - 2:\n",
    "        if nums[i] == 0 and nums[i + 1] == 0 and nums[i + 2] == 1:\n",
    "            return True\n",
    "        i += 1\n",
    "    return False\n",
    "print(spy_game([1,2,4,0,0,7,5]))\n",
    "print(spy_game([1,0,2,4,0,5,7]))\n",
    "print(spy_game([1,0,2,4,0,5,7])) "
   ]
  },
  {
   "cell_type": "markdown",
   "id": "d0797074-d3c1-4a1d-8c02-780b7358320c",
   "metadata": {},
   "source": [
    "#### COUNT PRIMES: Write a function that returns the *number* of prime numbers that exist up to and including a given number\n"
   ]
  },
  {
   "cell_type": "code",
   "execution_count": 16,
   "id": "2072b6a5-ffc8-41c4-b91c-34431c0833ce",
   "metadata": {},
   "outputs": [
    {
     "name": "stdout",
     "output_type": "stream",
     "text": [
      "25\n"
     ]
    }
   ],
   "source": [
    "def count_primes(num):\n",
    "    ans = 0\n",
    "    for i in range (2, num + 1):\n",
    "        f = 1\n",
    "        for j in range (2, i):\n",
    "            if (i % j == 0):\n",
    "                f = 0\n",
    "                break\n",
    "        ans = f + ans\n",
    "    print(ans)\n",
    "count_primes(100)"
   ]
  },
  {
   "cell_type": "code",
   "execution_count": null,
   "id": "e03399ff-6200-478e-851d-0ddbe0dff3e6",
   "metadata": {},
   "outputs": [],
   "source": []
  }
 ],
 "metadata": {
  "kernelspec": {
   "display_name": "Python [conda env:base] *",
   "language": "python",
   "name": "conda-base-py"
  },
  "language_info": {
   "codemirror_mode": {
    "name": "ipython",
    "version": 3
   },
   "file_extension": ".py",
   "mimetype": "text/x-python",
   "name": "python",
   "nbconvert_exporter": "python",
   "pygments_lexer": "ipython3",
   "version": "3.12.7"
  }
 },
 "nbformat": 4,
 "nbformat_minor": 5
}
