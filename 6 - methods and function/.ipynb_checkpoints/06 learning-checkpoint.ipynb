{
 "cells": [
  {
   "cell_type": "code",
   "execution_count": 13,
   "id": "c3f6a5cd-2be3-44eb-9ba7-839a49fd3ac7",
   "metadata": {},
   "outputs": [
    {
     "name": "stdin",
     "output_type": "stream",
     "text": [
      "enter a number: 3\n",
      "enter a number: 3\n"
     ]
    },
    {
     "ename": "TypeError",
     "evalue": "not all arguments converted during string formatting",
     "output_type": "error",
     "traceback": [
      "\u001b[1;31m---------------------------------------------------------------------------\u001b[0m",
      "\u001b[1;31mTypeError\u001b[0m                                 Traceback (most recent call last)",
      "Cell \u001b[1;32mIn[13], line 7\u001b[0m\n\u001b[0;32m      5\u001b[0m \u001b[38;5;28;01mwhile\u001b[39;00m num \u001b[38;5;241m!=\u001b[39m \u001b[38;5;241m-\u001b[39m\u001b[38;5;241m1\u001b[39m:\n\u001b[0;32m      6\u001b[0m     num \u001b[38;5;241m=\u001b[39m \u001b[38;5;28minput\u001b[39m(\u001b[38;5;124m'\u001b[39m\u001b[38;5;124menter a number:\u001b[39m\u001b[38;5;124m'\u001b[39m)\n\u001b[1;32m----> 7\u001b[0m     \u001b[38;5;28mprint\u001b[39m(even_check(num))\n",
      "Cell \u001b[1;32mIn[13], line 2\u001b[0m, in \u001b[0;36meven_check\u001b[1;34m(num)\u001b[0m\n\u001b[0;32m      1\u001b[0m \u001b[38;5;28;01mdef\u001b[39;00m \u001b[38;5;21meven_check\u001b[39m (num):\n\u001b[1;32m----> 2\u001b[0m         res \u001b[38;5;241m=\u001b[39m (num \u001b[38;5;241m%\u001b[39m \u001b[38;5;241m2\u001b[39m \u001b[38;5;241m==\u001b[39m \u001b[38;5;241m0\u001b[39m)\n\u001b[0;32m      3\u001b[0m         \u001b[38;5;28;01mreturn\u001b[39;00m res\n",
      "\u001b[1;31mTypeError\u001b[0m: not all arguments converted during string formatting"
     ]
    }
   ],
   "source": [
    "def even_check (num):\n",
    "        res = (num % 2 == 0)\n",
    "        return res\n",
    "num = input('enter a number:')\n",
    "while num != -1:\n",
    "    num = input('enter a number:')\n",
    "    print(even_check(num))\n",
    "\n"
   ]
  },
  {
   "cell_type": "code",
   "execution_count": null,
   "id": "3d8abd03-64cc-43b2-a8d6-849877d712f8",
   "metadata": {},
   "outputs": [],
   "source": [
    "from random import shuffle\n",
    "\n",
    "# Function to shuffle the list\n",
    "def shuffle_list(lst):\n",
    "    shuffle(lst)\n",
    "\n",
    "# Initialize the list and shuffle it\n",
    "lst = [1, 2, 3, 4]\n",
    "shuffle_list(lst)\n",
    "print(f\"Shuffled list: {lst}\")\n",
    "\n",
    "# Store the index of the number 2\n",
    "correct_index = lst.index(2)\n",
    "\n",
    "# Use a loop to handle guesses\n",
    "guess = None  # Initialize guess\n",
    "while guess != correct_index:\n",
    "    try:\n",
    "        # Get user input and convert to integer\n",
    "        guess = int(input(\"Guess the index of the number 2: \"))\n",
    "        if guess == correct_index:\n",
    "            print(\"Yay! You made a successful guess!\")\n",
    "        else:\n",
    "            print(\"Wrong guess, try again!\")\n",
    "    except ValueError:\n",
    "        print(\"Please enter a valid number!\")\n"
   ]
  },
  {
   "cell_type": "code",
   "execution_count": null,
   "id": "3f58b6f3-b205-4e2c-9126-7bafd7a21937",
   "metadata": {},
   "outputs": [],
   "source": [
    "def myfunc(**kwargs):\n",
    "    print(kwargs)\n",
    "    if 'fruit' in kwargs:\n",
    "        print(f'{kwargs['fruit']}')\n",
    "myfunc(fruit = 'apple', veggie = 'potato')\n"
   ]
  },
  {
   "cell_type": "code",
   "execution_count": null,
   "id": "d007c489-7c5a-40ff-bf35-7977a13e31c6",
   "metadata": {},
   "outputs": [],
   "source": [
    "print"
   ]
  }
 ],
 "metadata": {
  "kernelspec": {
   "display_name": "Python [conda env:base] *",
   "language": "python",
   "name": "conda-base-py"
  },
  "language_info": {
   "codemirror_mode": {
    "name": "ipython",
    "version": 3
   },
   "file_extension": ".py",
   "mimetype": "text/x-python",
   "name": "python",
   "nbconvert_exporter": "python",
   "pygments_lexer": "ipython3",
   "version": "3.12.7"
  }
 },
 "nbformat": 4,
 "nbformat_minor": 5
}
