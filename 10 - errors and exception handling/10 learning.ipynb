{
 "cells": [
  {
   "cell_type": "code",
   "execution_count": 2,
   "id": "ad47a673-8896-4575-a07c-ab437db8b9cb",
   "metadata": {},
   "outputs": [
    {
     "name": "stdout",
     "output_type": "stream",
     "text": [
      "12\n"
     ]
    }
   ],
   "source": [
    "def add(n1, n2):\n",
    "    print(n1 + n2)\n",
    "add(10, 2)"
   ]
  },
  {
   "cell_type": "code",
   "execution_count": 4,
   "id": "96fa3f61-e00c-496b-837b-3feefde70b8c",
   "metadata": {},
   "outputs": [
    {
     "name": "stdout",
     "output_type": "stream",
     "text": [
      "addition operation went well\n",
      "20\n"
     ]
    }
   ],
   "source": [
    "try:\n",
    "    result = 10 + 10\n",
    "except:\n",
    "    print(\"you are not adding correctly\")\n",
    "else:\n",
    "    print(\"addition operation went well\")\n",
    "    print(result)"
   ]
  },
  {
   "cell_type": "code",
   "execution_count": 14,
   "id": "203959a6-8b57-4275-9802-00f3ef11b23b",
   "metadata": {},
   "outputs": [
    {
     "name": "stdout",
     "output_type": "stream",
     "text": [
      "I execute only when there is not any error\n",
      "I always run wether there occurs an error or not\n"
     ]
    }
   ],
   "source": [
    "try:\n",
    "    f = open('testfile', 'w')\n",
    "    f.write(\"write a testline\")\n",
    "except TypeError:\n",
    "    print(\"There was a type error\")\n",
    "except OSError:\n",
    "    print(\"Hey you have an os error\")\n",
    "except:\n",
    "    print(\"All other exceptions\")\n",
    "else:\n",
    "    print(\"I execute only when there is not any error\")\n",
    "finally:\n",
    "    print(\"I always run wether there occurs an error or not\")\n"
   ]
  },
  {
   "cell_type": "code",
   "execution_count": 24,
   "id": "f08b439e-e559-4a9b-b185-3c52f33197ab",
   "metadata": {},
   "outputs": [
    {
     "name": "stdin",
     "output_type": "stream",
     "text": [
      "please provide a number:  d\n"
     ]
    },
    {
     "name": "stdout",
     "output_type": "stream",
     "text": [
      "whoops! that is not a number\n",
      "End of try/except/finally\n"
     ]
    },
    {
     "name": "stdin",
     "output_type": "stream",
     "text": [
      "please provide a number:  f\n"
     ]
    },
    {
     "name": "stdout",
     "output_type": "stream",
     "text": [
      "whoops! that is not a number\n",
      "End of try/except/finally\n"
     ]
    },
    {
     "name": "stdin",
     "output_type": "stream",
     "text": [
      "please provide a number:  1\n"
     ]
    },
    {
     "name": "stdout",
     "output_type": "stream",
     "text": [
      "that is a number\n",
      "End of try/except/finally\n"
     ]
    }
   ],
   "source": [
    "def ask_for_int():\n",
    "    while True:\n",
    "        try:\n",
    "            result = int(input(\"please provide a number: \"))\n",
    "        except:\n",
    "            print(\"whoops! that is not a number\")\n",
    "            continue\n",
    "        else:\n",
    "            print(\"that is a number\")\n",
    "            break\n",
    "        finally:\n",
    "            print(\"End of try/except/finally\")\n",
    "            # break\n",
    "            # do not add break here as the code will stop running even after getting any input except number\n",
    "            # we want to end the code only when the user enters the number as an input\n",
    "            # so only add break statement in the else block\n",
    "ask_for_int()"
   ]
  },
  {
   "cell_type": "code",
   "execution_count": null,
   "id": "5b75f99d-c7f2-41d7-8b88-4527bf277acf",
   "metadata": {},
   "outputs": [],
   "source": []
  }
 ],
 "metadata": {
  "kernelspec": {
   "display_name": "Python [conda env:base] *",
   "language": "python",
   "name": "conda-base-py"
  },
  "language_info": {
   "codemirror_mode": {
    "name": "ipython",
    "version": 3
   },
   "file_extension": ".py",
   "mimetype": "text/x-python",
   "name": "python",
   "nbconvert_exporter": "python",
   "pygments_lexer": "ipython3",
   "version": "3.12.7"
  }
 },
 "nbformat": 4,
 "nbformat_minor": 5
}
