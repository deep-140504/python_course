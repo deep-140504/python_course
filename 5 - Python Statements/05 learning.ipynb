{
 "cells": [
  {
   "cell_type": "code",
   "execution_count": 1,
   "id": "5b13ca4c-c75a-4c32-8430-e83ff20c2b83",
   "metadata": {},
   "outputs": [
    {
     "name": "stdin",
     "output_type": "stream",
     "text": [
      "Enter Something into this box:  aidhgf a;\n"
     ]
    },
    {
     "data": {
      "text/plain": [
       "'aidhgf a;'"
      ]
     },
     "execution_count": 1,
     "metadata": {},
     "output_type": "execute_result"
    }
   ],
   "source": [
    "input('Enter Something into this box: ')"
   ]
  },
  {
   "cell_type": "code",
   "execution_count": 17,
   "id": "d22030f6-5ffd-4cf7-b718-f16caff311a6",
   "metadata": {},
   "outputs": [
    {
     "data": {
      "text/plain": [
       "[10, 40, 30, 100, 20]"
      ]
     },
     "execution_count": 17,
     "metadata": {},
     "output_type": "execute_result"
    }
   ],
   "source": [
    "mylist = [10,20,30,40,100]\n",
    "from random import shuffle\n",
    "shuffle(mylist)\n",
    "mylist"
   ]
  },
  {
   "cell_type": "code",
   "execution_count": 19,
   "id": "ba5bea2f-6db5-4cd7-b889-08119b04f2b9",
   "metadata": {},
   "outputs": [
    {
     "name": "stdout",
     "output_type": "stream",
     "text": [
      "200\n"
     ]
    }
   ],
   "source": [
    "list1 = [10,20,30,40,100]\n",
    "list_sum = 0 \n",
    "\n",
    "for _ in list1:\n",
    "    list_sum = list_sum + _\n",
    "\n",
    "print(list_sum)"
   ]
  },
  {
   "cell_type": "code",
   "execution_count": 22,
   "id": "037079f6-9c63-45f7-8c43-57c2424a04a3",
   "metadata": {},
   "outputs": [
    {
     "name": "stdout",
     "output_type": "stream",
     "text": [
      "k 1\n",
      "k 2\n",
      "k 3\n"
     ]
    }
   ],
   "source": [
    "d = {'k1':1,'k2':2,'k3':3}\n",
    "for a, b in d:\n",
    "    print(a, b)"
   ]
  },
  {
   "cell_type": "markdown",
   "id": "9e08bd33-54f1-4c1e-985e-918e60f72653",
   "metadata": {},
   "source": [
    "1. linear for"
   ]
  },
  {
   "cell_type": "code",
   "execution_count": 27,
   "id": "f98f38fa-a75d-4e82-8a3c-2086543ec4cc",
   "metadata": {},
   "outputs": [
    {
     "name": "stdout",
     "output_type": "stream",
     "text": [
      "number of elements present in the list are 4, total sum of all the elements present in the list is 10\n"
     ]
    }
   ],
   "source": [
    "a = [1, 2, 3, 4]\n",
    "count = 0\n",
    "sum = 0\n",
    "\n",
    "for i in a:\n",
    "    count += 1\n",
    "    sum += i\n",
    "\n",
    "print(\"number of elements present in the list are {a}, total sum of all the elements present in the list is {b}\".format(a= count, b= sum))\n"
   ]
  },
  {
   "cell_type": "code",
   "execution_count": 3,
   "id": "9ddd0376-50f1-4151-95ca-8673f5f9b918",
   "metadata": {},
   "outputs": [
    {
     "name": "stdout",
     "output_type": "stream",
     "text": [
      "sum till now 1\n",
      "sum till now 3\n",
      "sum till now 6\n",
      "sum till now 10\n",
      "sum till now 15\n",
      "sum till now 21\n",
      "total net sum: 21\n"
     ]
    }
   ],
   "source": [
    "ls = [1, 2,3, 4, 5, 6]\n",
    "total = 0\n",
    "for i in ls:\n",
    "    total += i\n",
    "    print(\"sum till now {sum}\".format(sum = total))\n",
    "\n",
    "print(\"total net sum: {}\".format(total))"
   ]
  },
  {
   "cell_type": "code",
   "execution_count": 5,
   "id": "11ff57b5-1392-4636-9663-15a5504770ce",
   "metadata": {},
   "outputs": [
    {
     "name": "stdout",
     "output_type": "stream",
     "text": [
      "1 h\n",
      "1 e\n",
      "1 l\n",
      "1 l\n",
      "1 o\n",
      "1  \n",
      "1 w\n",
      "1 o\n",
      "1 r\n",
      "1 l\n",
      "1 d\n"
     ]
    }
   ],
   "source": [
    "for _ in \"hello world\":\n",
    "    print(1, _)"
   ]
  },
  {
   "cell_type": "code",
   "execution_count": 15,
   "id": "6909bc96-17aa-4c96-808d-3255877dd3f2",
   "metadata": {},
   "outputs": [
    {
     "name": "stdout",
     "output_type": "stream",
     "text": [
      "1 2\n",
      "3 2\n",
      "4 5\n"
     ]
    }
   ],
   "source": [
    "mylist = [(1, 2), (3, 2), (4, 5)]\n",
    "for a, b in mylist:\n",
    "    print(a, b)"
   ]
  },
  {
   "cell_type": "code",
   "execution_count": 19,
   "id": "e39981f5-1081-4f97-8737-78ae5caaa495",
   "metadata": {},
   "outputs": [
    {
     "ename": "SyntaxError",
     "evalue": "Missing parentheses in call to 'print'. Did you mean print(...)? (205953235.py, line 3)",
     "output_type": "error",
     "traceback": [
      "\u001b[1;36m  Cell \u001b[1;32mIn[19], line 3\u001b[1;36m\u001b[0m\n\u001b[1;33m    print item\u001b[0m\n\u001b[1;37m    ^\u001b[0m\n\u001b[1;31mSyntaxError\u001b[0m\u001b[1;31m:\u001b[0m Missing parentheses in call to 'print'. Did you mean print(...)?\n"
     ]
    }
   ],
   "source": [
    "mylist = [(1, 2, 3), (4, 5, 6), (7, 8, 9)]\n",
    "for item in mylist:\n",
    "    print(item)"
   ]
  },
  {
   "cell_type": "code",
   "execution_count": 33,
   "id": "3f1437b1-52fa-4e14-89e0-b268b4c9d188",
   "metadata": {},
   "outputs": [
    {
     "name": "stdout",
     "output_type": "stream",
     "text": [
      "k1\n",
      "k2\n",
      "k3\n"
     ]
    }
   ],
   "source": [
    "d = {'k1': 1, 'k2': 2, 'k3': 3}\n",
    "for item in d:\n",
    "    print(item)"
   ]
  },
  {
   "cell_type": "code",
   "execution_count": null,
   "id": "3f04492d-dfef-4baa-a1cf-8c8afad4686b",
   "metadata": {},
   "outputs": [],
   "source": [
    "x = 0\n",
    "while x < 5:\n",
    "    print('the current value of x is {y}'.format(y = x))\n",
    "    x = x + 1\n",
    "\n"
   ]
  },
  {
   "cell_type": "code",
   "execution_count": 1,
   "id": "6ef8449f-bb08-450d-97cd-99fc24c24a01",
   "metadata": {},
   "outputs": [
    {
     "name": "stdout",
     "output_type": "stream",
     "text": [
      "the current value of x is 0\n",
      "the current value of x is 1\n",
      "the current value of x is 2\n",
      "the current value of x is 3\n",
      "the current value of x is 4\n"
     ]
    }
   ],
   "source": [
    "x = 0\n",
    "while x < 5:\n",
    "    print('the current value of x is {y}'.format(y = x))\n",
    "    x = x + 1\n",
    "    # x += 1 also works but not the x++\n"
   ]
  },
  {
   "cell_type": "code",
   "execution_count": 5,
   "id": "10453724-25ec-494f-ade9-bb1ce95c254d",
   "metadata": {},
   "outputs": [],
   "source": [
    "x = [ 1, 2, 3]\n",
    "for _ in x:\n",
    "    #pass is used to avoid getting into syntax errors by the programmers\n",
    "    pass"
   ]
  },
  {
   "cell_type": "code",
   "execution_count": 11,
   "id": "55e1591c-05ae-41d3-ade0-d4c5cec87d4e",
   "metadata": {},
   "outputs": [
    {
     "name": "stdout",
     "output_type": "stream",
     "text": [
      "a\n",
      "b\n",
      "d\n",
      "e\n"
     ]
    }
   ],
   "source": [
    "string = 'abcdefg'\n",
    "for _ in string:\n",
    "    if _ == 'c':\n",
    "        continue\n",
    "    if _ == 'f':\n",
    "        break\n",
    "    print(_)"
   ]
  },
  {
   "cell_type": "code",
   "execution_count": 13,
   "id": "88dc46d9-44c9-4426-95b7-58a5cc379225",
   "metadata": {},
   "outputs": [
    {
     "name": "stdout",
     "output_type": "stream",
     "text": [
      "0\n",
      "3\n",
      "6\n",
      "9\n"
     ]
    }
   ],
   "source": [
    "mylist = [1, 2, 3]\n",
    "for num in range (0, 10, 3):\n",
    "    print(num)"
   ]
  },
  {
   "cell_type": "code",
   "execution_count": 15,
   "id": "9954824d-4bac-4912-8ee5-0b1d943d21b2",
   "metadata": {},
   "outputs": [],
   "source": [
    "ls = list(range(0, 11, 2))"
   ]
  },
  {
   "cell_type": "code",
   "execution_count": 17,
   "id": "0750ba0e-5b21-4d63-9253-ae274298beff",
   "metadata": {},
   "outputs": [
    {
     "data": {
      "text/plain": [
       "[0, 2, 4, 6, 8, 10]"
      ]
     },
     "execution_count": 17,
     "metadata": {},
     "output_type": "execute_result"
    }
   ],
   "source": [
    "ls"
   ]
  },
  {
   "cell_type": "code",
   "execution_count": 21,
   "id": "310cc8cd-45da-485d-9aae-ef45abc4a838",
   "metadata": {},
   "outputs": [
    {
     "name": "stdout",
     "output_type": "stream",
     "text": [
      "At index 0 the letter is: a\n",
      "At index 1 the letter is: b\n",
      "At index 2 the letter is: c\n",
      "At index 3 the letter is: d\n",
      "At index 4 the letter is: e\n"
     ]
    }
   ],
   "source": [
    "index_count = 0\n",
    "for letter in 'abcde':\n",
    "    print('At index {} the letter is: {}'.format(index_count, letter))\n",
    "    index_count += 1"
   ]
  },
  {
   "cell_type": "code",
   "execution_count": 23,
   "id": "af91e64e-4ea5-47f1-8f45-b2aeacf04fc5",
   "metadata": {},
   "outputs": [
    {
     "name": "stdout",
     "output_type": "stream",
     "text": [
      "(0, 'a')\n",
      "(1, 'b')\n",
      "(2, 'c')\n",
      "(3, 'd')\n",
      "(4, 'e')\n"
     ]
    }
   ],
   "source": [
    "word = 'abcde'\n",
    "for item in enumerate(word):\n",
    "    print (item)"
   ]
  },
  {
   "cell_type": "code",
   "execution_count": 27,
   "id": "4b619b9a-58cf-4532-93c3-6918af3a30c3",
   "metadata": {},
   "outputs": [
    {
     "name": "stdout",
     "output_type": "stream",
     "text": [
      "(1, 'a')\n",
      "(2, 'b')\n",
      "(3, 'c')\n",
      "(4, 'd')\n"
     ]
    }
   ],
   "source": [
    "ls1 = [1, 2, 3, 4]\n",
    "ls2 = ['a', 'b', 'c', 'd']\n",
    "for item in zip (ls1, ls2):\n",
    "    print (item)"
   ]
  },
  {
   "cell_type": "code",
   "execution_count": 29,
   "id": "aea90b47-c5e7-45f4-8ff9-586ece7d09f6",
   "metadata": {},
   "outputs": [
    {
     "name": "stdout",
     "output_type": "stream",
     "text": [
      "<zip object at 0x000001B341CBCC00>\n"
     ]
    }
   ],
   "source": [
    "list1 = [1, 2, 3]\n",
    "list2 = ['a', 'b', 'c']\n",
    "result = zip(list1, list2)\n",
    "print(result)"
   ]
  },
  {
   "cell_type": "code",
   "execution_count": 31,
   "id": "d850415a-f441-40f6-b92c-4a1d791e0964",
   "metadata": {},
   "outputs": [
    {
     "name": "stdout",
     "output_type": "stream",
     "text": [
      "[('a', 'x'), ('b', 'y')]\n",
      "[(1, 10), (2, 20)]\n",
      "[(('a', 1), ('x', 10)), (('b', 2), ('y', 20))]\n"
     ]
    }
   ],
   "source": [
    "dict1 = {'a': 1, 'b': 2}\n",
    "dict2 = {'x': 10, 'y': 20}\n",
    "result = zip(dict1, dict2)\n",
    "print(list(result))  # Output: [('a', 'x'), ('b', 'y')]\n",
    "\n",
    "# Using values\n",
    "result_values = zip(dict1.values(), dict2.values())\n",
    "print(list(result_values))  # Output: [(1, 10), (2, 20)]\n",
    "\n",
    "result_items = zip(dict1.items(), dict2.items())\n",
    "print(list(result_items))"
   ]
  },
  {
   "cell_type": "code",
   "execution_count": 33,
   "id": "6f38ba07-7bff-4507-8ccf-2ddaf531cdc5",
   "metadata": {},
   "outputs": [
    {
     "name": "stdin",
     "output_type": "stream",
     "text": [
      "Enter Something into this box:  4\n"
     ]
    }
   ],
   "source": [
    "result = int(input('Enter Something into this box: '))"
   ]
  },
  {
   "cell_type": "code",
   "execution_count": 35,
   "id": "441ddb34-ea59-4721-8de3-70a43683fd38",
   "metadata": {},
   "outputs": [
    {
     "name": "stdout",
     "output_type": "stream",
     "text": [
      "4\n"
     ]
    }
   ],
   "source": [
    "print(result)"
   ]
  },
  {
   "cell_type": "code",
   "execution_count": 37,
   "id": "7830939e-db6b-4b43-a10d-bf5db97f92a2",
   "metadata": {},
   "outputs": [],
   "source": [
    "ls = []\n",
    "for x in[1, 2, 3]:\n",
    "    for y in [4, 5, 6]:\n",
    "        ls.append(x * y)"
   ]
  },
  {
   "cell_type": "code",
   "execution_count": 39,
   "id": "1615201b-382b-497f-b813-fead7885a567",
   "metadata": {},
   "outputs": [
    {
     "data": {
      "text/plain": [
       "[4, 5, 6, 8, 10, 12, 12, 15, 18]"
      ]
     },
     "execution_count": 39,
     "metadata": {},
     "output_type": "execute_result"
    }
   ],
   "source": [
    "ls"
   ]
  },
  {
   "cell_type": "code",
   "execution_count": 41,
   "id": "ea277ff5-da58-4708-abe0-e35d4bd02e0c",
   "metadata": {},
   "outputs": [
    {
     "data": {
      "text/plain": [
       "[0, 2, 4, 6, 8, 10]"
      ]
     },
     "execution_count": 41,
     "metadata": {},
     "output_type": "execute_result"
    }
   ],
   "source": [
    "lst = [x for x in range(0, 11, 2) if (x % 2 == 0)]\n",
    "lst"
   ]
  },
  {
   "cell_type": "code",
   "execution_count": 43,
   "id": "b8b64752-1621-4559-8342-30f2138bf211",
   "metadata": {},
   "outputs": [
    {
     "data": {
      "text/plain": [
       "[0, 'odd', 2, 'odd', 4, 'odd', 6, 'odd', 8, 'odd', 10]"
      ]
     },
     "execution_count": 43,
     "metadata": {},
     "output_type": "execute_result"
    }
   ],
   "source": [
    "results = [x if x % 2 == 0 else 'odd' for x in range(0, 11)]\n",
    "results"
   ]
  },
  {
   "cell_type": "code",
   "execution_count": 45,
   "id": "c1816ba5-1f1b-43ed-9f76-18ad2722e226",
   "metadata": {},
   "outputs": [
    {
     "ename": "NameError",
     "evalue": "name 'celsisus' is not defined",
     "output_type": "error",
     "traceback": [
      "\u001b[1;31m---------------------------------------------------------------------------\u001b[0m",
      "\u001b[1;31mNameError\u001b[0m                                 Traceback (most recent call last)",
      "Cell \u001b[1;32mIn[45], line 2\u001b[0m\n\u001b[0;32m      1\u001b[0m f \u001b[38;5;241m=\u001b[39m []\n\u001b[1;32m----> 2\u001b[0m \u001b[38;5;28;01mfor\u001b[39;00m temp \u001b[38;5;129;01min\u001b[39;00m celsisus:\n\u001b[0;32m      3\u001b[0m     f\u001b[38;5;241m.\u001b[39mappend((\u001b[38;5;241m9\u001b[39m \u001b[38;5;241m/\u001b[39m \u001b[38;5;241m5\u001b[39m) \u001b[38;5;241m*\u001b[39m temp \u001b[38;5;241m+\u001b[39m \u001b[38;5;241m32\u001b[39m)\n\u001b[0;32m      4\u001b[0m f\n",
      "\u001b[1;31mNameError\u001b[0m: name 'celsisus' is not defined"
     ]
    }
   ],
   "source": [
    "f = []\n",
    "for temp in celsisus:\n",
    "    f.append((9 / 5) * temp + 32)\n",
    "f"
   ]
  },
  {
   "cell_type": "code",
   "execution_count": 47,
   "id": "63552e52-64da-41a0-82b5-d141337ecb19",
   "metadata": {},
   "outputs": [
    {
     "data": {
      "text/plain": [
       "[32.0, 50.0, 68.0, 86.0, 94.1]"
      ]
     },
     "execution_count": 47,
     "metadata": {},
     "output_type": "execute_result"
    }
   ],
   "source": [
    " celsisus = [0, 10, 20, 30, 34.5]\n",
    "f = [((9 / 5) * temp + 32) for temp in celsisus]\n",
    "f"
   ]
  },
  {
   "cell_type": "code",
   "execution_count": 49,
   "id": "6761d5c9-1203-4e25-bed8-6dcc0f1804f8",
   "metadata": {},
   "outputs": [
    {
     "data": {
      "text/plain": [
       "[32.0, 50.0, 68.0, 86.0, 94.1]"
      ]
     },
     "execution_count": 49,
     "metadata": {},
     "output_type": "execute_result"
    }
   ],
   "source": [
    "f = []\n",
    "for temp in celsisus:\n",
    "    f.append((9 / 5) * temp + 32)\n",
    "f"
   ]
  },
  {
   "cell_type": "code",
   "execution_count": 51,
   "id": "d53ce050-5a09-48cf-9c17-de87ce5ad3f8",
   "metadata": {},
   "outputs": [
    {
     "data": {
      "text/plain": [
       "['w', 'o', 'r', 'd']"
      ]
     },
     "execution_count": 51,
     "metadata": {},
     "output_type": "execute_result"
    }
   ],
   "source": [
    "lst = [x for x in 'word']\n",
    "lst"
   ]
  },
  {
   "cell_type": "code",
   "execution_count": 53,
   "id": "49acb6a2-df1d-412f-aed6-9d16b634b2b0",
   "metadata": {},
   "outputs": [
    {
     "data": {
      "text/plain": [
       "['a', 'b', 'c', 'd', 'e', 'f', 'g']"
      ]
     },
     "execution_count": 53,
     "metadata": {},
     "output_type": "execute_result"
    }
   ],
   "source": [
    "lst = [letter for letter in string]\n",
    "lst"
   ]
  },
  {
   "cell_type": "code",
   "execution_count": 59,
   "id": "faff8d14-1113-456c-80e3-aab1d8d295da",
   "metadata": {},
   "outputs": [
    {
     "data": {
      "text/plain": [
       "[4, 5, 6, 8, 10, 12, 12, 15, 18]"
      ]
     },
     "execution_count": 59,
     "metadata": {},
     "output_type": "execute_result"
    }
   ],
   "source": [
    "ls = []\n",
    "for x in[1, 2, 3]:\n",
    "    for y in [4, 5, 6]:\n",
    "        ls.append(x * y) #this is the one way of doing this\n",
    "ls\n",
    "#the more optimised way of doing the same is as followed:\n",
    "lst = [x * y for x in range(1, 4) for y in range(4, 7)]\n",
    "lst"
   ]
  },
  {
   "cell_type": "code",
   "execution_count": 61,
   "id": "e789db89-7cf0-46aa-b4dd-2218effde971",
   "metadata": {},
   "outputs": [
    {
     "name": "stdout",
     "output_type": "stream",
     "text": [
      "0\n",
      "2\n",
      "4\n",
      "6\n",
      "8\n",
      "10\n",
      "[0, 2, 4, 6, 8, 10]\n"
     ]
    }
   ],
   "source": [
    "even_numbers = [num for num in range(0, 11) if num % 2 == 0]\n",
    "for num in even_numbers:\n",
    "    print(num)\n",
    "print(even_numbers)"
   ]
  },
  {
   "cell_type": "code",
   "execution_count": 63,
   "id": "bbdbe179-04bc-4cf9-af52-2f3f2524df54",
   "metadata": {},
   "outputs": [
    {
     "name": "stdout",
     "output_type": "stream",
     "text": [
      "0 2 4 6 8 10\n"
     ]
    }
   ],
   "source": [
    "print(*range(0, 11, 2))\n"
   ]
  },
  {
   "cell_type": "code",
   "execution_count": null,
   "id": "695eb9c1-75a0-48d5-8755-1208fa1745e1",
   "metadata": {},
   "outputs": [],
   "source": [
    "################################################\n",
    "[item for sublist in nested for item in sublist]\n",
    "################################################\n",
    "#this is so good\n",
    "#take a look, here as we know the basic syntax goes like, x for x in x\n",
    "# here the x s item, which is yielded finally by doing item in sublist\n",
    "#comprehend it, the example of list that is taken into consideration is as followed:\n",
    "#nested = [[1, 2], [3, 4], [5, 6]]\n",
    "# the example:\n",
    "nested = [[1, 2], [3, 4], [5, 6]]\n",
    "flattened = [item for sublist in nested for item in sublist]\n",
    "print(flattened)  # Output: [1, 2, 3, 4, 5, 6] "
   ]
  },
  {
   "cell_type": "code",
   "execution_count": null,
   "id": "148b93ad-f987-4a17-badf-84225b58f807",
   "metadata": {},
   "outputs": [],
   "source": []
  }
 ],
 "metadata": {
  "kernelspec": {
   "display_name": "Python [conda env:base] *",
   "language": "python",
   "name": "conda-base-py"
  },
  "language_info": {
   "codemirror_mode": {
    "name": "ipython",
    "version": 3
   },
   "file_extension": ".py",
   "mimetype": "text/x-python",
   "name": "python",
   "nbconvert_exporter": "python",
   "pygments_lexer": "ipython3",
   "version": "3.12.7"
  }
 },
 "nbformat": 4,
 "nbformat_minor": 5
}
