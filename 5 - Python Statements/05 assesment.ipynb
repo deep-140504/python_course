{
 "cells": [
  {
   "cell_type": "markdown",
   "id": "2ef8218b-d6cd-4bf1-8fe4-ba8a9a33ce27",
   "metadata": {},
   "source": [
    "Use for, .split(), and if to create a Statement that will print out words that start with 's':"
   ]
  },
  {
   "cell_type": "code",
   "execution_count": 4,
   "id": "9c570795-37b6-451c-86c1-72fcbd265c5a",
   "metadata": {},
   "outputs": [
    {
     "name": "stdout",
     "output_type": "stream",
     "text": [
      "['Print', 'only', 'the', 'words', 'that', 'start', 'with', 's', 'in', 'this', 'sentence']\n"
     ]
    }
   ],
   "source": [
    "st = 'Print only the words that start with s in this sentence'\n",
    "ls = st.split()\n",
    "print(ls)"
   ]
  },
  {
   "cell_type": "code",
   "execution_count": 10,
   "id": "6df73940-a400-4840-8d47-9fda622b80d2",
   "metadata": {},
   "outputs": [
    {
     "name": "stdout",
     "output_type": "stream",
     "text": [
      "start\n",
      "s\n",
      "sentence\n"
     ]
    }
   ],
   "source": [
    "for x in ls:\n",
    "    if(x[0] == 's' or x[0] == 'S'):\n",
    "        print (x)\n",
    "        "
   ]
  },
  {
   "cell_type": "code",
   "execution_count": 18,
   "id": "215e042c-17b0-421f-848a-1e82f530603a",
   "metadata": {},
   "outputs": [
    {
     "name": "stdout",
     "output_type": "stream",
     "text": [
      "[None, None, None, None, None, 'start', None, 's', None, None, 'sentence']\n",
      "['start', 's', 'sentence']\n"
     ]
    }
   ],
   "source": [
    "final_ls = [x if x[0] == 's' or x[0] == 'S' else None for x in ls]\n",
    "print(final_ls)\n",
    "#so this will include none as a place holder for such elements which do not follow the condition\n",
    "#so just avoid this where the conditional statements are writtern just after the variable\n",
    "#followed is the much better way to do so:\n",
    "final_lst = [x for x in ls if x[0] == 's' or x[0] == 'S']\n",
    "print(final_lst)"
   ]
  },
  {
   "cell_type": "markdown",
   "id": "295c897b-03d4-46b3-b080-0e8e52095b0f",
   "metadata": {},
   "source": [
    "Use range() to print all the even numbers from 0 to 10."
   ]
  },
  {
   "cell_type": "code",
   "execution_count": 21,
   "id": "bb66fad8-d399-4319-8940-8d5f3f8f37c5",
   "metadata": {},
   "outputs": [
    {
     "ename": "SyntaxError",
     "evalue": "invalid syntax (496187150.py, line 1)",
     "output_type": "error",
     "traceback": [
      "\u001b[1;36m  Cell \u001b[1;32mIn[21], line 1\u001b[1;36m\u001b[0m\n\u001b[1;33m    print(for range(0, 11))\u001b[0m\n\u001b[1;37m          ^\u001b[0m\n\u001b[1;31mSyntaxError\u001b[0m\u001b[1;31m:\u001b[0m invalid syntax\n"
     ]
    }
   ],
   "source": [
    "print(for range(0, 11))"
   ]
  },
  {
   "cell_type": "code",
   "execution_count": 23,
   "id": "0db8ddc5-319c-44e6-8373-cb3fc4b28b5d",
   "metadata": {},
   "outputs": [
    {
     "name": "stdout",
     "output_type": "stream",
     "text": [
      "0\n",
      "2\n",
      "4\n",
      "6\n",
      "8\n",
      "10\n",
      "[0, 2, 4, 6, 8, 10]\n",
      "0 2 4 6 8 10\n"
     ]
    }
   ],
   "source": [
    "even_numbers = [num for num in range(0, 11) if num % 2 == 0]\n",
    "for num in even_numbers:\n",
    "    print(num)\n",
    "\n",
    "print(even_numbers)\n",
    "\n",
    "print(*range(0, 11, 2))"
   ]
  },
  {
   "cell_type": "code",
   "execution_count": 31,
   "id": "a6fe8320-e73b-41bb-9eb7-4f73129484e9",
   "metadata": {},
   "outputs": [
    {
     "name": "stdout",
     "output_type": "stream",
     "text": [
      "[3, 6, 9, 12, 15, 18, 21, 24, 27, 30, 33, 36, 39, 42, 45, 48]\n"
     ]
    },
    {
     "data": {
      "text/plain": [
       "[3, 6, 9, 12, 15, 18, 21, 24, 27, 30, 33, 36, 39, 42, 45, 48]"
      ]
     },
     "execution_count": 31,
     "metadata": {},
     "output_type": "execute_result"
    }
   ],
   "source": [
    "lst = [x for x in range(1, 51) if x % 3 == 0]\n",
    "print(lst)\n",
    "lst = [x for x in range(1, 51) if (x % 3 == 0)]\n",
    "lst"
   ]
  },
  {
   "cell_type": "markdown",
   "id": "e77b6b03-8ee3-4d89-ae7c-e8d572b14c25",
   "metadata": {},
   "source": [
    "Go through the string below and if the length of a word is even print \"even!\""
   ]
  },
  {
   "cell_type": "code",
   "execution_count": 38,
   "id": "381e94ba-777f-4d4e-beab-a0752b570582",
   "metadata": {},
   "outputs": [
    {
     "name": "stdout",
     "output_type": "stream",
     "text": [
      "even even even even even even even even even "
     ]
    }
   ],
   "source": [
    "st = 'Print every word in this sentence that has an even number of letters'\n",
    "for _ in st.split():\n",
    "    if len(_) % 2 == 0:\n",
    "        print ('even', end = \" \")"
   ]
  },
  {
   "cell_type": "markdown",
   "id": "c26a06fe-80b3-49d0-99f1-86dd77533ac5",
   "metadata": {},
   "source": [
    "Write a program that prints the integers from 1 to 100. But for multiples of three print \"Fizz\" instead of the number, and for the multiples of five print \"Buzz\". For numbers which are multiples of both three and five print \"FizzBuzz\"."
   ]
  },
  {
   "cell_type": "code",
   "execution_count": 49,
   "id": "bc568026-7f69-4489-8387-bc78e25ab395",
   "metadata": {},
   "outputs": [
    {
     "name": "stdout",
     "output_type": "stream",
     "text": [
      "1\n",
      "2\n",
      "Fizz\n",
      "4\n",
      "Buzz\n",
      "Fizz\n",
      "7\n",
      "8\n",
      "Fizz\n",
      "Buzz\n",
      "11\n",
      "Fizz\n",
      "13\n",
      "14\n",
      "FizzBuzz\n",
      "16\n",
      "17\n",
      "Fizz\n",
      "19\n",
      "Buzz\n",
      "Fizz\n",
      "22\n",
      "23\n",
      "Fizz\n",
      "Buzz\n",
      "26\n",
      "Fizz\n",
      "28\n",
      "29\n",
      "FizzBuzz\n",
      "31\n",
      "32\n",
      "Fizz\n",
      "34\n",
      "Buzz\n",
      "Fizz\n",
      "37\n",
      "38\n",
      "Fizz\n",
      "Buzz\n",
      "41\n",
      "Fizz\n",
      "43\n",
      "44\n",
      "FizzBuzz\n",
      "46\n",
      "47\n",
      "Fizz\n",
      "49\n",
      "Buzz\n",
      "Fizz\n",
      "52\n",
      "53\n",
      "Fizz\n",
      "Buzz\n",
      "56\n",
      "Fizz\n",
      "58\n",
      "59\n",
      "FizzBuzz\n",
      "61\n",
      "62\n",
      "Fizz\n",
      "64\n",
      "Buzz\n",
      "Fizz\n",
      "67\n",
      "68\n",
      "Fizz\n",
      "Buzz\n",
      "71\n",
      "Fizz\n",
      "73\n",
      "74\n",
      "FizzBuzz\n",
      "76\n",
      "77\n",
      "Fizz\n",
      "79\n",
      "Buzz\n",
      "Fizz\n",
      "82\n",
      "83\n",
      "Fizz\n",
      "Buzz\n",
      "86\n",
      "Fizz\n",
      "88\n",
      "89\n",
      "FizzBuzz\n",
      "91\n",
      "92\n",
      "Fizz\n",
      "94\n",
      "Buzz\n",
      "Fizz\n",
      "97\n",
      "98\n",
      "Fizz\n",
      "Buzz\n"
     ]
    }
   ],
   "source": [
    "for x in range(1, 101):\n",
    "    f = 0\n",
    "    if(x % 3 == 0):\n",
    "        print(\"Fizz\", end = \"\")\n",
    "        f = 1\n",
    "    if(x % 5 == 0):\n",
    "        print(\"Buzz\", end = \"\")\n",
    "        f = 1\n",
    "    if(f == 0):\n",
    "        print(x, end = \"\")\n",
    "    print()"
   ]
  },
  {
   "cell_type": "markdown",
   "id": "ea79958e-4d9b-4131-8d64-b40e7667a5e7",
   "metadata": {},
   "source": [
    "**Use List Comprehension to create a list of the first letters of every word in the string below:**"
   ]
  },
  {
   "cell_type": "code",
   "execution_count": 64,
   "id": "3a370e2d-71b7-41a8-9455-c6a36f8b1d3c",
   "metadata": {},
   "outputs": [
    {
     "name": "stdout",
     "output_type": "stream",
     "text": [
      "C a l o t f l o e w i t s "
     ]
    }
   ],
   "source": [
    "st = 'Create a list of the first letters of every word in this string'\n",
    "#for x[0] for x in st.split():\n",
    "  #  pass\n",
    "   # print(x[0], end = \" \")\n",
    "#this is wrong because the correct syntax for the for loop is as followed:\n",
    "\n",
    "#for variable in iterable:\n",
    "pass\n",
    "    # do something\n",
    "\n",
    "for x in st.split():\n",
    "    print(x[0], end=\" \")\n",
    "#corrected code is as below:\n"
   ]
  },
  {
   "cell_type": "code",
   "execution_count": null,
   "id": "f7489fa1-263d-4fd6-b4d4-8932015a4b29",
   "metadata": {},
   "outputs": [],
   "source": []
  }
 ],
 "metadata": {
  "kernelspec": {
   "display_name": "Python [conda env:base] *",
   "language": "python",
   "name": "conda-base-py"
  },
  "language_info": {
   "codemirror_mode": {
    "name": "ipython",
    "version": 3
   },
   "file_extension": ".py",
   "mimetype": "text/x-python",
   "name": "python",
   "nbconvert_exporter": "python",
   "pygments_lexer": "ipython3",
   "version": "3.12.7"
  }
 },
 "nbformat": 4,
 "nbformat_minor": 5
}
