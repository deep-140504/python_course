{
 "cells": [
  {
   "cell_type": "markdown",
   "id": "2ef8218b-d6cd-4bf1-8fe4-ba8a9a33ce27",
   "metadata": {},
   "source": [
    "Use for, .split(), and if to create a Statement that will print out words that start with 's':"
   ]
  },
  {
   "cell_type": "code",
   "execution_count": 4,
   "id": "9c570795-37b6-451c-86c1-72fcbd265c5a",
   "metadata": {},
   "outputs": [
    {
     "name": "stdout",
     "output_type": "stream",
     "text": [
      "['Print', 'only', 'the', 'words', 'that', 'start', 'with', 's', 'in', 'this', 'sentence']\n"
     ]
    }
   ],
   "source": [
    "st = 'Print only the words that start with s in this sentence'\n",
    "ls = st.split()\n",
    "print(ls)"
   ]
  },
  {
   "cell_type": "code",
   "execution_count": 10,
   "id": "6df73940-a400-4840-8d47-9fda622b80d2",
   "metadata": {},
   "outputs": [
    {
     "name": "stdout",
     "output_type": "stream",
     "text": [
      "start\n",
      "s\n",
      "sentence\n"
     ]
    }
   ],
   "source": [
    "for x in ls:\n",
    "    if(x[0] == 's' or x[0] == 'S'):\n",
    "        print (x)\n",
    "        "
   ]
  },
  {
   "cell_type": "code",
   "execution_count": 18,
   "id": "215e042c-17b0-421f-848a-1e82f530603a",
   "metadata": {},
   "outputs": [
    {
     "name": "stdout",
     "output_type": "stream",
     "text": [
      "[None, None, None, None, None, 'start', None, 's', None, None, 'sentence']\n",
      "['start', 's', 'sentence']\n"
     ]
    }
   ],
   "source": [
    "final_ls = [x if x[0] == 's' or x[0] == 'S' else None for x in ls]\n",
    "print(final_ls)\n",
    "#so this will include none as a place holder for such elements which do not follow the condition\n",
    "#so just avoid this where the conditional statements are writtern just after the variable\n",
    "#followed is the much better way to do so:\n",
    "final_lst = [x for x in ls if x[0] == 's' or x[0] == 'S']\n",
    "print(final_lst)"
   ]
  },
  {
   "cell_type": "markdown",
   "id": "295c897b-03d4-46b3-b080-0e8e52095b0f",
   "metadata": {},
   "source": [
    "Use range() to print all the even numbers from 0 to 10."
   ]
  },
  {
   "cell_type": "code",
   "execution_count": 21,
   "id": "bb66fad8-d399-4319-8940-8d5f3f8f37c5",
   "metadata": {},
   "outputs": [
    {
     "ename": "SyntaxError",
     "evalue": "invalid syntax (496187150.py, line 1)",
     "output_type": "error",
     "traceback": [
      "\u001b[1;36m  Cell \u001b[1;32mIn[21], line 1\u001b[1;36m\u001b[0m\n\u001b[1;33m    print(for range(0, 11))\u001b[0m\n\u001b[1;37m          ^\u001b[0m\n\u001b[1;31mSyntaxError\u001b[0m\u001b[1;31m:\u001b[0m invalid syntax\n"
     ]
    }
   ],
   "source": [
    "print(for range(0, 11))"
   ]
  },
  {
   "cell_type": "code",
   "execution_count": 23,
   "id": "0db8ddc5-319c-44e6-8373-cb3fc4b28b5d",
   "metadata": {},
   "outputs": [
    {
     "name": "stdout",
     "output_type": "stream",
     "text": [
      "0\n",
      "2\n",
      "4\n",
      "6\n",
      "8\n",
      "10\n",
      "[0, 2, 4, 6, 8, 10]\n",
      "0 2 4 6 8 10\n"
     ]
    }
   ],
   "source": [
    "even_numbers = [num for num in range(0, 11) if num % 2 == 0]\n",
    "for num in even_numbers:\n",
    "    print(num)\n",
    "\n",
    "print(even_numbers)\n",
    "\n",
    "print(*range(0, 11, 2))"
   ]
  },
  {
   "cell_type": "code",
   "execution_count": 31,
   "id": "a6fe8320-e73b-41bb-9eb7-4f73129484e9",
   "metadata": {},
   "outputs": [
    {
     "name": "stdout",
     "output_type": "stream",
     "text": [
      "[3, 6, 9, 12, 15, 18, 21, 24, 27, 30, 33, 36, 39, 42, 45, 48]\n"
     ]
    },
    {
     "data": {
      "text/plain": [
       "[3, 6, 9, 12, 15, 18, 21, 24, 27, 30, 33, 36, 39, 42, 45, 48]"
      ]
     },
     "execution_count": 31,
     "metadata": {},
     "output_type": "execute_result"
    }
   ],
   "source": [
    "lst = [x for x in range(1, 51) if x % 3 == 0]\n",
    "print(lst)\n",
    "lst = [x for x in range(1, 51) if (x % 3 == 0)]\n",
    "lst"
   ]
  },
  {
   "cell_type": "code",
   "execution_count": null,
   "id": "bb183deb-c182-42f3-b872-a71b5befdadb",
   "metadata": {},
   "outputs": [],
   "source": []
  }
 ],
 "metadata": {
  "kernelspec": {
   "display_name": "Python [conda env:base] *",
   "language": "python",
   "name": "conda-base-py"
  },
  "language_info": {
   "codemirror_mode": {
    "name": "ipython",
    "version": 3
   },
   "file_extension": ".py",
   "mimetype": "text/x-python",
   "name": "python",
   "nbconvert_exporter": "python",
   "pygments_lexer": "ipython3",
   "version": "3.12.7"
  }
 },
 "nbformat": 4,
 "nbformat_minor": 5
}
