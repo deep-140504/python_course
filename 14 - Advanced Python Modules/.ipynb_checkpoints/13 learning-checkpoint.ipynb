{
 "cells": [
  {
   "cell_type": "code",
   "execution_count": 4,
   "id": "b2fa2c46-7b28-44a7-8d4f-1b56c0c37ef1",
   "metadata": {},
   "outputs": [],
   "source": [
    "from collections import Counter\n"
   ]
  },
  {
   "cell_type": "code",
   "execution_count": 6,
   "id": "9815386a-cb18-4918-a7a5-e9ccbdd4ca25",
   "metadata": {},
   "outputs": [],
   "source": [
    "mylist = [1, 1, 1, 1, 1, 1, 2, 2, 2, 2, 3, 3, 3, 3, 3, 3, 3]\n"
   ]
  },
  {
   "cell_type": "code",
   "execution_count": 8,
   "id": "c89914f6-34db-40f7-8b73-23be9f3fb476",
   "metadata": {},
   "outputs": [
    {
     "data": {
      "text/plain": [
       "Counter({3: 7, 1: 6, 2: 4})"
      ]
     },
     "execution_count": 8,
     "metadata": {},
     "output_type": "execute_result"
    }
   ],
   "source": [
    "Counter(mylist)"
   ]
  },
  {
   "cell_type": "code",
   "execution_count": 12,
   "id": "55e4e79b-e7c8-46b9-937f-d7745f34bf25",
   "metadata": {},
   "outputs": [
    {
     "data": {
      "text/plain": [
       "Counter({1: 3, 'a': 2})"
      ]
     },
     "execution_count": 12,
     "metadata": {},
     "output_type": "execute_result"
    }
   ],
   "source": [
    "mylist = ['a', 'a', 1, 1, 1]\n",
    "Counter(mylist)\n",
    "#this returns a specialize dictionary where the key is always an object and value is an integer"
   ]
  },
  {
   "cell_type": "code",
   "execution_count": 16,
   "id": "5d164e00-0245-4600-af4b-6acd2b73e50f",
   "metadata": {},
   "outputs": [
    {
     "data": {
      "text/plain": [
       "Counter({'b': 16, 'a': 14, 'd': 14, 'g': 10})"
      ]
     },
     "execution_count": 16,
     "metadata": {},
     "output_type": "execute_result"
    }
   ],
   "source": [
    "Counter(\"aaaaaaaaaaaaaabbbbbbbbbbbbbbbbddddddddddddddgggggggggg\")\n",
    "#this returns the count of individual letters\n"
   ]
  },
  {
   "cell_type": "code",
   "execution_count": 26,
   "id": "163aa68d-083c-4fb9-849f-5a8026851abc",
   "metadata": {},
   "outputs": [],
   "source": [
    "sentence = (\"How many times does each word show up in this sentence with a word\")"
   ]
  },
  {
   "cell_type": "code",
   "execution_count": 30,
   "id": "21f7adc3-d549-4e8e-8c41-2728a2268c33",
   "metadata": {},
   "outputs": [
    {
     "data": {
      "text/plain": [
       "Counter({'word': 2,\n",
       "         'how': 1,\n",
       "         'many': 1,\n",
       "         'times': 1,\n",
       "         'does': 1,\n",
       "         'each': 1,\n",
       "         'show': 1,\n",
       "         'up': 1,\n",
       "         'in': 1,\n",
       "         'this': 1,\n",
       "         'sentence': 1,\n",
       "         'with': 1,\n",
       "         'a': 1})"
      ]
     },
     "execution_count": 30,
     "metadata": {},
     "output_type": "execute_result"
    }
   ],
   "source": [
    "sentence.split()\n",
    "Counter(sentence.lower().split())"
   ]
  },
  {
   "cell_type": "code",
   "execution_count": 36,
   "id": "2466e3b7-9661-4771-8450-1bcf51857ac0",
   "metadata": {},
   "outputs": [
    {
     "name": "stdout",
     "output_type": "stream",
     "text": [
      "Counter({'b': 13, 'a': 12, 'c': 10, 'd': 9})\n"
     ]
    }
   ],
   "source": [
    "letters = \"aaaaaaaaaaaabbbbbbbbbbbbbccccccccccddddddddd\"\n",
    "c = Counter(letters)\n",
    "print(c)"
   ]
  },
  {
   "cell_type": "code",
   "execution_count": 40,
   "id": "15cec648-c475-4244-91b2-0eadf9b8b3e2",
   "metadata": {},
   "outputs": [
    {
     "data": {
      "text/plain": [
       "[('b', 13), ('a', 12)]"
      ]
     },
     "execution_count": 40,
     "metadata": {},
     "output_type": "execute_result"
    }
   ],
   "source": [
    "c.most_common(2)"
   ]
  },
  {
   "cell_type": "code",
   "execution_count": 42,
   "id": "d260083d-a603-4e9f-8815-8f5a3b9dfafe",
   "metadata": {},
   "outputs": [
    {
     "data": {
      "text/plain": [
       "['a', 'b', 'c', 'd']"
      ]
     },
     "execution_count": 42,
     "metadata": {},
     "output_type": "execute_result"
    }
   ],
   "source": [
    "list(c)"
   ]
  },
  {
   "cell_type": "code",
   "execution_count": null,
   "id": "0744bf67-3d9d-4b4e-9928-332ab56aeb61",
   "metadata": {},
   "outputs": [],
   "source": []
  },
  {
   "cell_type": "code",
   "execution_count": null,
   "id": "4b7dfb70-9ba6-4ebe-aab9-1df160c77fdc",
   "metadata": {},
   "outputs": [],
   "source": []
  },
  {
   "cell_type": "code",
   "execution_count": null,
   "id": "f5433cf3-8242-41a9-9122-f023b2caf6dc",
   "metadata": {},
   "outputs": [],
   "source": []
  },
  {
   "cell_type": "code",
   "execution_count": 53,
   "id": "ef326f2f-6a66-4cea-90bc-c53f4c6b8350",
   "metadata": {},
   "outputs": [],
   "source": [
    "from collections import defaultdict"
   ]
  },
  {
   "cell_type": "code",
   "execution_count": 57,
   "id": "f2ff3d7a-b041-44ad-bbfa-0433230fb510",
   "metadata": {},
   "outputs": [
    {
     "data": {
      "text/plain": [
       "1"
      ]
     },
     "execution_count": 57,
     "metadata": {},
     "output_type": "execute_result"
    }
   ],
   "source": [
    "d = defaultdict(lambda:0)\n",
    "# initiates all the values of the keys wrt the value provided, here the value is 0\n",
    "d['a'] = 1\n",
    "d['a']"
   ]
  },
  {
   "cell_type": "code",
   "execution_count": 59,
   "id": "8f95edcb-3cb7-432f-b87e-175187fce4ca",
   "metadata": {},
   "outputs": [
    {
     "data": {
      "text/plain": [
       "0"
      ]
     },
     "execution_count": 59,
     "metadata": {},
     "output_type": "execute_result"
    }
   ],
   "source": [
    "d['b']"
   ]
  },
  {
   "cell_type": "code",
   "execution_count": 63,
   "id": "d41454d2-66d8-4963-921a-ac131ef6bf04",
   "metadata": {},
   "outputs": [
    {
     "data": {
      "text/plain": [
       "10"
      ]
     },
     "execution_count": 63,
     "metadata": {},
     "output_type": "execute_result"
    }
   ],
   "source": [
    "mytuple = (10, 20, 30)\n",
    "mytuple[0]"
   ]
  },
  {
   "cell_type": "code",
   "execution_count": 67,
   "id": "0e9182db-f532-4e20-a183-5f823e74a7b1",
   "metadata": {},
   "outputs": [],
   "source": [
    "from collections import namedtuple"
   ]
  },
  {
   "cell_type": "code",
   "execution_count": 75,
   "id": "fdcbd77c-e8fd-49f6-9f3b-3fefffbc47cb",
   "metadata": {},
   "outputs": [],
   "source": [
    "Dog = namedtuple(\"Dog\", ['age', 'breed', 'name'])"
   ]
  },
  {
   "cell_type": "code",
   "execution_count": 77,
   "id": "a5559906-3b5f-49cf-a716-828bda7a2785",
   "metadata": {},
   "outputs": [],
   "source": [
    "samy = Dog(age = 5, breed = \"husky\", name = \"same\")"
   ]
  },
  {
   "cell_type": "code",
   "execution_count": 81,
   "id": "e1aeed9b-30e0-4dd5-9e9f-bd73bd5796c0",
   "metadata": {},
   "outputs": [
    {
     "data": {
      "text/plain": [
       "__main__.Dog"
      ]
     },
     "execution_count": 81,
     "metadata": {},
     "output_type": "execute_result"
    }
   ],
   "source": [
    "type(samy)"
   ]
  },
  {
   "cell_type": "code",
   "execution_count": 83,
   "id": "5f1bfd65-f6d3-49b7-9dab-62790163b600",
   "metadata": {},
   "outputs": [
    {
     "data": {
      "text/plain": [
       "Dog(age=5, breed='husky', name='same')"
      ]
     },
     "execution_count": 83,
     "metadata": {},
     "output_type": "execute_result"
    }
   ],
   "source": [
    "samy"
   ]
  },
  {
   "cell_type": "raw",
   "id": "c9724c1d-2b25-414b-9c07-e29b7e5038c6",
   "metadata": {},
   "source": [
    "so the namedtuple gives the faility of getting the values out of the tuples using the index as well as the attributes defined(similar to accessing attributes of object of a class). so it is flexible"
   ]
  },
  {
   "cell_type": "code",
   "execution_count": null,
   "id": "e6fbd872-8600-431b-ac31-f627eb9a502e",
   "metadata": {},
   "outputs": [],
   "source": []
  },
  {
   "cell_type": "code",
   "execution_count": null,
   "id": "c391c57b-8636-478f-8bcf-6e6ca5cd22b7",
   "metadata": {},
   "outputs": [],
   "source": []
  },
  {
   "cell_type": "code",
   "execution_count": null,
   "id": "fd835676-2e66-48d7-837b-e4b74dc6d0f6",
   "metadata": {},
   "outputs": [],
   "source": []
  },
  {
   "cell_type": "code",
   "execution_count": null,
   "id": "c1528f81-0f36-421c-a041-34d5b4309796",
   "metadata": {},
   "outputs": [],
   "source": []
  },
  {
   "cell_type": "code",
   "execution_count": 89,
   "id": "1088eab0-9ad5-4973-a77c-3ae54f0709df",
   "metadata": {},
   "outputs": [
    {
     "data": {
      "text/plain": [
       "'C:\\\\Users\\\\DeepADabhi\\\\Desktop\\\\Internship\\\\Python - The Complete Python Bootcamp From Zero to Hero in Python\\\\14 - Advanced Python Modules'"
      ]
     },
     "execution_count": 89,
     "metadata": {},
     "output_type": "execute_result"
    }
   ],
   "source": [
    "pwd"
   ]
  },
  {
   "cell_type": "code",
   "execution_count": 93,
   "id": "e8e19b41-e1a8-4448-bb7f-1a1f728aaa1c",
   "metadata": {},
   "outputs": [],
   "source": [
    "f = open(\"practise.txt\", 'w+')\n",
    "f.write(\"this is a test string\")\n",
    "f.close()"
   ]
  },
  {
   "cell_type": "code",
   "execution_count": 95,
   "id": "0108532c-5a0c-48f5-80f2-ba7a6dd9b522",
   "metadata": {},
   "outputs": [],
   "source": [
    "import os\n"
   ]
  },
  {
   "cell_type": "code",
   "execution_count": 97,
   "id": "f6ec8917-7a4c-4533-8221-bd5cb01d8042",
   "metadata": {},
   "outputs": [
    {
     "data": {
      "text/plain": [
       "'C:\\\\Users\\\\DeepADabhi\\\\Desktop\\\\Internship\\\\Python - The Complete Python Bootcamp From Zero to Hero in Python\\\\14 - Advanced Python Modules'"
      ]
     },
     "execution_count": 97,
     "metadata": {},
     "output_type": "execute_result"
    }
   ],
   "source": [
    "os.getcwd()"
   ]
  },
  {
   "cell_type": "code",
   "execution_count": 105,
   "id": "ee5d483a-845a-4b50-abf0-91573b42e76b",
   "metadata": {},
   "outputs": [
    {
     "data": {
      "text/plain": [
       "['.git',\n",
       " '.ipynb_checkpoints',\n",
       " '10 - errors and exception handling',\n",
       " '11 - Milestone prject 2',\n",
       " '12 - decorators',\n",
       " '13 - Generators',\n",
       " '14 - Advanced Python Modules',\n",
       " '3 - Python Object and Data Structure Basics',\n",
       " '5 - Python Statements',\n",
       " '6 - methods and function',\n",
       " '7 - Milestone Project 1',\n",
       " '8 - Object Oriented Programming',\n",
       " '9 - Packages and Modules',\n",
       " 'a.py',\n",
       " 'b.py',\n",
       " 'README.md']"
      ]
     },
     "execution_count": 105,
     "metadata": {},
     "output_type": "execute_result"
    }
   ],
   "source": [
    "os.listdir(\"C:\\\\Users\\\\DeepADabhi\\\\Desktop\\\\Internship\\\\Python - The Complete Python Bootcamp From Zero to Hero in Python\")"
   ]
  },
  {
   "cell_type": "code",
   "execution_count": 109,
   "id": "88d5fb61-db88-4b2c-ae41-8e5b78d745f4",
   "metadata": {},
   "outputs": [],
   "source": [
    "import shutil"
   ]
  },
  {
   "cell_type": "code",
   "execution_count": 111,
   "id": "c396682c-0985-424a-b849-61767729158f",
   "metadata": {},
   "outputs": [
    {
     "data": {
      "text/plain": [
       "'C:\\\\Users\\\\DeepADabhi\\\\Desktop\\\\practise.txt'"
      ]
     },
     "execution_count": 111,
     "metadata": {},
     "output_type": "execute_result"
    }
   ],
   "source": [
    "shutil.move(\"practise.txt\", \"C:\\\\Users\\\\DeepADabhi\\\\Desktop\")"
   ]
  },
  {
   "cell_type": "code",
   "execution_count": 113,
   "id": "27b81477-8d7d-49e7-addd-f042d3c5672c",
   "metadata": {},
   "outputs": [],
   "source": [
    "import send2trash"
   ]
  },
  {
   "cell_type": "code",
   "execution_count": 117,
   "id": "b827f51e-99d4-4192-9cf2-a38898fde58e",
   "metadata": {},
   "outputs": [
    {
     "data": {
      "text/plain": [
       "'C:\\\\Users\\\\DeepADabhi\\\\Desktop\\\\Internship\\\\Python - The Complete Python Bootcamp From Zero to Hero in Python\\\\14 - Advanced Python Modules\\\\practise.txt'"
      ]
     },
     "execution_count": 117,
     "metadata": {},
     "output_type": "execute_result"
    }
   ],
   "source": [
    "shutil.move('C:\\\\Users\\\\DeepADabhi\\\\Desktop\\\\practise.txt', os.getcwd())"
   ]
  },
  {
   "cell_type": "code",
   "execution_count": 119,
   "id": "8bbc8cf7-56e4-410a-b7b2-38ea49b5efc2",
   "metadata": {},
   "outputs": [
    {
     "data": {
      "text/plain": [
       "['.ipynb_checkpoints', '13 learning.ipynb', 'practise.txt']"
      ]
     },
     "execution_count": 119,
     "metadata": {},
     "output_type": "execute_result"
    }
   ],
   "source": [
    "os.listdir(os.getcwd())"
   ]
  },
  {
   "cell_type": "code",
   "execution_count": 121,
   "id": "345fd673-6994-415f-9347-11a58c9813af",
   "metadata": {},
   "outputs": [],
   "source": [
    "send2trash.send2trash('practise.txt')"
   ]
  },
  {
   "cell_type": "code",
   "execution_count": 123,
   "id": "506148cd-769f-407e-97bd-6b03cb494027",
   "metadata": {},
   "outputs": [
    {
     "data": {
      "text/plain": [
       "['.ipynb_checkpoints', '13 learning.ipynb']"
      ]
     },
     "execution_count": 123,
     "metadata": {},
     "output_type": "execute_result"
    }
   ],
   "source": [
    "os.listdir()\n"
   ]
  },
  {
   "cell_type": "code",
   "execution_count": 128,
   "id": "cd676ee4-589d-4651-9836-c33243962840",
   "metadata": {},
   "outputs": [],
   "source": [
    "file_path = \"C:\\\\Users\\\\DeepADabhi\\\\Desktop\\\\Internship\\\\Python - The Complete Python Bootcamp From Zero to Hero in Python\\\\14 - Advanced Python Modules\\\\\""
   ]
  },
  {
   "cell_type": "code",
   "execution_count": 134,
   "id": "52c48a1e-9b62-4cb4-8862-ef3cd37f9699",
   "metadata": {},
   "outputs": [
    {
     "name": "stdout",
     "output_type": "stream",
     "text": [
      "currently looking at C:\\Users\\DeepADabhi\\Desktop\\Internship\\Python - The Complete Python Bootcamp From Zero to Hero in Python\\14 - Advanced Python Modules\\\n",
      "\n",
      "\n",
      "subfolder: .ipynb_checkpoints \n",
      "\n",
      "\n",
      "the files are: \n",
      "file:13 learning.ipynb \n",
      "\n",
      "\n",
      "currently looking at C:\\Users\\DeepADabhi\\Desktop\\Internship\\Python - The Complete Python Bootcamp From Zero to Hero in Python\\14 - Advanced Python Modules\\.ipynb_checkpoints\n",
      "\n",
      "\n",
      "\n",
      "\n",
      "the files are: \n",
      "file:13 learning-checkpoint.ipynb \n",
      "\n",
      "\n"
     ]
    }
   ],
   "source": [
    "for folder, sub_folders, files in os.walk(file_path):\n",
    "    print(f\"currently looking at {folder}\")\n",
    "    print(\"\\n\")\n",
    "    for sub_folder in sub_folders: \n",
    "        print(f\"subfolder: {sub_folder} \")\n",
    "    print(\"\\n\")\n",
    "\n",
    "    print(\"the files are: \")\n",
    "    for f in files:\n",
    "        print(f\"file:{f} \")\n",
    "    print(\"\\n\")\n",
    "    "
   ]
  },
  {
   "cell_type": "code",
   "execution_count": null,
   "id": "dfdc801c-6fc3-4693-b740-07fb0a448814",
   "metadata": {},
   "outputs": [],
   "source": [
    "\n"
   ]
  },
  {
   "cell_type": "code",
   "execution_count": null,
   "id": "07ca4a90-3ec1-4ec8-a474-148ce91cebe0",
   "metadata": {},
   "outputs": [],
   "source": []
  },
  {
   "cell_type": "code",
   "execution_count": 146,
   "id": "f4ad087f-87e4-4f5e-b5a8-f534708a8d85",
   "metadata": {},
   "outputs": [],
   "source": [
    "import datetime"
   ]
  },
  {
   "cell_type": "code",
   "execution_count": 154,
   "id": "3180d5da-a83a-4ea5-af42-227eb99d24d9",
   "metadata": {},
   "outputs": [],
   "source": [
    "mytime = datetime.time(13, 20, 1, 120)"
   ]
  },
  {
   "cell_type": "code",
   "execution_count": 156,
   "id": "d1eede9b-43b1-4c54-8af5-4f40062a7dda",
   "metadata": {},
   "outputs": [
    {
     "data": {
      "text/plain": [
       "20"
      ]
     },
     "execution_count": 156,
     "metadata": {},
     "output_type": "execute_result"
    }
   ],
   "source": [
    "mytime.minute"
   ]
  },
  {
   "cell_type": "code",
   "execution_count": 158,
   "id": "82ebebe1-c130-492a-a6e7-d386a0b1e396",
   "metadata": {},
   "outputs": [
    {
     "name": "stdout",
     "output_type": "stream",
     "text": [
      "13:20:01.000120\n"
     ]
    }
   ],
   "source": [
    "print(mytime)"
   ]
  },
  {
   "cell_type": "code",
   "execution_count": 160,
   "id": "38509f32-1aef-426a-9c1f-b694bf638204",
   "metadata": {},
   "outputs": [
    {
     "name": "stdout",
     "output_type": "stream",
     "text": [
      "2025-01-15\n"
     ]
    }
   ],
   "source": [
    "today = datetime.date.today()\n",
    "print(today)"
   ]
  },
  {
   "cell_type": "code",
   "execution_count": null,
   "id": "a6f4e1e1-eebb-4750-a339-0b6c4e03e733",
   "metadata": {},
   "outputs": [],
   "source": []
  },
  {
   "cell_type": "code",
   "execution_count": null,
   "id": "0bfd8cf5-6331-4a3c-a4d7-3f10f9ee0ea6",
   "metadata": {},
   "outputs": [],
   "source": []
  },
  {
   "cell_type": "code",
   "execution_count": null,
   "id": "38ed7960-f213-43d3-86fb-1b94f7534983",
   "metadata": {},
   "outputs": [],
   "source": []
  },
  {
   "cell_type": "code",
   "execution_count": null,
   "id": "fbae62a4-22cf-4442-8beb-2a7c965f4c9a",
   "metadata": {},
   "outputs": [],
   "source": []
  },
  {
   "cell_type": "code",
   "execution_count": null,
   "id": "2dac3b15-9b4f-4133-aa2e-0fa18e3aa82f",
   "metadata": {},
   "outputs": [],
   "source": []
  },
  {
   "cell_type": "code",
   "execution_count": null,
   "id": "135b1465-cff1-4b7a-87d9-3aa9e5554f9d",
   "metadata": {},
   "outputs": [],
   "source": []
  },
  {
   "cell_type": "code",
   "execution_count": 172,
   "id": "97be509b-7270-4842-b8a3-d93a794783ec",
   "metadata": {},
   "outputs": [
    {
     "data": {
      "text/plain": [
       "3"
      ]
     },
     "execution_count": 172,
     "metadata": {},
     "output_type": "execute_result"
    }
   ],
   "source": [
    "import math\n",
    "round(3.4)"
   ]
  },
  {
   "cell_type": "code",
   "execution_count": 174,
   "id": "47f5c4d9-40b2-415a-88d7-5d4c983c7214",
   "metadata": {},
   "outputs": [
    {
     "data": {
      "text/plain": [
       "2.0"
      ]
     },
     "execution_count": 174,
     "metadata": {},
     "output_type": "execute_result"
    }
   ],
   "source": [
    "math.log(4, 2)"
   ]
  },
  {
   "cell_type": "code",
   "execution_count": 180,
   "id": "d52bcb1f-d7cc-47ed-8676-728506fea881",
   "metadata": {},
   "outputs": [
    {
     "data": {
      "text/plain": [
       "15"
      ]
     },
     "execution_count": 180,
     "metadata": {},
     "output_type": "execute_result"
    }
   ],
   "source": [
    "import random\n",
    "random.randint(10, 20)"
   ]
  },
  {
   "cell_type": "code",
   "execution_count": 188,
   "id": "5846d76b-876b-4157-aa39-23d66e6a2368",
   "metadata": {},
   "outputs": [
    {
     "data": {
      "text/plain": [
       "[6, 10, 14, 17, 14, 6, 13, 14, 9, 1]"
      ]
     },
     "execution_count": 188,
     "metadata": {},
     "output_type": "execute_result"
    }
   ],
   "source": [
    "# this is sample with replacement\n",
    "a = [1, 2, 3, 4, 5, 6, 7, 8, 9, 0, 11, 12, 13, 14 ,15, 16, 17, 18, 19, 10, 20]\n",
    "random.choices(population = a, k = 10)"
   ]
  },
  {
   "cell_type": "code",
   "execution_count": 190,
   "id": "e709998c-05a2-4f2a-999d-6083f1649b1d",
   "metadata": {},
   "outputs": [
    {
     "data": {
      "text/plain": [
       "[0, 15, 12, 4, 10, 3, 9, 13, 11, 17]"
      ]
     },
     "execution_count": 190,
     "metadata": {},
     "output_type": "execute_result"
    }
   ],
   "source": [
    "# this is sample without replacement\n",
    "random.sample(population = a, k = 10)"
   ]
  },
  {
   "cell_type": "code",
   "execution_count": 192,
   "id": "ce2c0264-33c6-4637-94c2-9e162c0512fe",
   "metadata": {},
   "outputs": [
    {
     "data": {
      "text/plain": [
       "[8, 7, 12, 3, 1, 13, 5, 2, 14, 17, 10, 20, 19, 0, 15, 9, 18, 4, 16, 11, 6]"
      ]
     },
     "execution_count": 192,
     "metadata": {},
     "output_type": "execute_result"
    }
   ],
   "source": [
    "random.shuffle(a)\n",
    "a"
   ]
  },
  {
   "cell_type": "code",
   "execution_count": 278,
   "id": "aa80b7d3-5b15-4706-8cd7-efc4203029d5",
   "metadata": {},
   "outputs": [
    {
     "data": {
      "text/plain": [
       "1.304492203740153"
      ]
     },
     "execution_count": 278,
     "metadata": {},
     "output_type": "execute_result"
    }
   ],
   "source": [
    "# random.uniform(a=0, b = 10\n",
    "\n",
    "#both are same\n",
    "random.uniform(0, 10)"
   ]
  },
  {
   "cell_type": "code",
   "execution_count": null,
   "id": "50c1a6d2-0325-4bfa-a4ca-b5d5093f4442",
   "metadata": {},
   "outputs": [],
   "source": []
  },
  {
   "cell_type": "code",
   "execution_count": null,
   "id": "12e04475-adb3-40bc-9ce1-4118ce7e2608",
   "metadata": {},
   "outputs": [],
   "source": []
  },
  {
   "cell_type": "code",
   "execution_count": null,
   "id": "87a57513-4f07-4f22-aca9-ef18aa9f738c",
   "metadata": {},
   "outputs": [],
   "source": []
  },
  {
   "cell_type": "code",
   "execution_count": null,
   "id": "5b966c70-fa63-4446-9f7b-c3ff75fc4d81",
   "metadata": {},
   "outputs": [],
   "source": []
  },
  {
   "cell_type": "code",
   "execution_count": null,
   "id": "7da628d0-4f5c-4507-a2ac-411063be7294",
   "metadata": {},
   "outputs": [],
   "source": []
  },
  {
   "cell_type": "code",
   "execution_count": null,
   "id": "fb8e5c67-1da5-4c06-80f0-582da244e770",
   "metadata": {},
   "outputs": [],
   "source": []
  },
  {
   "cell_type": "code",
   "execution_count": 286,
   "id": "ce020894-733f-48d2-833d-7bcf9d52b3fb",
   "metadata": {},
   "outputs": [
    {
     "ename": "TypeError",
     "evalue": "can only concatenate list (not \"int\") to list",
     "output_type": "error",
     "traceback": [
      "\u001b[1;31m---------------------------------------------------------------------------\u001b[0m",
      "\u001b[1;31mTypeError\u001b[0m                                 Traceback (most recent call last)",
      "Cell \u001b[1;32mIn[286], line 6\u001b[0m\n\u001b[0;32m      3\u001b[0m z \u001b[38;5;241m=\u001b[39m \u001b[38;5;241m3\u001b[39m\n\u001b[0;32m      5\u001b[0m result \u001b[38;5;241m=\u001b[39m y \u001b[38;5;241m+\u001b[39m z\n\u001b[1;32m----> 6\u001b[0m result2 \u001b[38;5;241m=\u001b[39m x \u001b[38;5;241m+\u001b[39m y\n",
      "\u001b[1;31mTypeError\u001b[0m: can only concatenate list (not \"int\") to list"
     ]
    }
   ],
   "source": [
    "x = [1, 2, 3]\n",
    "y = 2\n",
    "z = 3\n",
    "\n",
    "result = y + z\n",
    "result2 = x + y"
   ]
  },
  {
   "cell_type": "code",
   "execution_count": 288,
   "id": "6bd64851-e3d9-4a83-a6de-b5496189378c",
   "metadata": {},
   "outputs": [
    {
     "name": "stdout",
     "output_type": "stream",
     "text": [
      "--Return--\n",
      "None\n",
      "> \u001b[1;32mc:\\users\\deepadabhi\\appdata\\local\\temp\\ipykernel_5172\\3208966480.py\u001b[0m(7)\u001b[0;36m<module>\u001b[1;34m()\u001b[0m\n",
      "\n"
     ]
    },
    {
     "name": "stdin",
     "output_type": "stream",
     "text": [
      "ipdb>  y\n"
     ]
    },
    {
     "name": "stdout",
     "output_type": "stream",
     "text": [
      "2\n"
     ]
    },
    {
     "name": "stdin",
     "output_type": "stream",
     "text": [
      "ipdb>  x\n"
     ]
    },
    {
     "name": "stdout",
     "output_type": "stream",
     "text": [
      "[1, 2, 3]\n",
      "--KeyboardInterrupt--\n",
      "\n",
      "KeyboardInterrupt: Interrupted by user\n"
     ]
    },
    {
     "ename": "TypeError",
     "evalue": "can only concatenate list (not \"int\") to list",
     "output_type": "error",
     "traceback": [
      "\u001b[1;31m---------------------------------------------------------------------------\u001b[0m",
      "\u001b[1;31mTypeError\u001b[0m                                 Traceback (most recent call last)",
      "Cell \u001b[1;32mIn[288], line 8\u001b[0m\n\u001b[0;32m      6\u001b[0m result \u001b[38;5;241m=\u001b[39m y \u001b[38;5;241m+\u001b[39m z\n\u001b[0;32m      7\u001b[0m pdb\u001b[38;5;241m.\u001b[39mset_trace()\n\u001b[1;32m----> 8\u001b[0m result2 \u001b[38;5;241m=\u001b[39m x \u001b[38;5;241m+\u001b[39m y\n",
      "\u001b[1;31mTypeError\u001b[0m: can only concatenate list (not \"int\") to list"
     ]
    },
    {
     "name": "stdin",
     "output_type": "stream",
     "text": [
      "ipdb>   0\n"
     ]
    }
   ],
   "source": [
    "import pdb\n",
    "x = [1, 2, 3]\n",
    "y = 2\n",
    "z = 3\n",
    "\n",
    "result = y + z\n",
    "result2 = x + y"
   ]
  },
  {
   "cell_type": "code",
   "execution_count": 290,
   "id": "dbb47a9b-0847-4a70-97a2-41d2e8fbd057",
   "metadata": {},
   "outputs": [
    {
     "name": "stdout",
     "output_type": "stream",
     "text": [
      "hello\n"
     ]
    }
   ],
   "source": [
    "print(\"hello\")"
   ]
  },
  {
   "cell_type": "code",
   "execution_count": null,
   "id": "86fd69c6-ac7e-4b2f-bc3d-ead45bc81019",
   "metadata": {},
   "outputs": [],
   "source": []
  },
  {
   "cell_type": "code",
   "execution_count": null,
   "id": "c7a18086-de17-4253-97fe-17a06452225f",
   "metadata": {},
   "outputs": [],
   "source": []
  },
  {
   "cell_type": "code",
   "execution_count": null,
   "id": "966d33ec-6978-4ed5-ba43-8527c5579d1b",
   "metadata": {},
   "outputs": [],
   "source": []
  },
  {
   "cell_type": "code",
   "execution_count": 298,
   "id": "dd358081-316a-4595-8f27-cefeb14cab9c",
   "metadata": {},
   "outputs": [],
   "source": [
    "import re"
   ]
  },
  {
   "cell_type": "code",
   "execution_count": 300,
   "id": "89a12c36-6c0a-4de6-83d5-88a2229ab1c9",
   "metadata": {},
   "outputs": [],
   "source": [
    "txt = \"my phone number is 111-222-3333\"\n",
    "ph = re.search(r\"\\d\\d\\d-\\d\\d\\d-\\d\\d\\d\\d\", txt)"
   ]
  },
  {
   "cell_type": "code",
   "execution_count": 302,
   "id": "01102938-5071-4c5a-9adb-18095dfbc2ae",
   "metadata": {},
   "outputs": [
    {
     "data": {
      "text/plain": [
       "<re.Match object; span=(19, 31), match='111-222-3333'>"
      ]
     },
     "execution_count": 302,
     "metadata": {},
     "output_type": "execute_result"
    }
   ],
   "source": [
    "ph"
   ]
  },
  {
   "cell_type": "code",
   "execution_count": 304,
   "id": "9a78f6d5-916e-4c89-970e-97f4f91e3fb2",
   "metadata": {},
   "outputs": [
    {
     "data": {
      "text/plain": [
       "'111-222-3333'"
      ]
     },
     "execution_count": 304,
     "metadata": {},
     "output_type": "execute_result"
    }
   ],
   "source": [
    "ph.group()"
   ]
  },
  {
   "cell_type": "code",
   "execution_count": 308,
   "id": "c35a0790-6b78-47b0-9d63-51d4609bea54",
   "metadata": {},
   "outputs": [],
   "source": [
    "#so,\n",
    "ph = re.search(r\"\\d{3}-\\d{3}-\\d{4}\", txt)"
   ]
  },
  {
   "cell_type": "code",
   "execution_count": 310,
   "id": "bdae0105-ae41-45e0-9114-fed89f10fe10",
   "metadata": {},
   "outputs": [
    {
     "data": {
      "text/plain": [
       "<re.Match object; span=(19, 31), match='111-222-3333'>"
      ]
     },
     "execution_count": 310,
     "metadata": {},
     "output_type": "execute_result"
    }
   ],
   "source": [
    "ph"
   ]
  },
  {
   "cell_type": "code",
   "execution_count": 312,
   "id": "9f8a3fda-6da1-4bcd-939f-df9f1959c2c3",
   "metadata": {},
   "outputs": [],
   "source": [
    "phone_pattern = re.compile(r'(\\d{3})-(\\d{3})-(\\d{4})')"
   ]
  },
  {
   "cell_type": "code",
   "execution_count": 314,
   "id": "5173a3a1-434e-481f-a12f-173315bcb672",
   "metadata": {},
   "outputs": [
    {
     "data": {
      "text/plain": [
       "re.compile(r'(\\d{3})-(\\d{3})-(\\d{4})', re.UNICODE)"
      ]
     },
     "execution_count": 314,
     "metadata": {},
     "output_type": "execute_result"
    }
   ],
   "source": [
    "phone_pattern"
   ]
  },
  {
   "cell_type": "code",
   "execution_count": 316,
   "id": "fe9e90b2-a351-423f-9d87-4be7a21ccc13",
   "metadata": {},
   "outputs": [],
   "source": [
    "results = re.search(phone_pattern, txt)"
   ]
  },
  {
   "cell_type": "code",
   "execution_count": 318,
   "id": "cc13b2c8-95e4-4ac3-a85b-d7fb8eab109d",
   "metadata": {},
   "outputs": [
    {
     "data": {
      "text/plain": [
       "'111-222-3333'"
      ]
     },
     "execution_count": 318,
     "metadata": {},
     "output_type": "execute_result"
    }
   ],
   "source": [
    "results.group()"
   ]
  },
  {
   "cell_type": "code",
   "execution_count": 320,
   "id": "999e05ac-b2d2-482d-86ee-efa0e011063e",
   "metadata": {},
   "outputs": [
    {
     "data": {
      "text/plain": [
       "'111'"
      ]
     },
     "execution_count": 320,
     "metadata": {},
     "output_type": "execute_result"
    }
   ],
   "source": [
    "results.group(1)"
   ]
  },
  {
   "cell_type": "code",
   "execution_count": null,
   "id": "d917fcb7-e012-45d3-a202-c7f86e4141d1",
   "metadata": {},
   "outputs": [],
   "source": []
  },
  {
   "cell_type": "code",
   "execution_count": null,
   "id": "19ff1aee-bd37-4e53-8ada-094e8bb85b6d",
   "metadata": {},
   "outputs": [],
   "source": []
  },
  {
   "cell_type": "code",
   "execution_count": 324,
   "id": "837df4c7-a8d4-4994-b76c-5704c6de4430",
   "metadata": {},
   "outputs": [
    {
     "data": {
      "text/plain": [
       "<re.Match object; span=(4, 7), match='dog'>"
      ]
     },
     "execution_count": 324,
     "metadata": {},
     "output_type": "execute_result"
    }
   ],
   "source": [
    "re.search(r'cat|dog', 'the dog is here')"
   ]
  },
  {
   "cell_type": "code",
   "execution_count": 326,
   "id": "04341373-b370-46bc-ad20-0bacd3bdb8dc",
   "metadata": {},
   "outputs": [],
   "source": [
    "phrase = \"there are 3 numbers 34 inside 5 this sentence\"\n"
   ]
  },
  {
   "cell_type": "code",
   "execution_count": 328,
   "id": "dab87825-3595-49f5-96e9-cc083dcd5246",
   "metadata": {},
   "outputs": [],
   "source": [
    "pattern = r'[^\\d]'"
   ]
  },
  {
   "cell_type": "code",
   "execution_count": 330,
   "id": "42c98e30-3bd6-4bce-a8f5-1918c0db094b",
   "metadata": {},
   "outputs": [
    {
     "data": {
      "text/plain": [
       "['t',\n",
       " 'h',\n",
       " 'e',\n",
       " 'r',\n",
       " 'e',\n",
       " ' ',\n",
       " 'a',\n",
       " 'r',\n",
       " 'e',\n",
       " ' ',\n",
       " ' ',\n",
       " 'n',\n",
       " 'u',\n",
       " 'm',\n",
       " 'b',\n",
       " 'e',\n",
       " 'r',\n",
       " 's',\n",
       " ' ',\n",
       " ' ',\n",
       " 'i',\n",
       " 'n',\n",
       " 's',\n",
       " 'i',\n",
       " 'd',\n",
       " 'e',\n",
       " ' ',\n",
       " ' ',\n",
       " 't',\n",
       " 'h',\n",
       " 'i',\n",
       " 's',\n",
       " ' ',\n",
       " 's',\n",
       " 'e',\n",
       " 'n',\n",
       " 't',\n",
       " 'e',\n",
       " 'n',\n",
       " 'c',\n",
       " 'e']"
      ]
     },
     "execution_count": 330,
     "metadata": {},
     "output_type": "execute_result"
    }
   ],
   "source": [
    "re.findall(pattern, phrase)"
   ]
  },
  {
   "cell_type": "code",
   "execution_count": 332,
   "id": "8578acb8-220e-424b-9711-9f6174344a87",
   "metadata": {},
   "outputs": [
    {
     "data": {
      "text/plain": [
       "['there are ', ' numbers ', ' inside ', ' this sentence']"
      ]
     },
     "execution_count": 332,
     "metadata": {},
     "output_type": "execute_result"
    }
   ],
   "source": [
    "pattern = r'[^\\d]+'\n",
    "re.findall(pattern, phrase)"
   ]
  },
  {
   "cell_type": "code",
   "execution_count": 334,
   "id": "7cb8e338-93c7-4618-ba7d-3028d8d6c10c",
   "metadata": {},
   "outputs": [
    {
     "data": {
      "text/plain": [
       "['there are ', '', ' numbers ', '', '', ' inside ', '', ' this sentence', '']"
      ]
     },
     "execution_count": 334,
     "metadata": {},
     "output_type": "execute_result"
    }
   ],
   "source": [
    "pattern = r'[^\\d]*'\n",
    "re.findall(pattern, phrase)"
   ]
  },
  {
   "cell_type": "code",
   "execution_count": 344,
   "id": "46a0b1a6-dee8-47d3-ac4e-c38356a455d5",
   "metadata": {},
   "outputs": [],
   "source": [
    "test_phrase = \"This is a string! but it has punctuation. how can we remove it?\"\n",
    "clean_phrase = re.findall(r'[^!.? ]+', test_phrase)"
   ]
  },
  {
   "cell_type": "code",
   "execution_count": 346,
   "id": "076dbf8d-e543-4739-8f59-9ff528f2fa7a",
   "metadata": {},
   "outputs": [
    {
     "name": "stdout",
     "output_type": "stream",
     "text": [
      "['This', 'is', 'a', 'string', 'but', 'it', 'has', 'punctuation', 'how', 'can', 'we', 'remove', 'it']\n"
     ]
    }
   ],
   "source": [
    "print(clean_phrase)"
   ]
  },
  {
   "cell_type": "code",
   "execution_count": 348,
   "id": "080c8104-7f94-4f33-b7e7-5e7894e9a2b5",
   "metadata": {},
   "outputs": [
    {
     "data": {
      "text/plain": [
       "'This is a string but it has punctuation how can we remove it'"
      ]
     },
     "execution_count": 348,
     "metadata": {},
     "output_type": "execute_result"
    }
   ],
   "source": [
    "\" \".join(clean_phrase)"
   ]
  },
  {
   "cell_type": "code",
   "execution_count": 357,
   "id": "cab34f55-9c93-45b0-9e82-2c376253829a",
   "metadata": {},
   "outputs": [],
   "source": [
    "txt = \"only find the hyphen-words in this sentence, but you do not know how long -ish thet are\""
   ]
  },
  {
   "cell_type": "code",
   "execution_count": 363,
   "id": "ea42b8d7-4c67-4fed-b9f9-2c7a090abb54",
   "metadata": {},
   "outputs": [],
   "source": [
    "pattern = r'\\w+'"
   ]
  },
  {
   "cell_type": "raw",
   "id": "31e5fac0-a473-4f63-bc20-d85ffb458a11",
   "metadata": {},
   "source": [
    "re.findall(pattern, txt)"
   ]
  },
  {
   "cell_type": "code",
   "execution_count": null,
   "id": "db7d914b-1d08-4493-bb48-6b8a40164471",
   "metadata": {},
   "outputs": [],
   "source": []
  }
 ],
 "metadata": {
  "kernelspec": {
   "display_name": "Python [conda env:base] *",
   "language": "python",
   "name": "conda-base-py"
  },
  "language_info": {
   "codemirror_mode": {
    "name": "ipython",
    "version": 3
   },
   "file_extension": ".py",
   "mimetype": "text/x-python",
   "name": "python",
   "nbconvert_exporter": "python",
   "pygments_lexer": "ipython3",
   "version": "3.12.7"
  }
 },
 "nbformat": 4,
 "nbformat_minor": 5
}
