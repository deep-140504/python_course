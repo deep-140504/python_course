{
 "cells": [
  {
   "cell_type": "markdown",
   "id": "d37506a3-3a66-46e0-9541-1f5a2b07a95f",
   "metadata": {},
   "source": [
    "string interpolation: which is nothing but the sticking the variable into the string\n",
    "two methods are used for the same .format() method and the f-strings() method, the .format() method is more preferable"
   ]
  },
  {
   "cell_type": "code",
   "execution_count": 7,
   "id": "97c1525d-1118-4181-b044-aa450daac30c",
   "metadata": {},
   "outputs": [],
   "source": [
    "result = 100/7"
   ]
  },
  {
   "cell_type": "code",
   "execution_count": 10,
   "id": "63d7068f-ae48-4f0b-9ef5-c4122e864810",
   "metadata": {},
   "outputs": [
    {
     "data": {
      "text/plain": [
       "14.285714285714286"
      ]
     },
     "execution_count": 10,
     "metadata": {},
     "output_type": "execute_result"
    }
   ],
   "source": [
    "result"
   ]
  },
  {
   "cell_type": "code",
   "execution_count": 19,
   "id": "25498d59-93c9-43c5-b1ba-56048a9230c7",
   "metadata": {},
   "outputs": [
    {
     "name": "stdout",
     "output_type": "stream",
     "text": [
      "the result was 14.28571429\n"
     ]
    }
   ],
   "source": [
    "print(\"the result was {r:1.8f}\".format(r = result))"
   ]
  },
  {
   "cell_type": "markdown",
   "id": "77609ace-8416-4460-9f9e-054195a919b2",
   "metadata": {},
   "source": [
    "r: Refers to the variable result that is being formatted.\n",
    ":: Introduces the formatting specification.\n",
    "1: The minimum width of the field. If the formatted value is shorter than this width, it will be padded with spaces to meet this width. In this case, the width is 1, so it essentially has no effect unless combined with alignment or padding.\n",
    ".8: Indicates that the value should be formatted to 8 significant figures."
   ]
  },
  {
   "cell_type": "code",
   "execution_count": 20,
   "id": "be340bf8-817e-49b0-9e09-842222f3f949",
   "metadata": {},
   "outputs": [
    {
     "name": "stdout",
     "output_type": "stream",
     "text": [
      "Floating point numbers: 14\n"
     ]
    }
   ],
   "source": [
    "print('Floating point numbers: %1.0f' %(13.544))"
   ]
  },
  {
   "cell_type": "code",
   "execution_count": 21,
   "id": "ae43d2f3-c8a3-4b52-be1a-5618012bfa71",
   "metadata": {},
   "outputs": [
    {
     "name": "stdout",
     "output_type": "stream",
     "text": [
      "My 10 character, four decimal number is:   23.4500\n",
      "My 10 character, four decimal number is:   23.4500\n"
     ]
    }
   ],
   "source": [
    "num = 23.45\n",
    "print(\"My 10 character, four decimal number is:{0:10.4f}\".format(num))\n",
    "print(f\"My 10 character, four decimal number is:{num:10.4f}\")"
   ]
  },
  {
   "cell_type": "code",
   "execution_count": null,
   "id": "e0c2cfc0-aa0f-4423-8e3d-e4534c04f5d5",
   "metadata": {},
   "outputs": [],
   "source": []
  }
 ],
 "metadata": {
  "kernelspec": {
   "display_name": "Python 3 (ipykernel)",
   "language": "python",
   "name": "python3"
  },
  "language_info": {
   "codemirror_mode": {
    "name": "ipython",
    "version": 3
   },
   "file_extension": ".py",
   "mimetype": "text/x-python",
   "name": "python",
   "nbconvert_exporter": "python",
   "pygments_lexer": "ipython3",
   "version": "3.12.7"
  }
 },
 "nbformat": 4,
 "nbformat_minor": 5
}
