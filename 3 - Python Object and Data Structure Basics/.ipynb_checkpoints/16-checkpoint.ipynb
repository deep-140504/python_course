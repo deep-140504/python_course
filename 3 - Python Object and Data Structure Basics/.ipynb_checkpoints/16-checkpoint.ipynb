{
 "cells": [
  {
   "cell_type": "markdown",
   "id": "2eb46dee-0bce-4aed-b278-87bfbfe73d6a",
   "metadata": {},
   "source": [
    "string indexing and slicing"
   ]
  },
  {
   "cell_type": "code",
   "execution_count": 1,
   "id": "0c83e015-8112-4dff-8a77-c7af6c2081bb",
   "metadata": {},
   "outputs": [],
   "source": [
    "a = \"hello world\""
   ]
  },
  {
   "cell_type": "code",
   "execution_count": 2,
   "id": "cd4e534c-5da7-49d1-902e-a0d3025757d4",
   "metadata": {},
   "outputs": [
    {
     "data": {
      "text/plain": [
       "'hello world'"
      ]
     },
     "execution_count": 2,
     "metadata": {},
     "output_type": "execute_result"
    }
   ],
   "source": [
    "a"
   ]
  },
  {
   "cell_type": "code",
   "execution_count": 3,
   "id": "de58ad3a-b68f-4e0d-9e7a-7a4a11cf6734",
   "metadata": {},
   "outputs": [
    {
     "data": {
      "text/plain": [
       "'lr'"
      ]
     },
     "execution_count": 3,
     "metadata": {},
     "output_type": "execute_result"
    }
   ],
   "source": [
    "a[3:10:5]"
   ]
  },
  {
   "cell_type": "code",
   "execution_count": 4,
   "id": "542fb1a4-e619-4fdc-9c79-218a32619c4b",
   "metadata": {},
   "outputs": [
    {
     "ename": "SyntaxError",
     "evalue": "unterminated string literal (detected at line 1) (228802665.py, line 1)",
     "output_type": "error",
     "traceback": [
      "\u001b[1;36m  Cell \u001b[1;32mIn[4], line 1\u001b[1;36m\u001b[0m\n\u001b[1;33m    a = \"\u001b[0m\n\u001b[1;37m        ^\u001b[0m\n\u001b[1;31mSyntaxError\u001b[0m\u001b[1;31m:\u001b[0m unterminated string literal (detected at line 1)\n"
     ]
    }
   ],
   "source": [
    "a = \""
   ]
  },
  {
   "cell_type": "code",
   "execution_count": 5,
   "id": "db4affcc-2847-4ab3-9b9e-c44852650f87",
   "metadata": {},
   "outputs": [
    {
     "ename": "SyntaxError",
     "evalue": "invalid syntax (2792523948.py, line 1)",
     "output_type": "error",
     "traceback": [
      "\u001b[1;36m  Cell \u001b[1;32mIn[5], line 1\u001b[1;36m\u001b[0m\n\u001b[1;33m    a =\u001b[0m\n\u001b[1;37m        ^\u001b[0m\n\u001b[1;31mSyntaxError\u001b[0m\u001b[1;31m:\u001b[0m invalid syntax\n"
     ]
    }
   ],
   "source": [
    "a = "
   ]
  },
  {
   "cell_type": "code",
   "execution_count": 6,
   "id": "596ebc62-475a-4896-86f0-f48c3baddd66",
   "metadata": {},
   "outputs": [],
   "source": [
    "a = 'absdefhijl'"
   ]
  },
  {
   "cell_type": "code",
   "execution_count": 7,
   "id": "635d6709-37d6-4a3d-a9ad-f1bc9e6544b0",
   "metadata": {},
   "outputs": [
    {
     "data": {
      "text/plain": [
       "'absdefhijl'"
      ]
     },
     "execution_count": 7,
     "metadata": {},
     "output_type": "execute_result"
    }
   ],
   "source": [
    "a\n"
   ]
  },
  {
   "cell_type": "code",
   "execution_count": 10,
   "id": "8509380a-9dd8-4993-949c-fb65290f26fc",
   "metadata": {},
   "outputs": [
    {
     "data": {
      "text/plain": [
       "'defhijl'"
      ]
     },
     "execution_count": 10,
     "metadata": {},
     "output_type": "execute_result"
    }
   ],
   "source": [
    "a[3:10]"
   ]
  },
  {
   "cell_type": "code",
   "execution_count": 11,
   "id": "c0dc0cbc-c6c5-4ec9-9512-018581001ac8",
   "metadata": {},
   "outputs": [],
   "source": [
    "a = \"abcdefghijklmnopqrstuvwxyz\""
   ]
  },
  {
   "cell_type": "code",
   "execution_count": 12,
   "id": "7c01cce8-24db-4e93-9732-d00b081244fe",
   "metadata": {},
   "outputs": [
    {
     "data": {
      "text/plain": [
       "'abcdefghijklmnopqrstuvwxyz'"
      ]
     },
     "execution_count": 12,
     "metadata": {},
     "output_type": "execute_result"
    }
   ],
   "source": [
    "a"
   ]
  },
  {
   "cell_type": "code",
   "execution_count": 26,
   "id": "29827613-f22b-47bd-9c01-102ca5c4ae97",
   "metadata": {},
   "outputs": [
    {
     "data": {
      "text/plain": [
       "'zyxwvutsrqponmlkjihgfedcb'"
      ]
     },
     "execution_count": 26,
     "metadata": {},
     "output_type": "execute_result"
    }
   ],
   "source": [
    "a[26:0:-1]"
   ]
  },
  {
   "cell_type": "markdown",
   "id": "a7569bfa-4ebb-44d4-a4b9-18f8224a25f0",
   "metadata": {},
   "source": [
    "a[26:0:-1] this gives z to b not including a, because the second parameter which is 0 is excluded here. additionaly the other methods to do so are as followed: \n",
    "a = \"abcdefghijklmnopqrstuvwxyz\"\n",
    "print(a[25::-1])\n",
    "\n",
    "a = \"abcdefghijklmnopqrstuvwxyz\"\n",
    "print(a[25:0:-1] + a[0])\n",
    "\n",
    "a = \"abcdefghijklmnopqrstuvwxyz\"\n",
    "print(a[::-1])  # Simplest and most common way this is most used way"
   ]
  }
 ],
 "metadata": {
  "kernelspec": {
   "display_name": "Python 3 (ipykernel)",
   "language": "python",
   "name": "python3"
  },
  "language_info": {
   "codemirror_mode": {
    "name": "ipython",
    "version": 3
   },
   "file_extension": ".py",
   "mimetype": "text/x-python",
   "name": "python",
   "nbconvert_exporter": "python",
   "pygments_lexer": "ipython3",
   "version": "3.12.7"
  }
 },
 "nbformat": 4,
 "nbformat_minor": 5
}
