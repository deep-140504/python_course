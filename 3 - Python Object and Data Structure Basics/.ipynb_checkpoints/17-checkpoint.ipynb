{
 "cells": [
  {
   "cell_type": "code",
   "execution_count": 1,
   "id": "6c9e703d-a8a9-4b37-974f-706a8bca984a",
   "metadata": {},
   "outputs": [],
   "source": [
    "name = \"ada\""
   ]
  },
  {
   "cell_type": "code",
   "execution_count": 2,
   "id": "91fa3133-f0a2-48a0-beba-e399d20a3c2d",
   "metadata": {},
   "outputs": [],
   "source": [
    " x = \"sam\""
   ]
  },
  {
   "cell_type": "code",
   "execution_count": 4,
   "id": "82aec1f6-4816-4a6a-b917-ce506b656523",
   "metadata": {},
   "outputs": [],
   "source": [
    "x_last = x[1:]"
   ]
  },
  {
   "cell_type": "code",
   "execution_count": 5,
   "id": "81e9da43-8cba-4b38-85a8-a5baa97cd791",
   "metadata": {},
   "outputs": [
    {
     "data": {
      "text/plain": [
       "'sam'"
      ]
     },
     "execution_count": 5,
     "metadata": {},
     "output_type": "execute_result"
    }
   ],
   "source": [
    "x"
   ]
  },
  {
   "cell_type": "code",
   "execution_count": 6,
   "id": "b32e84fc-653d-44c6-a7f1-c886e0f424b4",
   "metadata": {},
   "outputs": [
    {
     "data": {
      "text/plain": [
       "'am'"
      ]
     },
     "execution_count": 6,
     "metadata": {},
     "output_type": "execute_result"
    }
   ],
   "source": [
    "x_last"
   ]
  },
  {
   "cell_type": "code",
   "execution_count": 8,
   "id": "9d60dca8-17af-4552-bc7a-763ee0392745",
   "metadata": {},
   "outputs": [],
   "source": [
    "x_last = x_last + 'p'"
   ]
  },
  {
   "cell_type": "code",
   "execution_count": 9,
   "id": "ab257e79-6724-449f-a85a-ec5c122f4529",
   "metadata": {},
   "outputs": [
    {
     "data": {
      "text/plain": [
       "'amp'"
      ]
     },
     "execution_count": 9,
     "metadata": {},
     "output_type": "execute_result"
    }
   ],
   "source": [
    "x_last"
   ]
  },
  {
   "cell_type": "code",
   "execution_count": 10,
   "id": "3e96cd46-748c-4dfe-ab2e-527c4341130a",
   "metadata": {},
   "outputs": [
    {
     "ename": "SyntaxError",
     "evalue": "invalid syntax (3895850236.py, line 1)",
     "output_type": "error",
     "traceback": [
      "\u001b[1;36m  Cell \u001b[1;32mIn[10], line 1\u001b[1;36m\u001b[0m\n\u001b[1;33m    x=\u001b[0m\n\u001b[1;37m       ^\u001b[0m\n\u001b[1;31mSyntaxError\u001b[0m\u001b[1;31m:\u001b[0m invalid syntax\n"
     ]
    }
   ],
   "source": [
    "x= "
   ]
  },
  {
   "cell_type": "code",
   "execution_count": 11,
   "id": "848e2e97-9113-4b2a-a995-7f51feaae9ae",
   "metadata": {},
   "outputs": [],
   "source": [
    " x = \"abcdefghjinlkn\""
   ]
  },
  {
   "cell_type": "code",
   "execution_count": 12,
   "id": "52b7c8f2-678c-4dc3-a8e3-81bbf16b37f1",
   "metadata": {},
   "outputs": [
    {
     "data": {
      "text/plain": [
       "'ABCDEFGHJINLKN'"
      ]
     },
     "execution_count": 12,
     "metadata": {},
     "output_type": "execute_result"
    }
   ],
   "source": [
    "x.upper()"
   ]
  },
  {
   "cell_type": "code",
   "execution_count": 13,
   "id": "db79ca89-91fe-4c3b-8cc1-15780c0fed76",
   "metadata": {},
   "outputs": [
    {
     "data": {
      "text/plain": [
       "'abcdefghjinlkn'"
      ]
     },
     "execution_count": 13,
     "metadata": {},
     "output_type": "execute_result"
    }
   ],
   "source": [
    "x"
   ]
  },
  {
   "cell_type": "code",
   "execution_count": 14,
   "id": "89d26e1a-bffd-4616-8353-abb3324b2ff0",
   "metadata": {},
   "outputs": [],
   "source": [
    "x =x.upper()"
   ]
  },
  {
   "cell_type": "code",
   "execution_count": 15,
   "id": "fcd38895-4295-40ea-8c8b-ed570bd97eb9",
   "metadata": {},
   "outputs": [
    {
     "data": {
      "text/plain": [
       "'ABCDEFGHJINLKN'"
      ]
     },
     "execution_count": 15,
     "metadata": {},
     "output_type": "execute_result"
    }
   ],
   "source": [
    "x"
   ]
  },
  {
   "cell_type": "markdown",
   "id": "a4ed47f4-15e8-403c-a929-ebbd6455be2c",
   "metadata": {},
   "source": [
    "uper() changes the alphabet letters into the uppercase one, same goes for the lower()\n",
    "split() splits the string bases on the parameter provided in the parenthesis, the by default paramaeter for the spliting is white space\n",
    "so, e.g. a = \"hello world\" in this case calling split on the a, b = a.split() it will split the string across the white space and assign it to the b, yielding the output as the form of a list assigned to the b, so here b = ['hello', 'world']\n",
    "\n",
    "for a = \"hi this is a string\", b = a.split('i'), then b = will be the strings not having the letter i"
   ]
  },
  {
   "cell_type": "code",
   "execution_count": null,
   "id": "faca7490-0f9b-4a20-9751-9fb0dba5c878",
   "metadata": {},
   "outputs": [],
   "source": []
  }
 ],
 "metadata": {
  "kernelspec": {
   "display_name": "Python 3 (ipykernel)",
   "language": "python",
   "name": "python3"
  },
  "language_info": {
   "codemirror_mode": {
    "name": "ipython",
    "version": 3
   },
   "file_extension": ".py",
   "mimetype": "text/x-python",
   "name": "python",
   "nbconvert_exporter": "python",
   "pygments_lexer": "ipython3",
   "version": "3.12.7"
  }
 },
 "nbformat": 4,
 "nbformat_minor": 5
}
