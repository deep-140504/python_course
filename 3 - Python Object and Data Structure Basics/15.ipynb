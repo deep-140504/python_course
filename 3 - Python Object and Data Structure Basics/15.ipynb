{
 "cells": [
  {
   "cell_type": "code",
   "execution_count": 1,
   "id": "807f1c62-0a84-493f-8842-5493923a7e9b",
   "metadata": {},
   "outputs": [
    {
     "data": {
      "text/plain": [
       "'hello'"
      ]
     },
     "execution_count": 1,
     "metadata": {},
     "output_type": "execute_result"
    }
   ],
   "source": [
    "'hello'"
   ]
  },
  {
   "cell_type": "code",
   "execution_count": 2,
   "id": "a510f375-0e3d-44dd-b694-2b8ef82419ea",
   "metadata": {},
   "outputs": [
    {
     "data": {
      "text/plain": [
       "'this is also a stering'"
      ]
     },
     "execution_count": 2,
     "metadata": {},
     "output_type": "execute_result"
    }
   ],
   "source": [
    "'this is also a stering'"
   ]
  },
  {
   "cell_type": "code",
   "execution_count": null,
   "id": "d2d859aa-a91e-48b9-98d7-2cc53c86bd31",
   "metadata": {},
   "outputs": [],
   "source": [
    "'I'\\''"
   ]
  }
 ],
 "metadata": {
  "kernelspec": {
   "display_name": "Python 3 (ipykernel)",
   "language": "python",
   "name": "python3"
  },
  "language_info": {
   "codemirror_mode": {
    "name": "ipython",
    "version": 3
   },
   "file_extension": ".py",
   "mimetype": "text/x-python",
   "name": "python",
   "nbconvert_exporter": "python",
   "pygments_lexer": "ipython3",
   "version": "3.12.7"
  }
 },
 "nbformat": 4,
 "nbformat_minor": 5
}
